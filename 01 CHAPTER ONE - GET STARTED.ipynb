{
 "cells": [
  {
   "cell_type": "markdown",
   "id": "e7212739",
   "metadata": {},
   "source": [
    "<div style=\"text-align: right\"><b>DS50 2024</b> | Python by <a href=\"https://www.linkedin.com/in/bemnetdev/\">Bemnet Girma</a></div>\n",
    "\n",
    "#\n",
    "# <center><font size=\"80\">🚀</font><br><br>CHAPTER ONE<br><br><font size=\"80\">GET STARTED</font><br><br><hr style=\"border:6px solid black\"> </hr></center>"
   ]
  },
  {
   "cell_type": "markdown",
   "id": "0dcb023d",
   "metadata": {},
   "source": [
    "## Lesson One : Introduction to Programming\n",
    "Computers are dumb. Computers are only smart because we program them to be."
   ]
  },
  {
   "cell_type": "markdown",
   "id": "a46eb38f",
   "metadata": {},
   "source": [
    "### <font color='red'>What is Programming?</font>\n",
    "Programming is the process of preparing an instructional program for a device to do some task without making mistakes.\n",
    "\n",
    "There are two types of languages for communication between a computer and a programmer (human).\n",
    "\n",
    "<b>1. Machine language:</b> which is a binary code (series of 0s and 1s) and computers understood it and it is difficult for humans to understand.\n",
    "\n",
    "<b>2. Programming language:</b> which is a source code and humans understood it and computers could not."
   ]
  },
  {
   "cell_type": "markdown",
   "id": "1c5bc518",
   "metadata": {},
   "source": [
    "### <font color='red'>What is Programming Language?</font>\n",
    "A programming language is a formal language, which includes a set of instructions that helps a programmer to communicate or interact with a computer.\n",
    "\n",
    "Programming Language is classified into two categories, based on the level (Degree) of abstraction and gap between source code and machine code.\n",
    "\n",
    "<b>1. Source code</b> is any collection of code, written using a human-readable programming language, usually as plain text.\n",
    "\n",
    "<b>2. Machine code</b> is a computer program written in machine language instructions that can be executed directly by a computer's control unit."
   ]
  },
  {
   "cell_type": "markdown",
   "id": "605db029",
   "metadata": {},
   "source": [
    "### High-level language Vs low-level language\n",
    "High level programming languages are those which are programmer friendly. Humans can easily understand it which helps in easy maintaining and debugging of the code.\n",
    "\n",
    "<blockquote>Examples – Java, C, C++, Python</blockquote>\n",
    "\n",
    "Low level programming languages are those which are machine friendly. Humans can’t understand such languages. In other words, low level languages are not human readable.\n",
    "\n",
    "<blockquote>Examples – Assembly language, Machine language.</blockquote>\n",
    "\n",
    "<i><b><font color='blue'>PS. Computers only understand machine code.</font></b></i>"
   ]
  },
  {
   "cell_type": "markdown",
   "id": "dd670f45",
   "metadata": {},
   "source": [
    "## Lesson Two : Compiler and Interpreter"
   ]
  },
  {
   "cell_type": "markdown",
   "id": "05c00ba1",
   "metadata": {},
   "source": [
    "### <font color='red'>What is Compiler?</font>\n",
    "A compiler is a computer program that translates source code written in one programming language (the source language) into another language (the target language) to create an executable program."
   ]
  },
  {
   "cell_type": "markdown",
   "id": "4dae24fd",
   "metadata": {},
   "source": [
    "### <font color='red'>What is Interpreter?</font>\n",
    "An interpreter is a computer program that directly executes instructions written in a programming language, without requiring them previously to have been compiled into a machine language program."
   ]
  },
  {
   "cell_type": "markdown",
   "id": "4850a1ee",
   "metadata": {},
   "source": [
    "### <b>Compiler Vs Interpreter</b>\n",
    "All the programming languages are converted to machine understandable language for execution. The\n",
    "conversion is taken care of by compilers and interpreters.\n",
    "\n",
    "A compiler takes the source code and converts it into machine executable code at once. The processor takes the executable and executes it. The languages which use a compiler are called compiled languages. Compiled languages are faster and more efficient comparatively.\n",
    "\n",
    "<blockquote>Examples – Java, C++</blockquote>\n",
    "\n",
    "An interpreter is one which runs the code line by line and executes instruction by instruction. The languages which use interpreters are called Interpreted languages. Such languages are slower in terms of execution and less efficient.\n",
    "\n",
    "<i>💡Suppose, you want watch an Italian movie, but you doesn’t understand Italian. However you can understand English, you have two options to watch the movie. First way is to watch a English dubbed version of the movie, if available. Second way is to\n",
    "watch the Italian movie with English subtitles. In the second way, the subtitles are displayed scene by scene separately whereas in the first way all the scenes are converted to English. We can compare the first scenario with the compiler and the second one with the interpreter.</i>\n",
    "    \n",
    "<blockquote>Examples – PHP, Python, Ruby</blockquote>"
   ]
  },
  {
   "cell_type": "markdown",
   "id": "d61f65f3",
   "metadata": {},
   "source": [
    "<img src=\"https://raw.githubusercontent.com/bemnetdev/Python/main/Images/Interpreter.png\" align=\"left\" width=\"35%\">"
   ]
  },
  {
   "cell_type": "markdown",
   "id": "33349191",
   "metadata": {},
   "source": [
    "## Lesson Three : How to write and run a code?"
   ]
  },
  {
   "cell_type": "markdown",
   "id": "830100dc",
   "metadata": {},
   "source": [
    "### <font color='red'>How to write a code?</font>\n",
    "To write and execute a c program on our computer we need to install two basic Application softwares called Editor (IDE) and compiler on our computer. The editor is used to write our source code and compiler used to compile and execute our source\n",
    "code. There are many editors and compilers available for Python programming. You need to download any one. But here we use Jupyter Notebook as an IDE."
   ]
  },
  {
   "cell_type": "markdown",
   "id": "c4ec0081",
   "metadata": {},
   "source": [
    "### <font color='red'>What is IDE?</font>\n",
    "IDE (Integrated Development Environment) is a place (graphic interface) to write, run, and debug (check errors) code and also convert your source code to machine code.\n",
    "\n",
    "<blockquote>Examples: Visual Studio, IDLE, PyCharm, Jupyter Notebook</blockquote>"
   ]
  },
  {
   "cell_type": "markdown",
   "id": "6dd8477a",
   "metadata": {},
   "source": [
    "### <font color='red'>How to run (execute) a code?</font>\n",
    "You can’t simply type rubbish in an IDE, convert it to machine code and expect the computer to understand it. Each programming language has its own set of rules (Grammar) you must follow within an IDE called Syntax."
   ]
  },
  {
   "cell_type": "markdown",
   "id": "1870a846",
   "metadata": {},
   "source": [
    "### <font color='red'>What is Syntax?</font>\n",
    "Syntax is set of rules you must follow to a tee if you want your program to run correctly. Syntax for each programming language is unique.\n",
    "\n",
    "<i><b><font color='blue'>PS. Breaking programming rules will result in an error.</font></b></i>\n",
    "\n",
    "<blockquote>Example:<br><font color='red'>Mens clothes are cheap.</font><br>Men’s clothes are cheap</blockquote>"
   ]
  },
  {
   "cell_type": "markdown",
   "id": "4f0c51e2",
   "metadata": {},
   "source": [
    "# // END OF CHAPTER ONE\n",
    "<a href=\"https://www.linkedin.com/in/bemnetdev/\">Click here</a> for Chapter Two"
   ]
  }
 ],
 "metadata": {
  "kernelspec": {
   "display_name": "Python 3 (ipykernel)",
   "language": "python",
   "name": "python3"
  },
  "language_info": {
   "codemirror_mode": {
    "name": "ipython",
    "version": 3
   },
   "file_extension": ".py",
   "mimetype": "text/x-python",
   "name": "python",
   "nbconvert_exporter": "python",
   "pygments_lexer": "ipython3",
   "version": "3.11.5"
  }
 },
 "nbformat": 4,
 "nbformat_minor": 5
}
