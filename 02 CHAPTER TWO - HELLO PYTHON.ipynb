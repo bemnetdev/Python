{
 "cells": [
  {
   "cell_type": "markdown",
   "id": "5d9d557b",
   "metadata": {},
   "source": [
    "<div style=\"text-align: right\"><b>DS50 2024</b> | Python by <a href=\"https://www.linkedin.com/in/bemnetdev/\">Bemnet Girma</a></div>\n",
    "\n",
    "#\n",
    "# <center><font size=\"80\">🤗</font><br><br>CHAPTER TWO<br><br><font size=\"80\">HELLO PYTHON</font><br><br><hr style=\"border:6px solid black\"> </hr></center>"
   ]
  },
  {
   "cell_type": "markdown",
   "id": "3916f4a6",
   "metadata": {},
   "source": [
    "## Lesson One : Introduction to Python\n",
    "To better communicate with a computer you should have to learn a programming language, Even though you have translators like compiler and interpreter. But which programming language? The answer would be simple, used for different / multiple purposes, i.e. Python."
   ]
  },
  {
   "cell_type": "markdown",
   "id": "72106756",
   "metadata": {},
   "source": [
    "### <font color='red'>What is Python?</font>\n",
    "Python is simple, general purpose, dynamic, object oriented, interpreted as well as compiled, high - level programming language.\n",
    "\n",
    "In details Python is\n",
    "* <b>Simple</b> – It is easy to learn and code.\n",
    "* <b>General purpose</b> – It can be used to build just about anything.\n",
    "* <b>High level language</b> – It is human readable language which easily understandable and\n",
    "* <b>Easy to debug</b> – It is easy to check and correct your error.\n",
    "* <b>Dynamic</b> – You don’t need to write everything to instruct your computer.\n",
    "* <b>Object Oriented</b> – Structure of python program can be grouped based on its behavior.\n",
    "* <b>Interpreted as well as compiled</b> – Python is basically called an interpreted language, but can also be called a compiled interpreted language.\n",
    "\n",
    "In Python, first source code compiles into a bytecode then bytecode is sent for execution to PVM (Python Virtual Machine). The PVM is an interpreter that runs the bytecode"
   ]
  },
  {
   "cell_type": "markdown",
   "id": "c47ba215",
   "metadata": {},
   "source": [
    "### <font color='red'>Why we study Python?</font>\n",
    "Because Python is\n",
    "* One of easiest language\n",
    "* Fastest growing language\n",
    "* Vast implementation areas\n",
    "* Used in many companies"
   ]
  },
  {
   "cell_type": "markdown",
   "id": "857a4c39",
   "metadata": {},
   "source": [
    "<img src=\"https://raw.githubusercontent.com/bemnetdev/Python/main/Images/Companies%20using%20Python.png\" align=\"left\" width=\"75%\">"
   ]
  },
  {
   "cell_type": "markdown",
   "id": "7202b932",
   "metadata": {},
   "source": [
    "### History or Origin of Python"
   ]
  },
  {
   "cell_type": "markdown",
   "id": "a36875ce",
   "metadata": {},
   "source": [
    "<img src=\"https://raw.githubusercontent.com/bemnetdev/Python/main/Images/Python%20Creator%20-Guido%20Van%20Rossum.png\" align=\"left\" width=\"13%\">"
   ]
  },
  {
   "cell_type": "markdown",
   "id": "ca00d0ca",
   "metadata": {},
   "source": [
    "* It was invented in the Netherlands in the early 90’s.\n",
    "* Guido Van Rossum was the creator of this beautiful language.\n",
    "* Guido released the first version in 1991.\n",
    "* Python was derived from ABC programming language, a general purpose programming language.\n",
    "* It is open source software which can be downloaded freely and the code is customizable as well."
   ]
  },
  {
   "cell_type": "markdown",
   "id": "0a01db4f",
   "metadata": {},
   "source": [
    "### <font color='red'>Why the name Python?</font>\n",
    "<i>💡 There was a TV show by the name Monty Python’s Flying Circus which was a very much popular fun show in the 1970’s. While creating Python, Guido also used to read this show’s published scripts. Guido needed a short and a different name for this language, hence he named it “Python”.</i>"
   ]
  },
  {
   "cell_type": "markdown",
   "id": "2e1d4f61",
   "metadata": {},
   "source": [
    "### Python Versions\n",
    "* Python 1.0V introduced in Jan 1994\n",
    "* Python 2.0V introduced in October 2000\n",
    "* Python 3.0V introduced in December 2008.\n",
    "* Current version is 3.12 (Feb 2024)\n",
    "\n",
    "<i><b><font color='blue'>PS. Python 3 won’t provide backward compatibility to Python2 i.e. there is no guarantee that Python2 programs will run in Python3.</font></b></i>"
   ]
  },
  {
   "cell_type": "markdown",
   "id": "0804f195",
   "metadata": {},
   "source": [
    "### Features of Python\n",
    "* <b>Simple</b> - Python syntax is very easy. Developing and understanding python is very easy than others. The below comparison illustrated how simple python language is when compared to other languages.\n",
    "\n",
    "<blockquote><b>Hello World Program in C language</b>\n",
    "\n",
    "<code>#include <stdio.h>\n",
    "int main()\n",
    "{\n",
    "    printf(\"Hello World\")\n",
    "    return 0\n",
    "}</code>\n",
    "\n",
    "<b>Hello World Program in Python</b>\n",
    "    \n",
    "<code>print(\"Hello World\")</code></blockquote>\n",
    "* <b>Open Source</b> - We can download freely and customize the code as well\n",
    "* <b>Platform independent</b> - Python programs are not dependent on any specific operating systems. We can run on all operating systems happily.\n",
    "* <b>Portable</b> - If a program gives the same result on any platform then it is a portable program. Python used to give the same result on any platform.\n",
    "* <b>Huge library</b> - Python has a big library to fulfil the requirements.\n",
    "* <b>Database connectivity</b> - Python provides interfaces to connect with all major databases like, oracle, MySQL."
   ]
  },
  {
   "cell_type": "markdown",
   "id": "7cc967f2",
   "metadata": {},
   "source": [
    "## Lesson Two : Applications of Python\n",
    "Python is a programming language that does it all, from web applications to video-games, Data Science, Machine Learning, real-time applications to embedded applications, and so much more. In this lesson, we’ll take a deeper dive into a broader list of\n",
    "applications of Python out in the wild."
   ]
  },
  {
   "cell_type": "markdown",
   "id": "efa6632d",
   "metadata": {},
   "source": [
    "### 1. Web Development\n",
    "I hope you are familiar with what web development is. Python is used to develop fully functional website using web development frameworks like Flask and Django. Using Python for web development also offers several other benefits, such as security, easy\n",
    "scalability, and convenience in the development process. Python also has one of the largest collections of libraries that not only enhance the functionality of web applications but also make it easier to do so.\n",
    "\n",
    "### 2. Game Development\n",
    "If Python can do web development, what’s stopping it from being used in game development? The answer is nothing! Just like web development, Python comes equipped with an arsenal of tools and libraries for 2D, 3D and video game development like PyGame.\n",
    "\n",
    "### 3. AI and Machine Learning\n",
    "Artificial Intelligence(AI) and Machine Learning are undoubtedly among the hottest topics of this decade. These are the brains behind the smart tech that we so rely on today to help us make optimized decisions. Python, along with a handful of other programming languages, has seen a steep increase in their use for developing AI and ML-powered solutions like YouTube video recommendations. We have TensorFlow, PyTorch, Pandas, Scikit-Learn, NumPy, SciPy, and more libraries.\n",
    "\n",
    "### 4. Desktop and Mobile Applications\n",
    "Python offers plenty of options to desktop and mobile application developers to build super-fast, responsive and fully functional GUI using tools like Tkinter and Kivy.\n",
    "\n",
    "### 5. Image Processing\n",
    "Due to the ever-increasing use of Machine Learning, the role of image (pre)processing tools has also skyrocketed. To fulfill this demand, Python offers a host of libraries that are useful for multiple applications like face recognition & image detection. Some of the popular image processing Python libraries include OpenCV and Python Imaging Library(PIL).\n",
    "\n",
    "### 6. Text Processing\n",
    "Text Processing is among the most common uses of Python. Text Processing allows you to handle enormous volumes of text while giving you the flexibility to structure it as you wish. Do you ever think how facebook detects hate speech posts and comments? Well, that has done with Python’s text processing capabilities.\n",
    "\n",
    "### 7. Audio and Video Applications\n",
    "When it comes to working with audio and video files, python is fully equipped with tools and libraries to accomplish your task. Tasks such as basic signal processing, creative audio manipulation, audio recognition, and more can be easily handled by libraries like Pyo, pyAudioAnalysis, Dejavu, and many other libraries like it.\n",
    "\n",
    "As for the video part, Python offers several libraries, such as Scikit-video, OpenCV, and SciPy, that can help you manipulate and prepare videos for use in other applications. Popular audio & video streaming applications like Spotify, Netflix, and YouTube are written in Python.\n",
    "\n",
    "### 8. Web Scraping Applications\n",
    "The internet is home to an enormous amount of information ready to be utilized. What Web Scrapers essentially do is they crawl the websites they’re directed towards and store all the collected information from their web pages in one place.  From there onwards, this data could be used by researchers, analysts, individuals, organizations for a broad range of tasks.\n",
    "\n",
    "With Python’s simple code, building and using Web Scrapers becomes a lot easier. A few examples of the tools behind the Web Scrapers are PythonRequest, BeautifulSoup and Selenium. Web Scrapers are being commonly used in stock markets, price trackers, research analysis and digital marketing.\n",
    "\n",
    "### 9. Data Science and Data Visualization\n",
    "Data plays a decisive role in the modern world. Why? because it is key to understanding the people and their taste in things around them by gathering and analyzing crucial insights about them. This is what the entire domain of Data Science revolves around. Data Science involves identifying the problem, data collection, data processing, data exploration, data analysis, and data visualization.\n",
    "\n",
    "The Python ecosystem offers several libraries that can help you tackle your Data Science problems head-on. We have Matplotlib and Seaborn as the most widely used data visualization tools.\n",
    "\n",
    "### 10. Scientific and Numeric Applications\n",
    "AI, ML, and Data Science projects still require intensive computations in the form of linear algebra, high-level mathematical functions, and similar, Python is well equipped for them too. Python helped scientists and researchers conclude countless number-crunching problems and uncover new findings. FreeCAD and Abaqus are some realworld examples of numerical and scientific applications built with Python.\n",
    "\n",
    "### Conclusion\n",
    "Python is an extremely robust and versatile programming language that is rapidly gaining popularity among developers from various sectors. Its ability to be deployed into virtually any domain is remarkable, thanks to its vast ecosystem of diverse libraries."
   ]
  },
  {
   "cell_type": "markdown",
   "id": "26922fe5",
   "metadata": {},
   "source": [
    "# // END OF CHAPTER TWO\n",
    "<a href=\"https://github.com/bemnetdev/Python/blob/main/03%20CHAPTER%20THREE%20-%20SETUP%20PYTHON.ipynb\">Click here</a> for Chapter Three"
   ]
  }
 ],
 "metadata": {
  "kernelspec": {
   "display_name": "Python 3 (ipykernel)",
   "language": "python",
   "name": "python3"
  },
  "language_info": {
   "codemirror_mode": {
    "name": "ipython",
    "version": 3
   },
   "file_extension": ".py",
   "mimetype": "text/x-python",
   "name": "python",
   "nbconvert_exporter": "python",
   "pygments_lexer": "ipython3",
   "version": "3.11.5"
  }
 },
 "nbformat": 4,
 "nbformat_minor": 5
}
