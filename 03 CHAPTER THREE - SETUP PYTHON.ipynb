{
 "cells": [
  {
   "cell_type": "markdown",
   "id": "5cefb29d",
   "metadata": {},
   "source": [
    "<div style=\"text-align: right\"><b>DS50 2024</b> | Python by <a href=\"https://www.linkedin.com/in/bemnetdev/\">Bemnet Girma</a></div>\n",
    "\n",
    "#\n",
    "# <center><font size=\"80\">✅</font><br><br>CHAPTER THREE<br><br><font size=\"80\">SETUP PYTHON</font><br><br><hr style=\"border:6px solid black\"> </hr></center>"
   ]
  },
  {
   "cell_type": "markdown",
   "id": "467dc3f9",
   "metadata": {},
   "source": [
    "## Lesson One : Python Installation"
   ]
  },
  {
   "cell_type": "markdown",
   "id": "f46189f3",
   "metadata": {},
   "source": [
    "### Jupyter Notebook\n",
    "Jupyter Notebook is an open source web application that you can use to create and share live code.\n",
    "\n",
    "### <font color='red'>How to install Jupyter Notebook?</font>\n",
    "* Download Anaconda\n",
    "    * Visit the link http://anaconda.org\n",
    "    * Click Download Anaconda\n",
    "    * Select Window / Mac\n",
    "    * Download python 3.6 version\n",
    "* Open downloaded file\n",
    "* Click continue\n",
    "* Click install for me only\n",
    "* You get notification <b>‘The installation was completed successfully’</b>\n",
    "* Click close\n",
    "\n",
    "### <font color='red'>How to write and run a code on Jupyter Notebook?</font>\n",
    "\n",
    "* Open anaconda prompt\n",
    "* Select desired folder from the given list of directories\n",
    "* Click new\n",
    "* Click python 3\n",
    "* Write your code inside the cells\n",
    "\n",
    "<blockquote>\n",
    "Example: Program to print Hello World\n",
    "    \n",
    "<code>print(\"Hello World\")</code>\n",
    "</blockquote>\n",
    "\n",
    "* Rename file name\n",
    "* Click file\n",
    "* Click save as\n",
    "* Click file path (This is optional)\n",
    "* Click save\n",
    "* Click ‘Shift + Enter’ to run your code\n",
    "* Finally you will get an output ‘Hello World’ on next line to your code Else you made a mistake, so recheck it once again."
   ]
  },
  {
   "cell_type": "code",
   "execution_count": 1,
   "id": "1f2a5fb0",
   "metadata": {},
   "outputs": [
    {
     "name": "stdout",
     "output_type": "stream",
     "text": [
      "Hello World\n"
     ]
    }
   ],
   "source": [
    "print(\"Hello World\")"
   ]
  },
  {
   "cell_type": "markdown",
   "id": "5e4b3563",
   "metadata": {},
   "source": [
    "### The Zen of Python\n",
    "💡To See List of 19 ‘<b>Guide principles of python</b>’ run the code below"
   ]
  },
  {
   "cell_type": "code",
   "execution_count": 2,
   "id": "9de3847b",
   "metadata": {},
   "outputs": [
    {
     "name": "stdout",
     "output_type": "stream",
     "text": [
      "The Zen of Python, by Tim Peters\n",
      "\n",
      "Beautiful is better than ugly.\n",
      "Explicit is better than implicit.\n",
      "Simple is better than complex.\n",
      "Complex is better than complicated.\n",
      "Flat is better than nested.\n",
      "Sparse is better than dense.\n",
      "Readability counts.\n",
      "Special cases aren't special enough to break the rules.\n",
      "Although practicality beats purity.\n",
      "Errors should never pass silently.\n",
      "Unless explicitly silenced.\n",
      "In the face of ambiguity, refuse the temptation to guess.\n",
      "There should be one-- and preferably only one --obvious way to do it.\n",
      "Although that way may not be obvious at first unless you're Dutch.\n",
      "Now is better than never.\n",
      "Although never is often better than *right* now.\n",
      "If the implementation is hard to explain, it's a bad idea.\n",
      "If the implementation is easy to explain, it may be a good idea.\n",
      "Namespaces are one honking great idea -- let's do more of those!\n"
     ]
    }
   ],
   "source": [
    "import this"
   ]
  },
  {
   "cell_type": "markdown",
   "id": "316972b2",
   "metadata": {},
   "source": [
    "### HELP PROMPT\n",
    "💡While you are learning python, if you stack somewhere, You can get help using the following codes:\n",
    "\n",
    "Type any topic from the given list of Python topics, \n",
    "<blockquote>Fore example type ‘NUMBERS’</blockquote>\n",
    "Finally close help prompt by running '<b>q</b>'"
   ]
  },
  {
   "cell_type": "code",
   "execution_count": 3,
   "id": "ab2791eb",
   "metadata": {},
   "outputs": [
    {
     "name": "stdout",
     "output_type": "stream",
     "text": [
      "\n",
      "Welcome to Python 3.11's help utility!\n",
      "\n",
      "If this is your first time using Python, you should definitely check out\n",
      "the tutorial on the internet at https://docs.python.org/3.11/tutorial/.\n",
      "\n",
      "Enter the name of any module, keyword, or topic to get help on writing\n",
      "Python programs and using Python modules.  To quit this help utility and\n",
      "return to the interpreter, just type \"quit\".\n",
      "\n",
      "To get a list of available modules, keywords, symbols, or topics, type\n",
      "\"modules\", \"keywords\", \"symbols\", or \"topics\".  Each module also comes\n",
      "with a one-line summary of what it does; to list the modules whose name\n",
      "or summary contain a given string such as \"spam\", type \"modules spam\".\n",
      "\n",
      "help> NUMBERS\n",
      "Numeric literals\n",
      "****************\n",
      "\n",
      "There are three types of numeric literals: integers, floating point\n",
      "numbers, and imaginary numbers.  There are no complex literals\n",
      "(complex numbers can be formed by adding a real number and an\n",
      "imaginary number).\n",
      "\n",
      "Note that numeric literals do not include a sign; a phrase like \"-1\"\n",
      "is actually an expression composed of the unary operator ‘\"-\"’ and the\n",
      "literal \"1\".\n",
      "\n",
      "Related help topics: INTEGER, FLOAT, COMPLEX, TYPES\n",
      "\n",
      "help> q\n",
      "\n",
      "You are now leaving help and returning to the Python interpreter.\n",
      "If you want to ask for help on a particular object directly from the\n",
      "interpreter, you can type \"help(object)\".  Executing \"help('string')\"\n",
      "has the same effect as typing a particular string at the help> prompt.\n"
     ]
    }
   ],
   "source": [
    " help()"
   ]
  },
  {
   "cell_type": "markdown",
   "id": "102b3dde",
   "metadata": {},
   "source": [
    "You can also get help simply by typing one line of code as follows"
   ]
  },
  {
   "cell_type": "code",
   "execution_count": 4,
   "id": "d06ef1af",
   "metadata": {},
   "outputs": [
    {
     "name": "stdout",
     "output_type": "stream",
     "text": [
      "Numeric literals\n",
      "****************\n",
      "\n",
      "There are three types of numeric literals: integers, floating point\n",
      "numbers, and imaginary numbers.  There are no complex literals\n",
      "(complex numbers can be formed by adding a real number and an\n",
      "imaginary number).\n",
      "\n",
      "Note that numeric literals do not include a sign; a phrase like \"-1\"\n",
      "is actually an expression composed of the unary operator ‘\"-\"’ and the\n",
      "literal \"1\".\n",
      "\n",
      "Related help topics: INTEGER, FLOAT, COMPLEX, TYPES\n",
      "\n"
     ]
    }
   ],
   "source": [
    " help('NUMBERS')"
   ]
  },
  {
   "cell_type": "markdown",
   "id": "642639af",
   "metadata": {},
   "source": [
    "# // END OF CHAPTER THREE\n",
    "<a href=\"https://github.com/bemnetdev/Python/blob/main/04%20CHAPTER%20FOUR%20-%20VARIABLES.ipynb\">Click here</a> for Chapter Four"
   ]
  }
 ],
 "metadata": {
  "kernelspec": {
   "display_name": "Python 3 (ipykernel)",
   "language": "python",
   "name": "python3"
  },
  "language_info": {
   "codemirror_mode": {
    "name": "ipython",
    "version": 3
   },
   "file_extension": ".py",
   "mimetype": "text/x-python",
   "name": "python",
   "nbconvert_exporter": "python",
   "pygments_lexer": "ipython3",
   "version": "3.11.5"
  }
 },
 "nbformat": 4,
 "nbformat_minor": 5
}
