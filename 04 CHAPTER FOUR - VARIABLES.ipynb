{
 "cells": [
  {
   "cell_type": "markdown",
   "id": "bc4fd6b8",
   "metadata": {},
   "source": [
    "<div style=\"text-align: right\"><b>DS50 2024</b> | Python by <a href=\"https://www.linkedin.com/in/bemnetdev/\">Bemnet Girma</a></div>\n",
    "\n",
    "#\n",
    "# <center><font size=\"80\">📦</font><br><br>CHAPTER THREE<br><br><font size=\"80\">VARIABLES</font><br><br><hr style=\"border:6px solid black\"> </hr></center>"
   ]
  },
  {
   "cell_type": "markdown",
   "id": "a74362de",
   "metadata": {},
   "source": [
    "## Lesson One : Introduction to Variables"
   ]
  },
  {
   "cell_type": "markdown",
   "id": "66d08512",
   "metadata": {},
   "source": [
    "### <font color='red'>What is Variable?</font>\n",
    "Variable is the name which we give to the memory location which holds some data. With a variable we can store the data, access the data and also manipulate the data.\n",
    "\n",
    "<i><b><font color='blue'>PS. Variable is a container where you can store a value.</font></b></i>\n",
    "\n",
    "To summarize, a variable is a\n",
    "* Name\n",
    "* Refers to a value\n",
    "* Hold some data\n",
    "* Name of a memory location\n",
    "\n",
    "💡<i>Let us consider librarians, how could they storeand access ton of books? They just make catalogue of books based on their genre with their reference location. That is how variables also works.</i>"
   ]
  },
  {
   "cell_type": "markdown",
   "id": "a90d197d",
   "metadata": {},
   "source": [
    "### Properties of a Variable\n",
    "<b>1. Type:</b>\n",
    "\n",
    "💡<i>What type of data you store in the variable?</i>\n",
    "\n",
    "Each data have a type whether it is number word or something and each variable should belong to one of the data types. This is called the data type of the variable.\n",
    "\n",
    "<b>2. Scope:</b>\n",
    "\n",
    "💡<i>Who can access these data?</i>\n",
    "\n",
    "In any programming language, scope refers to the place or limit or boundaries or the part of the program within which the variable is accessible.\n",
    "\n",
    "<b>3. Value:</b>\n",
    "\n",
    "💡<i>What do you store in the variable?</i>\n",
    "\n",
    "Each and every variable in a program holds value of some type which can be accessed or modified during the due flow of the program.\n",
    "\n",
    "<b>4. Location:</b>\n",
    "\n",
    "💡<i>Where you store the variable?</i>\n",
    "\n",
    "As already stated, the data is stored in memory location. The variable is the name which we give to that location. Each memory location has some address associated with it.\n",
    "\n",
    "<b>5. Lifetime:</b>\n",
    "\n",
    "💡<i>Till when the variable will be available?</i>\n",
    "\n",
    "The lifetime of a variable refers to the time period for which the memory location associated with the variable stores the data."
   ]
  },
  {
   "cell_type": "markdown",
   "id": "4d188a29",
   "metadata": {},
   "source": [
    "### <font color='red'>How to create a variable in Python?</font>\n",
    "In python, to create a variable we just need to specify\n",
    "* Name of the variable\n",
    "* Assign value to the variable\n",
    "\n",
    "<blockquote>\n",
    "Syntax to create variable:\n",
    "    \n",
    "<code>name_of_the_variable = value</code>\n",
    "</blockquote>\n",
    "Ex. 4.1 ( Create a variable )"
   ]
  },
  {
   "cell_type": "code",
   "execution_count": 1,
   "id": "3b9e7ff1",
   "metadata": {},
   "outputs": [],
   "source": [
    "age = 21"
   ]
  },
  {
   "cell_type": "markdown",
   "id": "e3523721",
   "metadata": {},
   "source": [
    "### <font color='red'>How can I look for my variables?</font>\n",
    "To see your variable use print() function\n",
    "\n",
    "<blockquote>\n",
    "Syntax to print a variable:\n",
    "    \n",
    "<code>print(name_of_the_variable)</code>\n",
    "</blockquote>\n",
    "Ex. 4.2 ( Print a variable )"
   ]
  },
  {
   "cell_type": "code",
   "execution_count": 2,
   "id": "d46b965f",
   "metadata": {},
   "outputs": [
    {
     "name": "stdout",
     "output_type": "stream",
     "text": [
      "21\n"
     ]
    }
   ],
   "source": [
    "print(age)"
   ]
  },
  {
   "cell_type": "markdown",
   "id": "fd993137",
   "metadata": {},
   "source": [
    "### <font color='red'>What is print() function?</font>\n",
    "print() is a function that can print the specified message to your computer screen.\n",
    "\n",
    "<blockquote>\n",
    "Syntax to print a message / text:\n",
    "\n",
    "<code>print(\"write your message here\")</code>\n",
    "</blockquote>\n",
    "<i><b><font color='blue'>PS. Don’t worry we will discuss more about function later in Function Chapter.</font></b></i>\n",
    "\n",
    "Ex. 4.3 ( Print a message / text )"
   ]
  },
  {
   "cell_type": "code",
   "execution_count": 3,
   "id": "c97a9eba",
   "metadata": {},
   "outputs": [
    {
     "name": "stdout",
     "output_type": "stream",
     "text": [
      "I am John\n"
     ]
    }
   ],
   "source": [
    "print(\"I am John\")"
   ]
  },
  {
   "cell_type": "markdown",
   "id": "9366d1d5",
   "metadata": {},
   "source": [
    "💡<i>What if we want to print some message along with our variable?</i>\n",
    "\n",
    "<i><b><font color='blue'>PS. For sake of simplicity, from now onward v means variable name.</font></b></i>\n",
    "\n",
    "<blockquote>\n",
    "Syntax to print message with a variable:\n",
    "\n",
    "<code>print(\"write your message here\",v)</code>\n",
    "</blockquote>\n",
    "\n",
    "Ex. 4.4 ( Print text along with a variable)"
   ]
  },
  {
   "cell_type": "code",
   "execution_count": 4,
   "id": "ed70deec",
   "metadata": {},
   "outputs": [
    {
     "name": "stdout",
     "output_type": "stream",
     "text": [
      "My age is 21\n"
     ]
    }
   ],
   "source": [
    "print(\"My age is\",age)"
   ]
  },
  {
   "cell_type": "markdown",
   "id": "34c34a42",
   "metadata": {},
   "source": [
    "### <b>`EXERCISE 4.1`<b>\n",
    "\n",
    "`Create a variable \"date\" and store today's date then print it?`\n",
    "\n",
    "`Hint: Output will be like below`\n",
    "\n",
    "`Today's date is 6`"
   ]
  },
  {
   "cell_type": "code",
   "execution_count": 5,
   "id": "1232eca9",
   "metadata": {},
   "outputs": [],
   "source": [
    "# write your answer code here\n"
   ]
  },
  {
   "cell_type": "markdown",
   "id": "b6c4a4fc",
   "metadata": {},
   "source": [
    "💡<i>What if we want to submit value of a variable outside our code like questionnaire?</i>\n",
    "\n",
    "In such scenario we use input() function"
   ]
  },
  {
   "cell_type": "markdown",
   "id": "64c9649a",
   "metadata": {},
   "source": [
    "### <font color='red'>What is input function?</font>\n",
    "input() is a function that can accept values from a user (you).\n",
    "\n",
    "<blockquote>\n",
    "Syntax to submit value of a variable:\n",
    "    \n",
    "<code>v = input(\"Ask user to enter a value\")</code>\n",
    "</blockquote>\n",
    "\n",
    "Ex. 4.5 ( Take input from a user )"
   ]
  },
  {
   "cell_type": "code",
   "execution_count": 6,
   "id": "cf3bfcde",
   "metadata": {},
   "outputs": [
    {
     "name": "stdout",
     "output_type": "stream",
     "text": [
      "Enter your age?\n",
      "19\n",
      "Your age is 19\n"
     ]
    }
   ],
   "source": [
    "age = input(\"Enter your age?\\n\")\n",
    "print(\"Your age is\",age)"
   ]
  },
  {
   "cell_type": "markdown",
   "id": "4ef38db3",
   "metadata": {},
   "source": [
    "Note: We can print meaningful text messages along with variables for better understanding.\n",
    "* Text message we should keep in within double quotes.\n",
    "* Text message and variable name should be separated by comma symbol."
   ]
  },
  {
   "cell_type": "markdown",
   "id": "d8814daf",
   "metadata": {},
   "source": [
    "### <b>`EXERCISE 4.2`<b>\n",
    "\n",
    "`Create a variable \"bd\" and take input birth date from user then print it?`\n",
    "\n",
    "`Hint: Output will be like below`\n",
    "\n",
    "<b>`Tell me your birthdate?`</b>\n",
    "    \n",
    "<b>`6`</b>\n",
    "    \n",
    "<b>`Your birthdate is 6`</b>"
   ]
  },
  {
   "cell_type": "code",
   "execution_count": 7,
   "id": "9a38760a",
   "metadata": {},
   "outputs": [],
   "source": [
    "# write your answer code here\n"
   ]
  },
  {
   "cell_type": "markdown",
   "id": "b62b59ee",
   "metadata": {},
   "source": [
    "### Invalid cases for variables\n",
    "While defining variables in python,\n",
    "* Variable names should be on the left side.\n",
    "* Value should be on the right side.\n",
    "* Violating this will result in syntax error.\n",
    "\n",
    "Ex. 4.6 ( Creating a variable in wrong direction )"
   ]
  },
  {
   "cell_type": "code",
   "execution_count": 8,
   "id": "1e1f0f5b",
   "metadata": {},
   "outputs": [
    {
     "ename": "SyntaxError",
     "evalue": "cannot assign to literal here. Maybe you meant '==' instead of '='? (106372718.py, line 1)",
     "output_type": "error",
     "traceback": [
      "\u001b[1;36m  Cell \u001b[1;32mIn[8], line 1\u001b[1;36m\u001b[0m\n\u001b[1;33m    17 = age\u001b[0m\n\u001b[1;37m    ^\u001b[0m\n\u001b[1;31mSyntaxError\u001b[0m\u001b[1;31m:\u001b[0m cannot assign to literal here. Maybe you meant '==' instead of '='?\n"
     ]
    }
   ],
   "source": [
    "17 = age"
   ]
  },
  {
   "cell_type": "markdown",
   "id": "4646253a",
   "metadata": {},
   "source": [
    "### Rules for creating a variable\n",
    "<b>1. must start with letter or underscore</b>\n",
    "\n",
    "Ex. 4.7 ( Creating a variable with underscore )"
   ]
  },
  {
   "cell_type": "code",
   "execution_count": 9,
   "id": "b0e96097",
   "metadata": {},
   "outputs": [
    {
     "name": "stdout",
     "output_type": "stream",
     "text": [
      "23\n"
     ]
    }
   ],
   "source": [
    "_age = 23\n",
    "print(_age)"
   ]
  },
  {
   "cell_type": "markdown",
   "id": "a1b8a455",
   "metadata": {},
   "source": [
    "<b>2. cannot start with number</b>\n",
    "\n",
    "Ex. 4.8 ( Creating a variable starts with number )"
   ]
  },
  {
   "cell_type": "code",
   "execution_count": 10,
   "id": "e22aff4d",
   "metadata": {},
   "outputs": [
    {
     "ename": "SyntaxError",
     "evalue": "invalid decimal literal (1368145740.py, line 1)",
     "output_type": "error",
     "traceback": [
      "\u001b[1;36m  Cell \u001b[1;32mIn[10], line 1\u001b[1;36m\u001b[0m\n\u001b[1;33m    1dollar = 76\u001b[0m\n\u001b[1;37m    ^\u001b[0m\n\u001b[1;31mSyntaxError\u001b[0m\u001b[1;31m:\u001b[0m invalid decimal literal\n"
     ]
    }
   ],
   "source": [
    "1dollar = 76"
   ]
  },
  {
   "cell_type": "markdown",
   "id": "4cec453b",
   "metadata": {},
   "source": [
    "<b>3. cannot use any special symbol</b>\n",
    "\n",
    "Ex. 4.9 ( Creating a variable with special symbol )"
   ]
  },
  {
   "cell_type": "code",
   "execution_count": 11,
   "id": "1f63c1e0",
   "metadata": {},
   "outputs": [
    {
     "ename": "SyntaxError",
     "evalue": "invalid syntax (1297499432.py, line 1)",
     "output_type": "error",
     "traceback": [
      "\u001b[1;36m  Cell \u001b[1;32mIn[11], line 1\u001b[1;36m\u001b[0m\n\u001b[1;33m    $dollar = 74\u001b[0m\n\u001b[1;37m    ^\u001b[0m\n\u001b[1;31mSyntaxError\u001b[0m\u001b[1;31m:\u001b[0m invalid syntax\n"
     ]
    }
   ],
   "source": [
    "$dollar = 74"
   ]
  },
  {
   "cell_type": "markdown",
   "id": "fcb3b1f0",
   "metadata": {},
   "source": [
    "<b>4. can’t use space ( instead use underscore )</b>\n",
    "\n",
    "Ex. 4.10 ( Creating a variable using space )"
   ]
  },
  {
   "cell_type": "code",
   "execution_count": 12,
   "id": "18d0983d",
   "metadata": {},
   "outputs": [
    {
     "ename": "SyntaxError",
     "evalue": "invalid syntax (3255088330.py, line 1)",
     "output_type": "error",
     "traceback": [
      "\u001b[1;36m  Cell \u001b[1;32mIn[12], line 1\u001b[1;36m\u001b[0m\n\u001b[1;33m    My Age = 24\u001b[0m\n\u001b[1;37m       ^\u001b[0m\n\u001b[1;31mSyntaxError\u001b[0m\u001b[1;31m:\u001b[0m invalid syntax\n"
     ]
    }
   ],
   "source": [
    "My Age = 24"
   ]
  },
  {
   "cell_type": "markdown",
   "id": "4c3252c3",
   "metadata": {},
   "source": [
    "<b>5. are case sensitive</b>\n",
    "\n",
    "<i><font color='blue'>PS. Case sensitive means you can’t use lowercase letters in place of uppercase and vice versa.</font></i>\n",
    "\n",
    "Ex. 4.11 ( Print a variable using wrong case )"
   ]
  },
  {
   "cell_type": "code",
   "execution_count": 13,
   "id": "9c97ec72",
   "metadata": {},
   "outputs": [
    {
     "ename": "NameError",
     "evalue": "name 'Age' is not defined",
     "output_type": "error",
     "traceback": [
      "\u001b[1;31m---------------------------------------------------------------------------\u001b[0m",
      "\u001b[1;31mNameError\u001b[0m                                 Traceback (most recent call last)",
      "Cell \u001b[1;32mIn[13], line 2\u001b[0m\n\u001b[0;32m      1\u001b[0m age \u001b[38;5;241m=\u001b[39m \u001b[38;5;241m21\u001b[39m\n\u001b[1;32m----> 2\u001b[0m \u001b[38;5;28mprint\u001b[39m(Age)\n",
      "\u001b[1;31mNameError\u001b[0m: name 'Age' is not defined"
     ]
    }
   ],
   "source": [
    "age = 21\n",
    "print(Age)"
   ]
  },
  {
   "cell_type": "markdown",
   "id": "724cd059",
   "metadata": {},
   "source": [
    "<b>6. cannot be a keyword.</b>"
   ]
  },
  {
   "cell_type": "markdown",
   "id": "b1b7ce28",
   "metadata": {},
   "source": [
    "## Lesson Two : Keywords"
   ]
  },
  {
   "cell_type": "markdown",
   "id": "7af71914",
   "metadata": {},
   "source": [
    "### <font color='red'>What is keyword?</font>\n",
    "Keywords are special reserved words, that have specific meanings and purposes.\n",
    "\n",
    "All 33 keywords in python contain only alphabet symbols. All of them are in lower case except True, False, and None.\n",
    "\n",
    "To see all the keywords –"
   ]
  },
  {
   "cell_type": "code",
   "execution_count": 14,
   "id": "92b8fc93",
   "metadata": {},
   "outputs": [
    {
     "data": {
      "text/plain": [
       "['False',\n",
       " 'None',\n",
       " 'True',\n",
       " 'and',\n",
       " 'as',\n",
       " 'assert',\n",
       " 'async',\n",
       " 'await',\n",
       " 'break',\n",
       " 'class',\n",
       " 'continue',\n",
       " 'def',\n",
       " 'del',\n",
       " 'elif',\n",
       " 'else',\n",
       " 'except',\n",
       " 'finally',\n",
       " 'for',\n",
       " 'from',\n",
       " 'global',\n",
       " 'if',\n",
       " 'import',\n",
       " 'in',\n",
       " 'is',\n",
       " 'lambda',\n",
       " 'nonlocal',\n",
       " 'not',\n",
       " 'or',\n",
       " 'pass',\n",
       " 'raise',\n",
       " 'return',\n",
       " 'try',\n",
       " 'while',\n",
       " 'with',\n",
       " 'yield']"
      ]
     },
     "execution_count": 14,
     "metadata": {},
     "output_type": "execute_result"
    }
   ],
   "source": [
    "import keyword\n",
    "keyword.kwlist"
   ]
  },
  {
   "cell_type": "markdown",
   "id": "2ea4a9cc",
   "metadata": {},
   "source": [
    "<i><b><font color='blue'>PS. You cannot use these keywords as a variable, else will result in error.</font></b></i>\n",
    "\n",
    "Ex. 4.12 ( Creating a variable with keyword name )"
   ]
  },
  {
   "cell_type": "code",
   "execution_count": 15,
   "id": "7006aca5",
   "metadata": {},
   "outputs": [
    {
     "ename": "SyntaxError",
     "evalue": "invalid syntax (1046637837.py, line 1)",
     "output_type": "error",
     "traceback": [
      "\u001b[1;36m  Cell \u001b[1;32mIn[15], line 1\u001b[1;36m\u001b[0m\n\u001b[1;33m    class = 4\u001b[0m\n\u001b[1;37m          ^\u001b[0m\n\u001b[1;31mSyntaxError\u001b[0m\u001b[1;31m:\u001b[0m invalid syntax\n"
     ]
    }
   ],
   "source": [
    "class = 4"
   ]
  },
  {
   "cell_type": "markdown",
   "id": "b737a014",
   "metadata": {},
   "source": [
    "### Multiple Variables in a Single Line\n",
    "We can assign multiple variables to multiple values in a single one line. During assignment the variable name on the left hand side should be equal with the values on the right hand side. If not it results in error.\n",
    "\n",
    "Ex. 4.13 ( Assigning multiple variables)"
   ]
  },
  {
   "cell_type": "code",
   "execution_count": 16,
   "id": "7fc6dd4d",
   "metadata": {},
   "outputs": [
    {
     "name": "stdout",
     "output_type": "stream",
     "text": [
      "24 9 4327\n"
     ]
    }
   ],
   "source": [
    "Sid, age, grade = 4327, 24, 9\n",
    "print(age, grade, Sid)"
   ]
  },
  {
   "cell_type": "markdown",
   "id": "1865da68",
   "metadata": {},
   "source": [
    "Ex. 4.14 ( Unequal items on either side )"
   ]
  },
  {
   "cell_type": "code",
   "execution_count": 17,
   "id": "696bd3b8",
   "metadata": {},
   "outputs": [
    {
     "ename": "ValueError",
     "evalue": "not enough values to unpack (expected 3, got 2)",
     "output_type": "error",
     "traceback": [
      "\u001b[1;31m---------------------------------------------------------------------------\u001b[0m",
      "\u001b[1;31mValueError\u001b[0m                                Traceback (most recent call last)",
      "Cell \u001b[1;32mIn[17], line 1\u001b[0m\n\u001b[1;32m----> 1\u001b[0m Sid, age, grade \u001b[38;5;241m=\u001b[39m \u001b[38;5;241m4327\u001b[39m, \u001b[38;5;241m24\u001b[39m\n",
      "\u001b[1;31mValueError\u001b[0m: not enough values to unpack (expected 3, got 2)"
     ]
    }
   ],
   "source": [
    "Sid, age, grade = 4327, 24"
   ]
  },
  {
   "cell_type": "markdown",
   "id": "dca9144a",
   "metadata": {},
   "source": [
    "Ex. 4.15 ( Unequal items on either side )"
   ]
  },
  {
   "cell_type": "code",
   "execution_count": 18,
   "id": "3aa2fa80",
   "metadata": {},
   "outputs": [
    {
     "ename": "ValueError",
     "evalue": "too many values to unpack (expected 2)",
     "output_type": "error",
     "traceback": [
      "\u001b[1;31m---------------------------------------------------------------------------\u001b[0m",
      "\u001b[1;31mValueError\u001b[0m                                Traceback (most recent call last)",
      "Cell \u001b[1;32mIn[18], line 1\u001b[0m\n\u001b[1;32m----> 1\u001b[0m Sid, age \u001b[38;5;241m=\u001b[39m \u001b[38;5;241m4327\u001b[39m, \u001b[38;5;241m24\u001b[39m, \u001b[38;5;241m9\u001b[39m\n",
      "\u001b[1;31mValueError\u001b[0m: too many values to unpack (expected 2)"
     ]
    }
   ],
   "source": [
    "Sid, age = 4327, 24, 9"
   ]
  },
  {
   "cell_type": "markdown",
   "id": "f9405fcd",
   "metadata": {},
   "source": [
    "### Single Value for multiple Variables\n",
    "We can assign a single value to multiple variables simultaneously.\n",
    "\n",
    "Ex. 4.16 ( Assign single value to multiple variables)"
   ]
  },
  {
   "cell_type": "code",
   "execution_count": 19,
   "id": "233b7d4c",
   "metadata": {},
   "outputs": [
    {
     "name": "stdout",
     "output_type": "stream",
     "text": [
      "10 10 10\n"
     ]
    }
   ],
   "source": [
    "Sid = age = grade = 10\n",
    "print(Sid, age, grade)"
   ]
  },
  {
   "cell_type": "markdown",
   "id": "66d4c8f7",
   "metadata": {},
   "source": [
    "## Lesson Three : Variable Operations\n",
    "💡What if we want to know memory location of a variable?\n",
    "\n",
    "#### 1. Memory Location of a variable\n",
    "you can get Memory location of a variable using the syntax below:\n",
    "\n",
    "<blockquote>\n",
    "<code>id(variable_name)</code>\n",
    "</blockquote>\n",
    "    \n",
    "<i><b><font color='blue'>PS. For sake of simplicity, from now onward MA means Memory Address of a variable.</font></b></i>\n",
    "\n",
    "Ex. 4.17 ( Get Memory Location of a variable )"
   ]
  },
  {
   "cell_type": "code",
   "execution_count": 20,
   "id": "95f850bf",
   "metadata": {},
   "outputs": [
    {
     "name": "stdout",
     "output_type": "stream",
     "text": [
      "1$ =  69\n",
      "MA of dollar: 140719801867176\n"
     ]
    }
   ],
   "source": [
    "dollar = 69\n",
    "print(\"1$ = \",dollar)\n",
    "print(\"MA of dollar:\",id(dollar))"
   ]
  },
  {
   "cell_type": "markdown",
   "id": "0c08d297",
   "metadata": {},
   "source": [
    "💡<i>What if we want to change value of a variable?</i>\n",
    "\n",
    "<b>2. Reassigning</b>\n",
    "\n",
    "you can update / reassign value of a variable using the syntax below:\n",
    "\n",
    "<blockquote>\n",
    "<code>v = new_value</code>\n",
    "</blockquote>\n",
    "\n",
    "<i><b><font color='blue'>PS. While variable is reassigning, its memory location also changed.</font></b></i>\n",
    "\n",
    "Ex. 4.18 ( Updating the value of variable )"
   ]
  },
  {
   "cell_type": "code",
   "execution_count": 21,
   "id": "7b75faf3",
   "metadata": {},
   "outputs": [
    {
     "name": "stdout",
     "output_type": "stream",
     "text": [
      "In 2019, $1 = 69\n",
      "MA of dollar in 2019: 140719801867176\n",
      "In 2020, $1 =  72\n",
      "MA of dollar in 2020: 140719801867272\n"
     ]
    }
   ],
   "source": [
    "dollar = 69\n",
    "print(\"In 2019, $1 =\",dollar)\n",
    "print(\"MA of dollar in 2019:\",id(dollar))\n",
    "dollar = 72\n",
    "print(\"In 2020, $1 = \",dollar)\n",
    "print(\"MA of dollar in 2020:\",id(dollar))"
   ]
  },
  {
   "cell_type": "markdown",
   "id": "a48d242e",
   "metadata": {},
   "source": [
    "💡<i>What if we want to delete a variable (remove from memory)?</i>\n",
    "\n",
    "<b>3. Deleting</b>\n",
    "\n",
    "you can delete a variable using the syntax below:\n",
    "\n",
    "<blockquote>\n",
    "<code>del v</code>\n",
    "</blockquote>\n",
    "\n",
    "Ex. 4.19 ( Deleting a variable )"
   ]
  },
  {
   "cell_type": "code",
   "execution_count": 22,
   "id": "6c2f6c66",
   "metadata": {},
   "outputs": [
    {
     "ename": "NameError",
     "evalue": "name 'book' is not defined",
     "output_type": "error",
     "traceback": [
      "\u001b[1;31m---------------------------------------------------------------------------\u001b[0m",
      "\u001b[1;31mNameError\u001b[0m                                 Traceback (most recent call last)",
      "Cell \u001b[1;32mIn[22], line 3\u001b[0m\n\u001b[0;32m      1\u001b[0m book \u001b[38;5;241m=\u001b[39m \u001b[38;5;241m5\u001b[39m\n\u001b[0;32m      2\u001b[0m \u001b[38;5;28;01mdel\u001b[39;00m book\n\u001b[1;32m----> 3\u001b[0m \u001b[38;5;28mprint\u001b[39m(book)\n",
      "\u001b[1;31mNameError\u001b[0m: name 'book' is not defined"
     ]
    }
   ],
   "source": [
    "book = 5\n",
    "del book\n",
    "print(book)"
   ]
  },
  {
   "cell_type": "markdown",
   "id": "e7fe3388",
   "metadata": {},
   "source": [
    "### <font color='red'>Finally, What about Constants?</font>\n",
    "A constant is a type of variable whose value cannot be changed. It is helpful to think of constants as containers that hold information which cannot be changed later.\n",
    "\n",
    "<blockquote>\n",
    "Example – GRAVITY = 9.81\n",
    "</blockquote>\n",
    "    \n",
    "<i><b><font color='blue'>PS. We will discuss more about constants in later Module Chapter.</font></b></i>"
   ]
  },
  {
   "cell_type": "markdown",
   "id": "6c13d391",
   "metadata": {},
   "source": [
    "### <b>`EXERCISE 4.3`<b>\n",
    "\n",
    "`Create a variable \"ap\" and accept \"apple price\" from user, then print user’s apple price “ap” and its memory location, then next reassign apple price to 34, again print apple price and its memory location, finally delete variable \"ap\"?`\n",
    "\n",
    "`Hint: Output will be like below`\n",
    "\n",
    "<b><font color='red'>`NameError: name 'ap' is not defined`</font></b>"
   ]
  },
  {
   "cell_type": "code",
   "execution_count": 23,
   "id": "44c07c84",
   "metadata": {},
   "outputs": [],
   "source": [
    "# write your answer code here\n"
   ]
  },
  {
   "cell_type": "markdown",
   "id": "1f8a65b9",
   "metadata": {},
   "source": [
    "# // END OF CHAPTER FOUR\n",
    "<a href=\"https://www.linkedin.com/in/bemnetdev/\">Click here</a> for Chapter Five"
   ]
  }
 ],
 "metadata": {
  "kernelspec": {
   "display_name": "Python 3 (ipykernel)",
   "language": "python",
   "name": "python3"
  },
  "language_info": {
   "codemirror_mode": {
    "name": "ipython",
    "version": 3
   },
   "file_extension": ".py",
   "mimetype": "text/x-python",
   "name": "python",
   "nbconvert_exporter": "python",
   "pygments_lexer": "ipython3",
   "version": "3.11.5"
  }
 },
 "nbformat": 4,
 "nbformat_minor": 5
}
