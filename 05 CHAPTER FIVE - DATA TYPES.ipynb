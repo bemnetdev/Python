{
 "cells": [
  {
   "cell_type": "markdown",
   "id": "d541673c",
   "metadata": {},
   "source": [
    "<div style=\"text-align: right\"><b>DS50 2024</b> | Python by <a href=\"https://www.linkedin.com/in/bemnetdev/\">Bemnet Girma</a></div>\n",
    "\n",
    "#\n",
    "# <center><font size=\"80\">🔢</font><br><br>CHAPTER FIVE<br><br><font size=\"80\">DATA TYPES</font><br><br><hr style=\"border:6px solid black\"> </hr></center>"
   ]
  },
  {
   "cell_type": "markdown",
   "id": "4100ade8",
   "metadata": {},
   "source": [
    "## Lesson One : Introduction to Data Types\n",
    "All programming languages aim is to create some data then do some actions / operations on the data, i.e. processing data. The data can be categorized into\n",
    "different types. Categorizing the data is important in order to perform the operations on it. That classification, which states the type of data stored in the variable is called data type."
   ]
  },
  {
   "cell_type": "markdown",
   "id": "1212e273",
   "metadata": {},
   "source": [
    "### <font color='red'>What is a data type?</font>\n",
    "Data Type is type of data that to be stored in a variable, simple as that.\n",
    "\n",
    "Generally based on their creations data types can be classified into two types:\n",
    "\n",
    "<b>1. User defined data types:</b> Data types which are created by programmer (you), example is class, module, array etc.\n",
    "\n",
    "<i><b><font color='blue'>PS. Don’t worry, We will discuss it more later in OOPS Chapter.</font></b></i>\n",
    "\n",
    "<b>2. Built-in data types:</b> Data types which are already available in python.\n",
    "\n",
    "Built-in data types also classified into:\n",
    "* None\n",
    "* Bool / booleans\n",
    "* Numeric types\n",
    "    * Int\n",
    "    * Float\n",
    "    * Complex\n",
    "* Sequences / Collections\n",
    "    * list\n",
    "    * tuple\n",
    "    * set\n",
    "    * dict\n",
    "    * str"
   ]
  },
  {
   "cell_type": "markdown",
   "id": "b0579408",
   "metadata": {},
   "source": [
    "💡<i>What if we want to create empty variable (a variable without value)?</i>\n",
    "\n",
    "### None data type\n",
    "None data type represents an object that does not contain any value. If any object has no value, then we can assign that object with None type.\n",
    "\n",
    "<blockquote>\n",
    "Syntax to create None data type variable:\n",
    "    \n",
    "<code>v = None</code>\n",
    "</blockquote>\n",
    "\n",
    "💡<i>How to know a variable is belongs to specific data type?</i>\n",
    "\n",
    "<blockquote>\n",
    "Syntax to know data type of a variable:\n",
    "    \n",
    "<code>type(v)</code>\n",
    "</blockquote>"
   ]
  },
  {
   "cell_type": "markdown",
   "id": "8db41be5",
   "metadata": {},
   "source": [
    "### <font color='red'>What is type() function?</font>\n",
    "type() is an in built or pre-defined function, which is used to check data type of a variable.\n",
    "\n",
    "Ex 5.1 ( Printing None data type )"
   ]
  },
  {
   "cell_type": "code",
   "execution_count": 1,
   "id": "504eab82",
   "metadata": {},
   "outputs": [
    {
     "name": "stdout",
     "output_type": "stream",
     "text": [
      "The Box is None\n",
      "<class 'NoneType'>\n"
     ]
    }
   ],
   "source": [
    "box = None\n",
    "print(\"The Box is\",box)\n",
    "print(type(box))"
   ]
  },
  {
   "cell_type": "markdown",
   "id": "5c08b7d2",
   "metadata": {},
   "source": [
    "💡<i>What if we want to store facts (True / False) values?</i>\n",
    "\n",
    "### Bool ( boolean ) data Type\n",
    "The bool data type represents boolean values in python. bool data type having only two values those are, True and False. Python internally represents, True as 1(one) and False as 0(zero).\n",
    "\n",
    "Ex 5.2 ( Printing bool values )"
   ]
  },
  {
   "cell_type": "code",
   "execution_count": 2,
   "id": "930ea9fc",
   "metadata": {},
   "outputs": [
    {
     "name": "stdout",
     "output_type": "stream",
     "text": [
      "Gravity = 9.81 True\n",
      "1 + 2 = 5 is False\n",
      "<class 'bool'>\n",
      "<class 'bool'>\n"
     ]
    }
   ],
   "source": [
    "a = True\n",
    "b = False\n",
    "print(\"Gravity = 9.81\",a)\n",
    "print(\"1 + 2 = 5 is\",b)\n",
    "print(type(a))\n",
    "print(type(b))"
   ]
  },
  {
   "cell_type": "markdown",
   "id": "b470c175",
   "metadata": {},
   "source": [
    "### <b>`EXERCISE 5.1`<b>\n",
    "\n",
    "`Create a variable \"gf\" and print any general fact and its data type?`"
   ]
  },
  {
   "cell_type": "code",
   "execution_count": 3,
   "id": "40193645",
   "metadata": {},
   "outputs": [],
   "source": [
    "# write your answer code here\n"
   ]
  },
  {
   "cell_type": "markdown",
   "id": "6813d46e",
   "metadata": {},
   "source": [
    "## Lesson Two : Numeric Data Types"
   ]
  },
  {
   "cell_type": "markdown",
   "id": "657d04c9",
   "metadata": {},
   "source": [
    "💡<i>What if we want to store number in a variable?</i>\n",
    "\n",
    "### 1. int data type\n",
    "The int data type represents values or numbers without decimal values. In python there is no limit for int data type. It can store very large values conveniently.\n",
    "\n",
    "Ex 5.3 ( Print integer value )"
   ]
  },
  {
   "cell_type": "code",
   "execution_count": 4,
   "id": "0bfe48da",
   "metadata": {},
   "outputs": [
    {
     "name": "stdout",
     "output_type": "stream",
     "text": [
      "My student id is 16784\n",
      "<class 'int'>\n"
     ]
    }
   ],
   "source": [
    "Sid = 16784\n",
    "print(\"My student id is\",Sid)\n",
    "print(type(Sid))"
   ]
  },
  {
   "cell_type": "markdown",
   "id": "21b3ec59",
   "metadata": {},
   "source": [
    "### <b>`EXERCISE 5.2`<b>\n",
    "\n",
    "`Create a variable \"s\" and store number of subjects you are taking on this semester then print it and its data type?`"
   ]
  },
  {
   "cell_type": "code",
   "execution_count": 5,
   "id": "9f64f358",
   "metadata": {},
   "outputs": [],
   "source": [
    "# write your answer code here\n"
   ]
  },
  {
   "cell_type": "markdown",
   "id": "e5116cdf",
   "metadata": {},
   "source": [
    "💡<i>What if we want to store decimal number?</i>\n",
    "\n",
    "### 2. float data type\n",
    "The float data type represents a number with decimal values.\n",
    "\n",
    "Ex 5.4 ( Print float value )"
   ]
  },
  {
   "cell_type": "code",
   "execution_count": 6,
   "id": "0ba776f8",
   "metadata": {},
   "outputs": [
    {
     "name": "stdout",
     "output_type": "stream",
     "text": [
      "My grade is 9.74\n",
      "<class 'float'>\n"
     ]
    }
   ],
   "source": [
    "grade = 9.74\n",
    "print(\"My grade is\",grade)\n",
    "print(type(grade))"
   ]
  },
  {
   "cell_type": "markdown",
   "id": "6c999fa2",
   "metadata": {},
   "source": [
    "### <b>`EXERCISE 5.3`<b>\n",
    "\n",
    "`Create a variable \"T\" and store current temperature then print it and its data type?`"
   ]
  },
  {
   "cell_type": "code",
   "execution_count": 7,
   "id": "941cd1ad",
   "metadata": {},
   "outputs": [],
   "source": [
    "# write your answer code here\n"
   ]
  },
  {
   "cell_type": "markdown",
   "id": "437da7fc",
   "metadata": {},
   "source": [
    "💡<i>What if we want to store complex number?</i>\n",
    "\n",
    "### 3. complex data type\n",
    "The complex data type represents the numbers which is written in the form of a+bj or a-bj, here a is representing a real and b is representing an imaginary part of the number. The suffix small j or upper J after b indicates the square root of -1. The part \"a\" and \"b\" may contain integers or floats.\n",
    "\n",
    "Ex 5.5 ( Print complex value )"
   ]
  },
  {
   "cell_type": "code",
   "execution_count": 8,
   "id": "32314fc3",
   "metadata": {},
   "outputs": [
    {
     "name": "stdout",
     "output_type": "stream",
     "text": [
      "(3+6j) (2-5.5j) (2.4+7j)\n",
      "<class 'complex'>\n"
     ]
    }
   ],
   "source": [
    "a = 3 + 6j\n",
    "b = 2 - 5.5j\n",
    "c = 2.4 + 7j\n",
    "print(a, b, c)\n",
    "print(type(a))"
   ]
  },
  {
   "cell_type": "markdown",
   "id": "5656705b",
   "metadata": {},
   "source": [
    "## Lesson Three : Sequence Data Types\n",
    "Sequences in python are objects that can store a group of values. The below data types are called sequences.\n",
    "* String\n",
    "* List\n",
    "* Tuple\n",
    "* Set\n",
    "* Dictionary"
   ]
  },
  {
   "cell_type": "markdown",
   "id": "b884681e",
   "metadata": {},
   "source": [
    "💡<i>What if we want to store text in a variable?</i>\n",
    "\n",
    "### 1. String data type\n",
    "A group of characters enclosed within single quotes or double quotes or triple quotes is called a string.\n",
    "\n",
    "<i><b><font color='blue'>PS. We will discuss more in the String Chapter.</font></b></i>\n",
    "\n",
    "Ex 5.6 ( Printing string using single quote )"
   ]
  },
  {
   "cell_type": "code",
   "execution_count": 9,
   "id": "1fabe933",
   "metadata": {},
   "outputs": [
    {
     "name": "stdout",
     "output_type": "stream",
     "text": [
      "My name is John\n",
      "<class 'str'>\n"
     ]
    }
   ],
   "source": [
    "name = 'John'\n",
    "print(\"My name is\",name)\n",
    "print(type(name))"
   ]
  },
  {
   "cell_type": "markdown",
   "id": "8a1fc52d",
   "metadata": {},
   "source": [
    "💡<i>What if there is an apostrophe in a string?</i>\n",
    "\n",
    "Ex 5.7 ( Printing string using double quote )"
   ]
  },
  {
   "cell_type": "code",
   "execution_count": 10,
   "id": "802b568c",
   "metadata": {},
   "outputs": [
    {
     "name": "stdout",
     "output_type": "stream",
     "text": [
      "This is John's book\n",
      "<class 'str'>\n"
     ]
    }
   ],
   "source": [
    "book = \"John's book\"\n",
    "print(\"This is\",book)\n",
    "print(type(name))"
   ]
  },
  {
   "cell_type": "markdown",
   "id": "d42df0da",
   "metadata": {},
   "source": [
    "💡<i>What if there is both apostrophe and double quote in a string?</i>\n",
    "\n",
    "Ex 5.8 ( Printing string using triple quote )"
   ]
  },
  {
   "cell_type": "code",
   "execution_count": 11,
   "id": "d927aed9",
   "metadata": {},
   "outputs": [
    {
     "name": "stdout",
     "output_type": "stream",
     "text": [
      "\"John’s book is awesome.\" Michael J.\n",
      "<class 'str'>\n"
     ]
    }
   ],
   "source": [
    "v = '\"John’s book is awesome.\"'\n",
    "print(\"{} Michael J.\".format(v))\n",
    "print(type(v))"
   ]
  },
  {
   "cell_type": "markdown",
   "id": "901c3bee",
   "metadata": {},
   "source": [
    "### <b>`EXERCISE 5.4`<b>\n",
    "\n",
    "`Create a variable \"n\", \"s\", \"q\" and store your name, your favorite song and your favorite quote respectively. then print it?`"
   ]
  },
  {
   "cell_type": "code",
   "execution_count": 12,
   "id": "c5653dbb",
   "metadata": {},
   "outputs": [],
   "source": [
    "# write your answer code here\n"
   ]
  },
  {
   "cell_type": "markdown",
   "id": "e2dab106",
   "metadata": {},
   "source": [
    "💡<i>What if we want to describe our code with title, author, date and moreover about our code?</i>\n",
    "\n",
    "### <font color='red'>What is comment?</font>\n",
    "Comment is a programmer-readable explanation or annotation in the source code.\n",
    "\n",
    "<b>Must know about Comment</b>\n",
    "1. Comments are useful to describe the code in an easy way.\n",
    "2. Python ignores comments while running the program.\n",
    "3. To comment python code, we can use hash symbol #\n",
    "4. For multi-line comments, we can use single / double / triple quotation marks.\n",
    "\n",
    "Ex 5.9 ( Code Description using Comment )"
   ]
  },
  {
   "cell_type": "code",
   "execution_count": 13,
   "id": "0335115d",
   "metadata": {},
   "outputs": [
    {
     "name": "stdout",
     "output_type": "stream",
     "text": [
      "Hello World\n"
     ]
    }
   ],
   "source": [
    "# My First Python program\n",
    "# Author: John Michael\n",
    "# Date: 21/07/2020\n",
    "print(\"Hello World\")"
   ]
  },
  {
   "cell_type": "markdown",
   "id": "ee4baaed",
   "metadata": {},
   "source": [
    "### <b>`EXERCISE 5.5`<b>\n",
    "\n",
    "`Write any python code that you have learned before then describe your code by`\n",
    "    \n",
    "`✓ Title of the code`\n",
    "    \n",
    "`✓ Coder name`\n",
    "\n",
    "`✓ Date`\n",
    "\n",
    "`✓ Place`"
   ]
  },
  {
   "cell_type": "code",
   "execution_count": 14,
   "id": "d70c49b8",
   "metadata": {},
   "outputs": [],
   "source": [
    "# write your answer code here\n"
   ]
  },
  {
   "cell_type": "markdown",
   "id": "e99df895",
   "metadata": {},
   "source": [
    "💡<i>What if we want to store multiple group of values inside a single variable?</i>\n",
    "\n",
    "### 2. List data type\n",
    "We can create list data structure by using square brackets []. A list can store different data types. list is mutable (elements can be removed or added).\n",
    "\n",
    "<i><b><font color='blue'>PS. We will discuss more in the List Chapter.</font></b></i>\n",
    "\n",
    "<blockquote>\n",
    "Syntax to create List :\n",
    "    \n",
    "<code>name_of_list = [element,...]</code>\n",
    "</blockquote>\n",
    "\n",
    "Ex 5.10 ( Creating a List )"
   ]
  },
  {
   "cell_type": "code",
   "execution_count": 15,
   "id": "99ab7028",
   "metadata": {},
   "outputs": [
    {
     "name": "stdout",
     "output_type": "stream",
     "text": [
      "My details [1, 'John', 9.5, 'pass', 1]\n",
      "<class 'list'>\n"
     ]
    }
   ],
   "source": [
    "detail = [1, 'John', 9.5, 'pass', 1]\n",
    "print(\"My details\",detail)\n",
    "print(type(detail))"
   ]
  },
  {
   "cell_type": "markdown",
   "id": "52476313",
   "metadata": {},
   "source": [
    "### <b>`EXERCISE 5.6`<b>\n",
    "\n",
    "`Create a list of your favorite subjects then print it and its data type?`"
   ]
  },
  {
   "cell_type": "code",
   "execution_count": 16,
   "id": "0eaff13c",
   "metadata": {},
   "outputs": [],
   "source": [
    "# write your answer code here\n"
   ]
  },
  {
   "cell_type": "markdown",
   "id": "1534acb8",
   "metadata": {},
   "source": [
    "💡<i>What if we don’t want to add or remove elements ( Create unmodifiable data )?</i>\n",
    "\n",
    "### 3. Tuple data type\n",
    "We can create tuple data structure by using parenthesis (). A tuple can store different data types. tuple is immutable.\n",
    "\n",
    "<i><b><font color='blue'>PS. We will discuss more in the Tuple Chapter.</font></b></i>\n",
    "\n",
    "<blockquote>\n",
    "Syntax to create Tuple :\n",
    "    \n",
    "<code>name_of_tuple = (element,...)</code>\n",
    "</blockquote>\n",
    "\n",
    "Ex 5.11 ( Creating a Tuple )"
   ]
  },
  {
   "cell_type": "code",
   "execution_count": 17,
   "id": "caae2455",
   "metadata": {},
   "outputs": [
    {
     "name": "stdout",
     "output_type": "stream",
     "text": [
      "My details (1, 'John', 9.5, 'pass', 1)\n",
      "<class 'tuple'>\n"
     ]
    }
   ],
   "source": [
    "detail = (1, 'John', 9.5, 'pass', 1)\n",
    "print(\"My details\",detail)\n",
    "print(type(detail))"
   ]
  },
  {
   "cell_type": "markdown",
   "id": "d9a2c2d7",
   "metadata": {},
   "source": [
    "### <b>`EXERCISE 5.7`<b>\n",
    "\n",
    "`Create a tuple of days in a week then print it and its data type?`"
   ]
  },
  {
   "cell_type": "code",
   "execution_count": 18,
   "id": "772c015d",
   "metadata": {},
   "outputs": [],
   "source": [
    "# write your answer code here\n"
   ]
  },
  {
   "cell_type": "markdown",
   "id": "332e99e5",
   "metadata": {},
   "source": [
    "💡<i>What if we don’t want repeated element(like 1)?</i>\n",
    "\n",
    "### 4. Set data type\n",
    "We can create set data structure by using parentheses symbols (). set can store same type and different type of elements.\n",
    "\n",
    "<i><b><font color='blue'>PS. We will learn more in the Set Chapter.</font></b></i>\n",
    "\n",
    "<blockquote>\n",
    "Syntax to create Set :\n",
    "\n",
    "<code>name_of_set = {element,...}</code>\n",
    "</blockquote>\n",
    "\n",
    "Ex 5.12 ( Create a Set )"
   ]
  },
  {
   "cell_type": "code",
   "execution_count": 19,
   "id": "e7fb00f6",
   "metadata": {},
   "outputs": [
    {
     "name": "stdout",
     "output_type": "stream",
     "text": [
      "My details {'pass', 1, 9.5, 'John'}\n",
      "<class 'set'>\n"
     ]
    }
   ],
   "source": [
    "detail = {1, 'John', 9.5, 'pass', 1}\n",
    "print(\"My details\",detail)\n",
    "print(type(detail))"
   ]
  },
  {
   "cell_type": "markdown",
   "id": "ea10a534",
   "metadata": {},
   "source": [
    "### <b>`EXERCISE 5.8`<b>\n",
    "\n",
    "`Create a set of your favorite books then print it and its data type?`"
   ]
  },
  {
   "cell_type": "code",
   "execution_count": 20,
   "id": "89168b16",
   "metadata": {},
   "outputs": [],
   "source": [
    "# write your answer code here\n"
   ]
  },
  {
   "cell_type": "markdown",
   "id": "ce8933d6",
   "metadata": {},
   "source": [
    "<i>What if we want to pair of related elements ( for example pair of Athlete’s name with their rank )?</i>\n",
    "\n",
    "### 5. Dictionary data type\n",
    "We can create dictionary type by using curly braces {}. dict represents a group of elements in the form of key value pairs like map.\n",
    "\n",
    "<i><b><font color='blue'>PS. We will discuss more in Dictionary Chapter.</font></b></i>\n",
    "\n",
    "<blockquote>\n",
    "Syntax to create Dictionary :\n",
    "\n",
    "<code>name_of_dictionary = {key:value,...}</code>\n",
    "</blockquote>\n",
    "\n",
    "Ex 5.13 ( Create Dictionary )"
   ]
  },
  {
   "cell_type": "code",
   "execution_count": 21,
   "id": "8fc69fb2",
   "metadata": {},
   "outputs": [
    {
     "name": "stdout",
     "output_type": "stream",
     "text": [
      "Race {2: 'John', 1: 'Mike', 3: 'Dani'}\n",
      "<class 'dict'>\n"
     ]
    }
   ],
   "source": [
    "Info ={2:'John', 1:'Mike', 3:'Dani'}\n",
    "print(\"Race\",Info)\n",
    "print(type(Info))"
   ]
  },
  {
   "cell_type": "markdown",
   "id": "110b66fb",
   "metadata": {},
   "source": [
    "### <b>`EXERCISE 5.9`<b>\n",
    "\n",
    "`Create a football player and jersey pair of dictionary then print it and its data type?`"
   ]
  },
  {
   "cell_type": "code",
   "execution_count": 22,
   "id": "15f23a6f",
   "metadata": {},
   "outputs": [],
   "source": [
    "# write your answer code here\n"
   ]
  },
  {
   "cell_type": "markdown",
   "id": "5b2facde",
   "metadata": {},
   "source": [
    "## Lesson Four : Conversion of Data Types\n",
    "Based on requirements, developers/programmers can convert from one data type into another data type explicitly, this is called type conversion. Python provides the following inbuilt functions to convert from one type to another type.\n",
    "\n",
    "* int() : convert from other type into int type\n",
    "* float() : convert from other type into float type\n",
    "* complex() : convert from other type to complex\n",
    "* bool() : convert from other type into bool type\n",
    "* str() : convert from other type into str type"
   ]
  },
  {
   "cell_type": "markdown",
   "id": "7ab8c87d",
   "metadata": {},
   "source": [
    "### 1. Convert to float\n",
    "Ex 5.14 ( Convert to float data type )"
   ]
  },
  {
   "cell_type": "code",
   "execution_count": 23,
   "id": "38fe743d",
   "metadata": {},
   "outputs": [
    {
     "name": "stdout",
     "output_type": "stream",
     "text": [
      "65.0\n",
      "<class 'float'>\n"
     ]
    }
   ],
   "source": [
    "i = 65\n",
    "itf=float(i) #Integer to float\n",
    "print(itf)\n",
    "print(type(itf))"
   ]
  },
  {
   "cell_type": "markdown",
   "id": "6286c867",
   "metadata": {},
   "source": [
    "### 2. Convert to integer\n",
    "Ex 5.15 ( Convert float to integer data type )"
   ]
  },
  {
   "cell_type": "code",
   "execution_count": 24,
   "id": "131c2eb7",
   "metadata": {},
   "outputs": [
    {
     "name": "stdout",
     "output_type": "stream",
     "text": [
      "65\n",
      "<class 'int'>\n"
     ]
    }
   ],
   "source": [
    "f = 65.89\n",
    "fti=int(f) #float to Int\n",
    "print(fti)\n",
    "print(type(fti))"
   ]
  },
  {
   "cell_type": "markdown",
   "id": "c150b435",
   "metadata": {},
   "source": [
    "Ex 5.16 ( Convert string to integer data type )"
   ]
  },
  {
   "cell_type": "code",
   "execution_count": 25,
   "id": "e08d3b9d",
   "metadata": {},
   "outputs": [
    {
     "name": "stdout",
     "output_type": "stream",
     "text": [
      "123\n",
      "<class 'int'>\n"
     ]
    }
   ],
   "source": [
    "st = '123'\n",
    "sti = int(st,10) #Str(No.) to Int\n",
    "print(sti)\n",
    "print(type(sti))"
   ]
  },
  {
   "cell_type": "markdown",
   "id": "cc97b465",
   "metadata": {},
   "source": [
    "Ex 5.17 ( Convert character to integer data type )"
   ]
  },
  {
   "cell_type": "code",
   "execution_count": 26,
   "id": "a5d472b9",
   "metadata": {},
   "outputs": [
    {
     "name": "stdout",
     "output_type": "stream",
     "text": [
      "65\n",
      "<class 'int'>\n"
     ]
    }
   ],
   "source": [
    "ch = 'A' #Character to Int(ASCII)\n",
    "cti = ord(ch)\n",
    "print(cti)\n",
    "print(type(cti))"
   ]
  },
  {
   "cell_type": "markdown",
   "id": "43c42ff7",
   "metadata": {},
   "source": [
    "### <font color='red'>What is ASCII Value?</font>\n",
    "ASCII Value is a standard that assigns letters, numbers, and other characters."
   ]
  },
  {
   "cell_type": "markdown",
   "id": "d726f79e",
   "metadata": {},
   "source": [
    "<img src=\"https://raw.githubusercontent.com/bemnetdev/Python/main/Images/ASCII%20value.png\" align=\"left\" width=\"50%\">"
   ]
  },
  {
   "cell_type": "markdown",
   "id": "343d24b1",
   "metadata": {},
   "source": [
    "### 3. Convert to complex\n",
    "Ex 5.18 ( Convert Real No. to complex data type )"
   ]
  },
  {
   "cell_type": "code",
   "execution_count": 27,
   "id": "b20ecadd",
   "metadata": {},
   "outputs": [
    {
     "name": "stdout",
     "output_type": "stream",
     "text": [
      "(6+0j)\n",
      "<class 'complex'>\n"
     ]
    }
   ],
   "source": [
    "r = 6 #Real No. to Complex No.\n",
    "rtc = complex(r)\n",
    "print(rtc)\n",
    "print(type(rtc))"
   ]
  },
  {
   "cell_type": "markdown",
   "id": "1b540dfd",
   "metadata": {},
   "source": [
    "### 4. Convert to string\n",
    "Ex 5.19 ( Convert integer to string data type )"
   ]
  },
  {
   "cell_type": "code",
   "execution_count": 28,
   "id": "cd342acc",
   "metadata": {},
   "outputs": [
    {
     "name": "stdout",
     "output_type": "stream",
     "text": [
      "65\n",
      "<class 'str'>\n"
     ]
    }
   ],
   "source": [
    "i = 65\n",
    "itst = str(i) #Int to Str\n",
    "print(itst)\n",
    "print(type(itst))"
   ]
  },
  {
   "cell_type": "markdown",
   "id": "3d748efb",
   "metadata": {},
   "source": [
    "Ex 5.20 ( Convert ASCII to string data type )"
   ]
  },
  {
   "cell_type": "code",
   "execution_count": 29,
   "id": "ebabc335",
   "metadata": {},
   "outputs": [
    {
     "name": "stdout",
     "output_type": "stream",
     "text": [
      "A\n",
      "<class 'str'>\n"
     ]
    }
   ],
   "source": [
    "nta = chr(65) #ASCII Value to str\n",
    "print(nta)\n",
    "print(type(nta))"
   ]
  },
  {
   "cell_type": "markdown",
   "id": "eabfd1ff",
   "metadata": {},
   "source": [
    "### 5. Convert to list\n",
    "Ex 5.21 ( Convert Tuple to List data type )"
   ]
  },
  {
   "cell_type": "code",
   "execution_count": 30,
   "id": "e18fc56f",
   "metadata": {},
   "outputs": [
    {
     "name": "stdout",
     "output_type": "stream",
     "text": [
      "[1, 'John', 9.5, 'pass']\n",
      "<class 'list'>\n"
     ]
    }
   ],
   "source": [
    "t = (1,'John',9.5,'pass')\n",
    "ttl = list(t) #Tuple to List\n",
    "print(ttl)\n",
    "print(type(ttl))"
   ]
  },
  {
   "cell_type": "markdown",
   "id": "02393c97",
   "metadata": {},
   "source": [
    "Ex 5.22 ( Convert Set to List data type )"
   ]
  },
  {
   "cell_type": "code",
   "execution_count": 31,
   "id": "1e5946a2",
   "metadata": {},
   "outputs": [
    {
     "name": "stdout",
     "output_type": "stream",
     "text": [
      "['pass', 1, 9.5, 'John']\n",
      "<class 'list'>\n"
     ]
    }
   ],
   "source": [
    "s = {1,'John',9.5,'pass'}\n",
    "stl = list(s) #Set to List\n",
    "print(stl)\n",
    "print(type(stl))"
   ]
  },
  {
   "cell_type": "markdown",
   "id": "594c1d5c",
   "metadata": {},
   "source": [
    "### 6. Convert to tuple\n",
    "Ex 5.23 ( Convert List to Tuple data type )"
   ]
  },
  {
   "cell_type": "code",
   "execution_count": 32,
   "id": "aedeb25e",
   "metadata": {},
   "outputs": [
    {
     "name": "stdout",
     "output_type": "stream",
     "text": [
      "(1, 'John', 9.5, 'pass')\n",
      "<class 'tuple'>\n"
     ]
    }
   ],
   "source": [
    "l = [1,'John',9.5,'pass']\n",
    "ltt = tuple(l) #List to Tuple\n",
    "print(ltt)\n",
    "print(type(ltt))"
   ]
  },
  {
   "cell_type": "markdown",
   "id": "587a6f76",
   "metadata": {},
   "source": [
    "Ex 5.24 ( Convert Set to Tuple data type )"
   ]
  },
  {
   "cell_type": "code",
   "execution_count": 33,
   "id": "c458a805",
   "metadata": {},
   "outputs": [
    {
     "name": "stdout",
     "output_type": "stream",
     "text": [
      "('pass', 1, 9.5, 'John')\n",
      "<class 'tuple'>\n"
     ]
    }
   ],
   "source": [
    "s = {1,'John',9.5,'pass'}\n",
    "stt = tuple(s) #Set to Tuple\n",
    "print(stt)\n",
    "print(type(stt))"
   ]
  },
  {
   "cell_type": "markdown",
   "id": "564fdb14",
   "metadata": {},
   "source": [
    "### 7. Convert to set\n",
    "Ex 5.25 ( Convert to Set data type )"
   ]
  },
  {
   "cell_type": "code",
   "execution_count": 34,
   "id": "2595acb1",
   "metadata": {},
   "outputs": [
    {
     "name": "stdout",
     "output_type": "stream",
     "text": [
      "{'pass', 1, 9.5, 'John'}\n",
      "<class 'set'>\n",
      "{'pass', 1, 9.5, 'John'}\n",
      "<class 'set'>\n"
     ]
    }
   ],
   "source": [
    "l = [1,'John',9.5,'pass']\n",
    "lts=set(l) #List to Set\n",
    "print(lts)\n",
    "print(type(lts))\n",
    "t = (1,'John',9.5,'pass')\n",
    "tts=set(t) #Tuple to Set\n",
    "print(tts)\n",
    "print(type(tts))"
   ]
  },
  {
   "cell_type": "markdown",
   "id": "1b515baf",
   "metadata": {},
   "source": [
    "# // END OF CHAPTER FIVE\n",
    "<a href=\"https://www.linkedin.com/in/bemnetdev/\">Click here</a> for Chapter Six"
   ]
  }
 ],
 "metadata": {
  "kernelspec": {
   "display_name": "Python 3 (ipykernel)",
   "language": "python",
   "name": "python3"
  },
  "language_info": {
   "codemirror_mode": {
    "name": "ipython",
    "version": 3
   },
   "file_extension": ".py",
   "mimetype": "text/x-python",
   "name": "python",
   "nbconvert_exporter": "python",
   "pygments_lexer": "ipython3",
   "version": "3.11.5"
  }
 },
 "nbformat": 4,
 "nbformat_minor": 5
}
