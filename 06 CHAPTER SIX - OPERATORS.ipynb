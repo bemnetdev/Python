{
 "cells": [
  {
   "cell_type": "markdown",
   "id": "0635b7f8",
   "metadata": {},
   "source": [
    "<div style=\"text-align: right\"><b>DS50 2024</b> | Python by <a href=\"https://www.linkedin.com/in/bemnetdev/\">Bemnet Girma</a></div>\n",
    "\n",
    "#\n",
    "# <center><font size=\"80\">🛠</font><br><br>CHAPTER SIX<br><br><font size=\"80\">OPERATORS</font><br><br><hr style=\"border:6px solid black\"> </hr></center>"
   ]
  },
  {
   "cell_type": "markdown",
   "id": "67e37aad",
   "metadata": {},
   "source": [
    "## Lesson One : Introduction to Operators\n",
    "Computer is a device that can accept input data from a user and process the given data to produce a desired output. Nevertheless processing data means doing some sort of calculations on the given inputs to give output back to the user. Programming is more than storing data in a variable, operators allow us to do exciting things with the data."
   ]
  },
  {
   "cell_type": "markdown",
   "id": "bc7cadc7",
   "metadata": {},
   "source": [
    "### <font color='red'>What is an operator?</font>\n",
    "An operator is a symbol which is applied on some operands (usually variables), to perform certain action or operation. For example,"
   ]
  },
  {
   "cell_type": "markdown",
   "id": "d7f57c35",
   "metadata": {},
   "source": [
    "<img src=\"https://raw.githubusercontent.com/bemnetdev/Python/main/Images/Operation.png\" align=\"left\" width=\"13%\">"
   ]
  },
  {
   "cell_type": "markdown",
   "id": "1b7809c9",
   "metadata": {},
   "source": [
    "In the above example, first we assigned values to two variables ‘a’ and ‘b’ and then we added both the variables and stored the result in variable ‘c’.\n",
    "\n",
    "Note: The symbols + and = are called operators and the variables a,b,c on which operation is being performed are called operands."
   ]
  },
  {
   "cell_type": "markdown",
   "id": "90452143",
   "metadata": {},
   "source": [
    "### Basic Classification of Operators\n",
    "<b>1. Unary Operator</b> – If the operator acts on a single operand then it’s called unary operator.\n",
    "\n",
    "<i>💡What if you want to make a positive number negative?</i>\n",
    "\n",
    "For example, in ‘-5’ the operator ‘-’ is used to make the (single) operand ‘5’ a negative value.\n",
    "\n",
    "<b>2. Binary Operator</b> – If the operator acts on two operands then it’s called a binary operator.\n",
    "\n",
    "<i>💡What if you want to add numbers?</i>\n",
    "\n",
    "For example, ‘+’ operators need two variables (operands) to perform addition operation.\n",
    "\n",
    "<b>3. Ternary Operator</b> – If the operator acts on three operands then it’s called a ternary operator.\n",
    "\n",
    "<i><b><font color='blue'>PS. Don’t panic, We will see more in detail on upcoming chapters (if … else Statement).</font></b></i>\n",
    "\n",
    "<b>Types of Operators in Python:</b>\n",
    "1. Unary Minus Operator\n",
    "2. Assignment Operator\n",
    "3. Arithmetic Operators\n",
    "4. Compound Operators\n",
    "5. Relational Operators\n",
    "6. Identity Operators\n",
    "7. Logical Operators\n",
    "8. Bitwise Operator\n",
    "9. Membership Operators\n",
    "\n",
    "<i>💡What if we want to make a positive number negative? Yes we can, How? Let us see…</i>"
   ]
  },
  {
   "cell_type": "markdown",
   "id": "e210fd05",
   "metadata": {},
   "source": [
    "### Unary Minus Operator ( - )\n",
    "The operator ‘-’ is called Unary minus operator. It is used to negate the number.\n",
    "\n",
    "This operator operates on a single operand, hence unary operator. This is used to change a positive number to a negative number and vice-versa.\n",
    "\n",
    "Ex 6.1 ( Unary Minus Operator )"
   ]
  },
  {
   "cell_type": "code",
   "execution_count": 1,
   "id": "8f5641c7",
   "metadata": {},
   "outputs": [
    {
     "name": "stdout",
     "output_type": "stream",
     "text": [
      "10\n",
      "-10\n"
     ]
    }
   ],
   "source": [
    "a = 10\n",
    "print(a)\n",
    "print(-a)"
   ]
  },
  {
   "cell_type": "markdown",
   "id": "e8c12240",
   "metadata": {},
   "source": [
    "Earlier, When we discuss about creating a variable we have used ‘=’ let us recall\n",
    "<blockquote>\n",
    "<code>age = 21</code>\n",
    "</blockquote>\n",
    "<i>💡What is ‘=’ ? </i>"
   ]
  },
  {
   "cell_type": "markdown",
   "id": "a4a9249c",
   "metadata": {},
   "source": [
    "## Lesson Two : Assignment Operators"
   ]
  },
  {
   "cell_type": "markdown",
   "id": "6234fe9e",
   "metadata": {},
   "source": [
    "### <font color='red'>What is Assignment Operator?</font>\n",
    "Assignment Operators are operators which are used for assigning values to variables. ‘=’ is the assignment operator.\n",
    "\n",
    "💡<i>What if we want copy of a variable?</i>\n",
    "\n",
    "<blockquote>\n",
    "Syntax : \n",
    "\n",
    "<code>new_variable = old_variable</code>\n",
    "</blockquote>\n",
    "    \n",
    "<i><b><font color='blue'>PS. Memory Address of both new (copied) and old variables is unique.</font></b></i>\n",
    "\n",
    "Ex 6.2 ( Copy variable using Assignment Operator )"
   ]
  },
  {
   "cell_type": "code",
   "execution_count": 2,
   "id": "dcb0e407",
   "metadata": {},
   "outputs": [
    {
     "name": "stdout",
     "output_type": "stream",
     "text": [
      "Old variable is 10\n",
      "Copied variable is 10\n",
      "MA of Old variable: 140719801865288\n",
      "MA of Copy variable 140719801865288\n"
     ]
    }
   ],
   "source": [
    "v = 10\n",
    "c = v\n",
    "print(\"Old variable is\", v)\n",
    "print(\"Copied variable is\", c)\n",
    "print(\"MA of Old variable:\", id(v))\n",
    "print(\"MA of Copy variable\", id(c))"
   ]
  },
  {
   "cell_type": "markdown",
   "id": "f2bec4e3",
   "metadata": {},
   "source": [
    "### <b>`EXERCISE 6.1`<b>\n",
    "\n",
    "`Create a string variable \"name\" and store your name then copy it to a \"new\" variable, after that print both variables and their memory location?`"
   ]
  },
  {
   "cell_type": "code",
   "execution_count": 3,
   "id": "192c95cb",
   "metadata": {},
   "outputs": [],
   "source": [
    "# write your answer code here\n"
   ]
  },
  {
   "cell_type": "markdown",
   "id": "85985841",
   "metadata": {},
   "source": [
    "<i>💡What if we want to add two numbers? Yes we can, How? Let us see…</i>\n",
    "## Lesson Three : Arithmetic Operations"
   ]
  },
  {
   "cell_type": "markdown",
   "id": "899de8b2",
   "metadata": {},
   "source": [
    "### <font color='red'>What are Arithmetic Operators?</font>\n",
    "Arithmetic Operators are operators which are used to perform basic mathematical calculations like addition, subtraction, multiplication, division etc. They are: +, -, *, /, %, **, //\n",
    "\n",
    "Note:\n",
    "* Division operator / always performs floating point arithmetic, so it returns float value.\n",
    "* Floor division (//) can perform both floating point and integral as well,\n",
    "* If values are int type, then result is int type.\n",
    "* If at least one value is float type, then the result is of float type.\n",
    "\n",
    "Ex 6.3 ( Arithmetic Operators )"
   ]
  },
  {
   "cell_type": "code",
   "execution_count": 4,
   "id": "47be7f46",
   "metadata": {},
   "outputs": [
    {
     "name": "stdout",
     "output_type": "stream",
     "text": [
      "32\n",
      "8\n",
      "1.6666666666666667\n",
      "1\n",
      "8\n",
      "240\n",
      "4096000000000000\n",
      "12.0\n"
     ]
    }
   ],
   "source": [
    "a = 20\n",
    "b = 12\n",
    "print(a + b) #Addition\n",
    "print(a - b) #Subtraction\n",
    "print(a / b) #Division\n",
    "print(a // b) #Quotient\n",
    "print(a % b) #Remainder\n",
    "print(a * b) #Multiplication\n",
    "print(a ** b) #Square\n",
    "print(a - b + 3 * 4 / 3) #BODMAS"
   ]
  },
  {
   "cell_type": "markdown",
   "id": "012ab259",
   "metadata": {},
   "source": [
    "### <b>`EXERCISE 6.2`<b>\n",
    "\n",
    "`Create two integer variables \"a\" and \"b\" accept values from a user then calculate their average?`"
   ]
  },
  {
   "cell_type": "code",
   "execution_count": 5,
   "id": "05c4b135",
   "metadata": {},
   "outputs": [],
   "source": [
    "# write your answer code here\n"
   ]
  },
  {
   "cell_type": "markdown",
   "id": "6791fa15",
   "metadata": {},
   "source": [
    "<i>💡What if we want perform complex calculations like logarithm, trigonometric, exponential etc…?</i>\n",
    "### math() Function\n",
    "\n",
    "<blockquote>\n",
    "Syntax for math function:\n",
    "    \n",
    "<code>from math import *\n",
    "function(value)</code>\n",
    "</blockquote>\n",
    "\n",
    "Ex 6.4 ( Complex calculations using math function )"
   ]
  },
  {
   "cell_type": "code",
   "execution_count": 6,
   "id": "57f30b8b",
   "metadata": {},
   "outputs": [
    {
     "name": "stdout",
     "output_type": "stream",
     "text": [
      "2.302585092994046\n",
      "1.0\n",
      "0.8939966636005579\n",
      "1.5707963267948966\n",
      "1.0\n",
      "8.0\n",
      "7.38905609893065\n",
      "4.0\n",
      "120\n",
      "5\n",
      "4\n",
      "2.718281828459045\n",
      "3.141592653589793\n"
     ]
    }
   ],
   "source": [
    "from math import *\n",
    "print(log(10)) #log base e\n",
    "print(log10(10)) #log base 10\n",
    "print(sin(90)) #sin of radian\n",
    "print(radians(90)) #radian to deg\n",
    "print(sin(radians(90))) #sin of deg\n",
    "print(pow(2,3)) #2 power of 3\n",
    "print(exp(2)) #e power of 2\n",
    "print(sqrt(16)) #square root\n",
    "print(factorial(5)) #factorial\n",
    "print(ceil(4.6)) #largest integer\n",
    "print(floor(4.6)) #smallest integer\n",
    "print(e) #constant e\n",
    "print(pi) #constant pi"
   ]
  },
  {
   "cell_type": "markdown",
   "id": "75a720be",
   "metadata": {},
   "source": [
    "### <b>`EXERCISE 6.3`<b>\n",
    "\n",
    "`Calculate`\n",
    "    \n",
    " `■ ln(e)`\n",
    "    \n",
    " `■ cos(90°)`\n",
    "    \n",
    " `■ 10 the power of 5`\n",
    "    \n",
    " `■ Square root of 625`\n",
    "    \n",
    " `■ Ceil and Floor of 6.5`\n",
    "\n",
    "`using math() function?`"
   ]
  },
  {
   "cell_type": "code",
   "execution_count": 7,
   "id": "5509c512",
   "metadata": {},
   "outputs": [],
   "source": [
    "# write your answer code here\n"
   ]
  },
  {
   "cell_type": "markdown",
   "id": "001d70ac",
   "metadata": {},
   "source": [
    "💡<i>What if we want to increase value of a variable? Yes we can, How? Let us see</i>\n",
    "\n",
    "<i><b><font color='blue'>PS. variable ‘b’ stands for balance.</font></b></i>\n",
    "\n",
    "Ex 6.5 ( When you deposit on your bank account )"
   ]
  },
  {
   "cell_type": "code",
   "execution_count": 8,
   "id": "fdd0478a",
   "metadata": {},
   "outputs": [
    {
     "name": "stdout",
     "output_type": "stream",
     "text": [
      "Balance before deposit: 12345\n",
      "Balance after deposit: 15000\n"
     ]
    }
   ],
   "source": [
    "b = 12345\n",
    "print(\"Balance before deposit:\",b)\n",
    "deposit = 2655\n",
    "b = b + deposit\n",
    "print(\"Balance after deposit:\",b)"
   ]
  },
  {
   "cell_type": "markdown",
   "id": "c9034fd5",
   "metadata": {},
   "source": [
    "💡<i>Why we write a variable twice? We can write it only once, How? Let us see…</i>\n",
    "## Lesson Four : Compound Operators"
   ]
  },
  {
   "cell_type": "markdown",
   "id": "4c12dc2b",
   "metadata": {},
   "source": [
    "### <font color='red'>What is Compound Operator?</font>\n",
    "Compound Operators are operators which is combination of some arithmetic and assignment operators (+=, -=, *=, /=, %=, **=, //=).\n",
    "\n",
    "<blockquote>\n",
    "Syntax to compound operators:\n",
    "    \n",
    "<code>result_v operator = operand_v</code>\n",
    "</blockquote>\n",
    "    \n",
    "b = b + deposit is same as b += deposit\n",
    "    \n",
    "That means add \"b\" and \"deposit\" then store the result in variable \"b\".\n",
    "    \n",
    "Ex 6.6 ( Addition using Compound Operator )"
   ]
  },
  {
   "cell_type": "code",
   "execution_count": 9,
   "id": "cfae70b9",
   "metadata": {},
   "outputs": [
    {
     "name": "stdout",
     "output_type": "stream",
     "text": [
      "Balance before deposit: 12345\n",
      "Balance after deposit: 15000\n"
     ]
    }
   ],
   "source": [
    "b = 12345\n",
    "print(\"Balance before deposit:\",b)\n",
    "deposit = 2655\n",
    "b += deposit\n",
    "print(\"Balance after deposit:\",b)"
   ]
  },
  {
   "cell_type": "markdown",
   "id": "1749869e",
   "metadata": {},
   "source": [
    "Ex 6.7 ( Compound Operators )"
   ]
  },
  {
   "cell_type": "code",
   "execution_count": 10,
   "id": "9797aee8",
   "metadata": {},
   "outputs": [
    {
     "name": "stdout",
     "output_type": "stream",
     "text": [
      "5\n",
      "2\n",
      "6\n",
      "2\n",
      "2\n",
      "8\n"
     ]
    }
   ],
   "source": [
    "a, b = 2, 3\n",
    "a+=b #Addition Assignment\n",
    "print(a)\n",
    "a-=b #Subtraction Assignment\n",
    "print(a)\n",
    "a*=b #Multiplication Assignment\n",
    "print(a)\n",
    "a//=b #Quotient Assignment\n",
    "print(a)\n",
    "a%=b #Remainder Assignment\n",
    "print(a)\n",
    "a**=b #Square Assignment\n",
    "print(a)"
   ]
  },
  {
   "cell_type": "markdown",
   "id": "50af2287",
   "metadata": {},
   "source": [
    "### <b>`EXERCISE 6.4`<b>\n",
    "\n",
    "`Create two integer variables \"avg\" and \"b\" accept from user then calculate their average using compound operators?`"
   ]
  },
  {
   "cell_type": "code",
   "execution_count": 11,
   "id": "c2974739",
   "metadata": {},
   "outputs": [],
   "source": [
    "# write your answer code here\n"
   ]
  },
  {
   "cell_type": "markdown",
   "id": "ce80b5a8",
   "metadata": {},
   "source": [
    "💡<i>What if we want to compare two numbers or variables?</i>\n",
    "## Lesson Five : Relational Operators"
   ]
  },
  {
   "cell_type": "markdown",
   "id": "15fd51e3",
   "metadata": {},
   "source": [
    "### <font color='red'>What are Relational Operators?</font>\n",
    "Relational Operators are operators which are used to check for some relation like greater than or less than etc.. between operands.\n",
    "\n",
    "They are: <, >, <=, >=, ==, !=\n",
    "\n",
    "These are used to compare two values for some relation and return booleans (True or False) depending the relation.\n",
    "\n",
    "Ex 6.8 ( Relational Operators )"
   ]
  },
  {
   "cell_type": "code",
   "execution_count": 12,
   "id": "98c74658",
   "metadata": {},
   "outputs": [
    {
     "name": "stdout",
     "output_type": "stream",
     "text": [
      "False\n",
      "True\n",
      "False\n",
      "True\n",
      "True\n",
      "False\n"
     ]
    }
   ],
   "source": [
    "print(1 == 2) #Equal\n",
    "print(1 != 2) #Not Equal\n",
    "print(1 > 2) #Less Than\n",
    "print(1 < 2) #Greater Than\n",
    "print(1 <= 2) #Less Than Or Equal\n",
    "print(1 >= 2) #Greater Than Or Equal"
   ]
  },
  {
   "cell_type": "markdown",
   "id": "f1d8bcc2",
   "metadata": {},
   "source": [
    "### <b>`EXERCISE 6.5`<b>\n",
    "\n",
    "`Create two variables \"my_age\" and \"friend_age\" accept from user then compare them?`"
   ]
  },
  {
   "cell_type": "code",
   "execution_count": 13,
   "id": "55fcdef4",
   "metadata": {},
   "outputs": [],
   "source": [
    "# write your answer code here\n"
   ]
  },
  {
   "cell_type": "markdown",
   "id": "289474d4",
   "metadata": {},
   "source": [
    "💡<i>What if you want to compare address of two variables?</i>\n",
    "## Lesson Six : Identity Operators"
   ]
  },
  {
   "cell_type": "markdown",
   "id": "66a81044",
   "metadata": {},
   "source": [
    "### <font color='red'>What is Identity Operator?</font>\n",
    "Identity Operators are operators which are used to check for identity by comparing the memory location( address) of two variables. With these operators, we will be able to know whether the two variables are pointing to the same location or not.\n",
    "\n",
    "Recall that : The memory location of the object can be seen using id() function.\n",
    "\n",
    "There are two identity operators, is and is not.\n",
    "\n",
    "<b>1. is:</b>\n",
    "\n",
    "* A is B returns True, if both A and B are pointing to the same address.\n",
    "* A is B returns False, if both A and B are not pointing to the same address.\n",
    "\n",
    "<b>2. is not:</b>\n",
    "\n",
    "* A is not B returns True, if both A and B are not pointing to the same object.\n",
    "* A is not B returns False, if both A and B are pointing to the same object.\n",
    "\n",
    "Ex 6.9 ( Identity Operators )"
   ]
  },
  {
   "cell_type": "code",
   "execution_count": 14,
   "id": "29da4cbf",
   "metadata": {},
   "outputs": [
    {
     "name": "stdout",
     "output_type": "stream",
     "text": [
      "True\n",
      "False\n",
      "140719801865768\n",
      "140719801865768\n",
      "140719801865928\n"
     ]
    }
   ],
   "source": [
    "a, b, c = 25, 25, 30\n",
    "print(a is b)\n",
    "print(a is c)\n",
    "print(id(a))\n",
    "print(id(b))\n",
    "print(id(c))"
   ]
  },
  {
   "cell_type": "markdown",
   "id": "b255eaf3",
   "metadata": {},
   "source": [
    "### <b>`EXERCISE 6.6`<b>\n",
    "\n",
    "`Create two variables \"a\" and \"b\" then compare them?`"
   ]
  },
  {
   "cell_type": "code",
   "execution_count": 15,
   "id": "746fdf24",
   "metadata": {},
   "outputs": [],
   "source": [
    "# write your answer code here\n"
   ]
  },
  {
   "cell_type": "markdown",
   "id": "c85205f8",
   "metadata": {},
   "source": [
    "Note: Identity operators are not comparing values of objects. They compare memory address of objects. If we want to compare value of objects, we should use relational operator ‘==’.\n",
    "\n",
    "Ex 6.10 (Identity Operators Vs Relational Operator)"
   ]
  },
  {
   "cell_type": "code",
   "execution_count": 16,
   "id": "e4507985",
   "metadata": {},
   "outputs": [
    {
     "name": "stdout",
     "output_type": "stream",
     "text": [
      "2091128894208\n",
      "2091128891264\n",
      "2091128894208\n",
      "True\n",
      "False\n",
      "True\n",
      "True\n"
     ]
    }
   ],
   "source": [
    "a = []\n",
    "b = []\n",
    "c = a\n",
    "print(id(a))\n",
    "print(id(b))\n",
    "print(id(c))\n",
    "print(a == b)\n",
    "print(a is b)\n",
    "print(a is c)\n",
    "print(a == c)"
   ]
  },
  {
   "cell_type": "markdown",
   "id": "b5075d68",
   "metadata": {},
   "source": [
    "### <font color='purple'>II Pause the next operators for a while</font>"
   ]
  },
  {
   "cell_type": "markdown",
   "id": "0b3a463a",
   "metadata": {},
   "source": [
    "# // END OF CHAPTER SIX\n",
    "<a href=\"https://www.linkedin.com/in/bemnetdev/\">Click here</a> for Chapter Seven"
   ]
  }
 ],
 "metadata": {
  "kernelspec": {
   "display_name": "Python 3 (ipykernel)",
   "language": "python",
   "name": "python3"
  },
  "language_info": {
   "codemirror_mode": {
    "name": "ipython",
    "version": 3
   },
   "file_extension": ".py",
   "mimetype": "text/x-python",
   "name": "python",
   "nbconvert_exporter": "python",
   "pygments_lexer": "ipython3",
   "version": "3.11.5"
  }
 },
 "nbformat": 4,
 "nbformat_minor": 5
}
