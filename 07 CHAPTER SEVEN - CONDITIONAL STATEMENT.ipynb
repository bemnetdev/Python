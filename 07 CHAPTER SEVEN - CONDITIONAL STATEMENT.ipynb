{
 "cells": [
  {
   "cell_type": "markdown",
   "id": "d697e620",
   "metadata": {},
   "source": [
    "<div style=\"text-align: right\"><b>DS50 2024</b> | Python by <a href=\"https://www.linkedin.com/in/bemnetdev/\">Bemnet Girma</a></div>\n",
    "\n",
    "#\n",
    "# <center><font size=\"80\">🚥</font><br><br>CHAPTER SEVEN<br><br><font size=\"80\">CONDITIONAL STATEMENT</font><br><br><hr style=\"border:6px solid black\"> </hr></center>"
   ]
  },
  {
   "cell_type": "markdown",
   "id": "0ebc27cf",
   "metadata": {},
   "source": [
    "## Lesson One : Introduction to Conditional Statements\n",
    "Decision Making in programming is similar to decision making in real life. In programming, a certain block of code needs to be executed when some condition is fulfilled."
   ]
  },
  {
   "cell_type": "markdown",
   "id": "ca011e13",
   "metadata": {},
   "source": [
    "### <font color='red'>What is Conditional Statement?</font>\n",
    "Conditional /decision making/ Statements are statements executed based on the condition.\n",
    "\n",
    "Python Interpreter execute sequentially when there is no condition around the statements. If you put some condition for a block of statements, the execution flow may change based on the result evaluated by the condition.\n",
    "\n",
    "There are four types of conditional statements in python. They are as follows:\n",
    "1. if statement\n",
    "2. if else statement\n",
    "3. Nested if statement\n",
    "4. if elif else statement"
   ]
  },
  {
   "cell_type": "markdown",
   "id": "65fcc7a7",
   "metadata": {},
   "source": [
    "## Lesson Two : if Statement\n",
    "The if statement is used to test a specific condition. If the condition is true, if-block statement will be executed.\n",
    "\n",
    "The condition of if statement can be any valid logical expression which can be either evaluated to True or False.\n",
    "\n",
    "<blockquote>\n",
    "Syntax for if statement:\n",
    "    \n",
    "<code>\n",
    "if (condition):\n",
    "    if block statement\n",
    "next line of code\n",
    "</code>\n",
    "</blockquote>"
   ]
  },
  {
   "cell_type": "markdown",
   "id": "e84fd1a3",
   "metadata": {},
   "source": [
    "<img src=\"https://raw.githubusercontent.com/bemnetdev/Python/main/Images/if_statement.png\" align=\"left\" width=\"25%\">"
   ]
  },
  {
   "cell_type": "markdown",
   "id": "86666e45",
   "metadata": {},
   "source": [
    "💡<i>Why do we have these much space before if-block statement?</i>\n",
    "\n",
    "In Python, indentation is used to separate the if-block statement from other block. If two statements are at the same indentation level, then they are the part of the same block.\n",
    "\n",
    "Generally, four spaces are given to indent the statements which are a typical amount of indentation."
   ]
  },
  {
   "cell_type": "markdown",
   "id": "8aee4fb6",
   "metadata": {},
   "source": [
    "### <font color='red'>What is Indentation?</font>\n",
    "Indentation is the spaces at the beginning of a code line to indicate a block of code.\n",
    "\n",
    "Note: if statement contains an expression/condition. As per the syntax colon (:) is mandatory otherwise it throws syntax error.\n",
    "\n",
    "Condition gives the result as a bool type, either True or False. If the condition result is True, then if block statements will be executed. If the condition result is False, then next line of code execute.\n",
    "\n",
    "💡<i>Suppose you want hire employees for your company and your main condition is employee’s age should be above 18 because hiring under age is prohibited. let us develop a code to filter job applicants.</i>\n",
    "\n",
    "Ex 7.1 ( if statement )"
   ]
  },
  {
   "cell_type": "code",
   "execution_count": 1,
   "id": "dd887815",
   "metadata": {},
   "outputs": [
    {
     "name": "stdout",
     "output_type": "stream",
     "text": [
      "Enter your age\n",
      "27\n",
      "Pass for interview.\n"
     ]
    }
   ],
   "source": [
    "a = int(input(\"Enter your age\\n\"))\n",
    "if a > 17:\n",
    "    print(\"Pass for interview.\")"
   ]
  },
  {
   "cell_type": "markdown",
   "id": "4972821c",
   "metadata": {},
   "source": [
    "Ex 7.2 ( Indentation Error )"
   ]
  },
  {
   "cell_type": "code",
   "execution_count": 2,
   "id": "723dc63e",
   "metadata": {},
   "outputs": [
    {
     "ename": "IndentationError",
     "evalue": "expected an indented block after 'if' statement on line 2 (2307135687.py, line 3)",
     "output_type": "error",
     "traceback": [
      "\u001b[1;36m  Cell \u001b[1;32mIn[2], line 3\u001b[1;36m\u001b[0m\n\u001b[1;33m    print(\"Pass for interview.\")\u001b[0m\n\u001b[1;37m    ^\u001b[0m\n\u001b[1;31mIndentationError\u001b[0m\u001b[1;31m:\u001b[0m expected an indented block after 'if' statement on line 2\n"
     ]
    }
   ],
   "source": [
    "a = int(input(\"Enter your age\\n\"))\n",
    "if a > 17:\n",
    "print(\"Pass for interview.\")"
   ]
  },
  {
   "cell_type": "markdown",
   "id": "6b23e315",
   "metadata": {},
   "source": [
    "### <b>`EXERCISE 7.1`<b>\n",
    "\n",
    "`Create a variable \"age\" and take input from user then check vote eligibility (age > 18)?`"
   ]
  },
  {
   "cell_type": "code",
   "execution_count": null,
   "id": "ad8d974b",
   "metadata": {},
   "outputs": [],
   "source": [
    "# write your answer code here\n"
   ]
  },
  {
   "cell_type": "markdown",
   "id": "5a07593b",
   "metadata": {},
   "source": [
    "💡<i>What if you want to reject applicants who could not fulfill the age condition?</i>\n",
    "\n",
    "<i><b><font color='blue'>PS. Clear rejection is better than ignorance.</font></b></i>"
   ]
  },
  {
   "cell_type": "markdown",
   "id": "307cbd76",
   "metadata": {},
   "source": [
    "## Lesson Three : if else statement\n",
    "If the condition result is True, then if block statements will be executed. If the condition result is False, then else block statements will be executed.\n",
    "\n",
    "<blockquote>\n",
    "Syntax for if else statement:\n",
    "    \n",
    "<code>\n",
    "if (condition):\n",
    "    if block statement\n",
    "else:\n",
    "    else block statement\n",
    "next line of code\n",
    "</code>\n",
    "</blockquote>"
   ]
  },
  {
   "cell_type": "markdown",
   "id": "524d74a1",
   "metadata": {},
   "source": [
    "<img src=\"https://raw.githubusercontent.com/bemnetdev/Python/main/Images/if_else_statement.png\" align=\"left\" width=\"25%\">"
   ]
  },
  {
   "cell_type": "markdown",
   "id": "21cb6374",
   "metadata": {},
   "source": [
    "Ex 7.3 ( if else statement )"
   ]
  },
  {
   "cell_type": "code",
   "execution_count": null,
   "id": "c09ee56a",
   "metadata": {},
   "outputs": [],
   "source": [
    "a = int(input(\"Enter your age\\n\"))\n",
    "if a > 17:\n",
    "    print(\"Pass for interview.\")\n",
    "else:\n",
    "    print(\"Application Denied.\")"
   ]
  },
  {
   "cell_type": "markdown",
   "id": "8e3c5d8d",
   "metadata": {},
   "source": [
    "### <b>`EXERCISE 7.2`<b>\n",
    "\n",
    "`Create a variable \"username\" and its value is your name then create log in conditional statement based on username?`\n",
    "    \n",
    "`Hint: Output looks like below`\n",
    "    \n",
    "<b>`Enter your username`</b>\n",
    "    \n",
    "<b>`john`</b>\n",
    "\n",
    "<b>`Welcome to facebook.`</b>"
   ]
  },
  {
   "cell_type": "code",
   "execution_count": null,
   "id": "634786f4",
   "metadata": {},
   "outputs": [],
   "source": [
    "# write your answer code here\n"
   ]
  },
  {
   "cell_type": "markdown",
   "id": "61c7eb13",
   "metadata": {},
   "source": [
    "💡<i>Here is a problem, What if a 90 years old man applied for the job, will you accept him? Hell No</i>\n",
    "    \n",
    "Therefore we need to add additional condition to specify required age range.\n",
    "\n",
    "### <font color='purple'>► Resume the next operators for a while</font>\n",
    "#\n",
    "💡<i>What if we want to combine two relational operators. How? Let us see…</i>\n",
    "\n",
    "In such scenarios, we use Logical Operators"
   ]
  },
  {
   "cell_type": "markdown",
   "id": "cf6e5ebb",
   "metadata": {},
   "source": [
    "### <font color='red'>What are Logical Operators?</font>\n",
    "Logical Operators are operators which do some logical operation on the operands and return True or False are called logical operators.\n",
    "\n",
    "In python, there are three types of logical operators. They are and, or, not. These operators are used to construct compound conditions, combinations of more than one simple condition. Each simple condition gives a boolean value which is evaluated, to return final boolean value.\n",
    "\n",
    "Note: In logical operators, False indicates 0(zero) and True indicates non-zero value. Logical operators on boolean types\n",
    "\n",
    "* <b>and</b> : If both the arguments are True then only the result is True\n",
    "* <b>or</b> : If at least one argument is True then the result is True\n",
    "* <b>not</b> : complement of the boolean value\n",
    "\n",
    "Ex 7.4 ( Logical operators on boolean types )"
   ]
  },
  {
   "cell_type": "code",
   "execution_count": null,
   "id": "232e25da",
   "metadata": {},
   "outputs": [],
   "source": [
    "a, b = True, False\n",
    "print(a and b) #and\n",
    "print(a or b) #or\n",
    "print(not a) #not"
   ]
  },
  {
   "cell_type": "markdown",
   "id": "eb1e6688",
   "metadata": {},
   "source": [
    "### <font color='purple'>II Pause the next operators for a while</font>\n",
    "\n",
    "Ex 7.5 ( if else statement with compound condition)"
   ]
  },
  {
   "cell_type": "code",
   "execution_count": null,
   "id": "703eb52b",
   "metadata": {},
   "outputs": [],
   "source": [
    "a = int(input(\"Enter your age\\n\"))\n",
    "if a > 17 and a < 45:\n",
    "    print(\"Pass for interview.\")\n",
    "else:\n",
    "    print(\"Application Denied.\")"
   ]
  },
  {
   "cell_type": "markdown",
   "id": "0857b9bc",
   "metadata": {},
   "source": [
    "### <b>`EXERCISE 7.3`<b>\n",
    "\n",
    "`Create two variable and \"nationality\" and \"cgpa\" and store values is your name and nationality, then create scholarship conditional statement based on nationality and cgpa?`\n",
    "\n",
    "`Hint: Output looks like below`\n",
    "\n",
    "<b>`Enter your nationality`</b>\n",
    "\n",
    "<b>`Indian`</b>\n",
    "\n",
    "<b>`Enter your cgpa`</b>\n",
    "\n",
    "<b>`8.7`</b>\n",
    "\n",
    "<b>`Congratulations, you won.`</b>"
   ]
  },
  {
   "cell_type": "code",
   "execution_count": null,
   "id": "34673125",
   "metadata": {},
   "outputs": [],
   "source": [
    "# write your answer code here\n"
   ]
  },
  {
   "cell_type": "markdown",
   "id": "9d3097f3",
   "metadata": {},
   "source": [
    "💡<i>What if you have more additional condition like ( Applicant should have GPA above than 9 else he/she will be in waiting list ) ?</i>\n",
    "\n",
    "<i><b><font color='blue'>PS. Quality is determined by accuracy and completeness.</font></b></i>"
   ]
  },
  {
   "cell_type": "markdown",
   "id": "48f4781c",
   "metadata": {},
   "source": [
    "## Lesson Four : Nested if Statement\n",
    "Nested if statement is an if statement inside another if statement. Here, a user can decide among multiple options based on multiple conditions.\n",
    "\n",
    "<blockquote>\n",
    "Syntax for Nested if statement:\n",
    "<code>\n",
    "if (condition 1):\n",
    "    if(condition 2):\n",
    "        if block statement of condition 2\n",
    "    else:\n",
    "        else block statement of condition 2\n",
    "else:\n",
    "    else block statement of condition 1\n",
    "next line of code\n",
    "</code>\n",
    "</blockquote>"
   ]
  },
  {
   "cell_type": "markdown",
   "id": "2261473d",
   "metadata": {},
   "source": [
    "<img src=\"https://raw.githubusercontent.com/bemnetdev/Python/main/Images/nested_if_statement.png\" align=\"left\" width=\"50%\">"
   ]
  },
  {
   "cell_type": "markdown",
   "id": "0dab30d2",
   "metadata": {},
   "source": [
    "Ex 7.6 ( Nested if statement )"
   ]
  },
  {
   "cell_type": "code",
   "execution_count": null,
   "id": "de8ca08d",
   "metadata": {},
   "outputs": [],
   "source": [
    "a = int(input(\"Enter your age\\n\"))\n",
    "c = float(input(\"Enter your GPA\\n\"))\n",
    "if a > 17 and a < 45:\n",
    "    if c > 9:\n",
    "        print(\"Accepted.\")\n",
    "    else:\n",
    "        print(\"Waiting List...\")\n",
    "else:\n",
    "    print(\"Application Denied.\")"
   ]
  },
  {
   "cell_type": "markdown",
   "id": "1990f90f",
   "metadata": {},
   "source": [
    "### <b>`EXERCISE 7.4`<b>\n",
    "    \n",
    "`Create two variable \"username\" and \"password\" and store values is your name and password, then create log in conditional statement based on username and password?`\n",
    "\n",
    "`Hint: Output looks like below`\n",
    "    \n",
    "<b>`Enter your username`</b>\n",
    "\n",
    "<b>`john`</b>\n",
    "    \n",
    "<b>`Enter your password`</b>\n",
    "\n",
    "<b>`12345`</b>\n",
    "\n",
    "<b>`Welcome to facebook.`</b>"
   ]
  },
  {
   "cell_type": "code",
   "execution_count": null,
   "id": "2be26c24",
   "metadata": {},
   "outputs": [],
   "source": [
    "# write your answer code here\n"
   ]
  },
  {
   "cell_type": "markdown",
   "id": "e1a00e4e",
   "metadata": {},
   "source": [
    "💡<i>Now, you couldn’t get a person who have GPA more than 9, and the job vacancy is urgent, so you need to reduce GPA criteria to lower range.</i>\n",
    "## Lesson Five : if elif else Statement\n",
    "The conditions are evaluated in the written order. If one condition becomes True then the set of statements associated with that particular condition are executed and the execution comes out without checking other conditions.\n",
    "\n",
    "<blockquote>\n",
    "Syntax for if elif else statement:\n",
    "<code>\n",
    "if (condition):\n",
    "    if block statement\n",
    "elif:\n",
    "    elif block statement\n",
    "else:\n",
    "    else block statement\n",
    "next line of code\n",
    "</code>\n",
    "</blockquote>"
   ]
  },
  {
   "cell_type": "markdown",
   "id": "b2e2bf44",
   "metadata": {},
   "source": [
    "<img src=\"https://raw.githubusercontent.com/bemnetdev/Python/main/Images/if_elif_statement.png\" align=\"left\" width=\"40%\">"
   ]
  },
  {
   "cell_type": "markdown",
   "id": "9d63d39e",
   "metadata": {},
   "source": [
    "Ex 7.7 ( if elif else statement )"
   ]
  },
  {
   "cell_type": "code",
   "execution_count": null,
   "id": "8bcad239",
   "metadata": {},
   "outputs": [],
   "source": [
    "a = int(input(\"Enter your age\\n\"))\n",
    "c = float(input(\"Enter your GPA\\n\"))\n",
    "if a > 17 and a < 45 and c > 9:\n",
    "    print(\"Accepted.\")\n",
    "elif a > 17 and a < 45 and c > 7 and c < 9:\n",
    "    print(\"Pass for interview.\")\n",
    "else:\n",
    "    print(\"Application Denied.\")"
   ]
  },
  {
   "cell_type": "markdown",
   "id": "3d8cd436",
   "metadata": {},
   "source": [
    "### <b>`EXERCISE 7.5`<b>\n",
    "\n",
    "`Create a variable \"score\" and take input from user, then classify them based on their score?`\n",
    "\n",
    "<b>`Classification:`</b>\n",
    "\n",
    "`\"A\" – 90 to 100`\n",
    "    \n",
    "`\"B\" – 80 to 90`\n",
    "    \n",
    "`\"C\" – 70 to 80`\n",
    "    \n",
    "`\"D\" – 60 to 70`\n",
    "    \n",
    "`\"F\" – below 60`"
   ]
  },
  {
   "cell_type": "code",
   "execution_count": null,
   "id": "4edc0a4b",
   "metadata": {},
   "outputs": [],
   "source": [
    "# write your answer code here\n"
   ]
  },
  {
   "cell_type": "markdown",
   "id": "2d6eedb4",
   "metadata": {},
   "source": [
    "## Lesson Six : More Examples on Conditional Statements\n",
    "\n",
    "Ex 7.8 ( if else statement )"
   ]
  },
  {
   "cell_type": "code",
   "execution_count": null,
   "id": "cd3b255f",
   "metadata": {},
   "outputs": [],
   "source": [
    "a = float(input(\"Enter 1st No:\\n\"))\n",
    "b = float(input(\"Enter 2nd No:\\n\"))\n",
    "if a > b:\n",
    "    print(a,\"is the largest No.\")\n",
    "else:\n",
    "    print(b,\"is the largest No.\")"
   ]
  },
  {
   "cell_type": "markdown",
   "id": "a92bb8bb",
   "metadata": {},
   "source": [
    "<blockquote>\n",
    "<font color='red'><b>Recall</b></font> Syntax for if else using Tertiary Operator:<br><br>\n",
    "<code>[on_True] if (condition) else [on_False]</code>\n",
    "</blockquote>\n",
    "    \n",
    "Ex 7.9 ( if else statement using tertiary operator)"
   ]
  },
  {
   "cell_type": "code",
   "execution_count": null,
   "id": "dc699575",
   "metadata": {},
   "outputs": [],
   "source": [
    "a = float(input(\"Enter 1st No:\\n\"))\n",
    "b = float(input(\"Enter 2nd No:\\n\"))\n",
    "max = a if a > b else b\n",
    "print(\"Largest No.=\", max)"
   ]
  },
  {
   "cell_type": "markdown",
   "id": "cb8a03b8",
   "metadata": {},
   "source": [
    "Ex 7.10 ( if elif else statement )"
   ]
  },
  {
   "cell_type": "code",
   "execution_count": null,
   "id": "3c6255ee",
   "metadata": {},
   "outputs": [],
   "source": [
    "a = float(input(\"Enter 1st No:\\n\"))\n",
    "b = float(input(\"Enter 2nd No:\\n\"))\n",
    "if a > b:\n",
    "    print(a,\"is the largest No.\")\n",
    "elif a == b:\n",
    "    print(a,\"and\",b,\"are equal.\")\n",
    "else:\n",
    "    print(b,\"is the largest No.\")"
   ]
  },
  {
   "cell_type": "markdown",
   "id": "8be26bfb",
   "metadata": {},
   "source": [
    "Ex 7.11 ( Half Nested if statement )"
   ]
  },
  {
   "cell_type": "code",
   "execution_count": null,
   "id": "3eb5d7c6",
   "metadata": {},
   "outputs": [],
   "source": [
    "a = float(input(\"Enter 1st no: \\n\"))\n",
    "b = float(input(\"Enter 2nd no: \\n\"))\n",
    "c = float(input(\"Enter 3rd no: \\n\"))\n",
    "if a > b:\n",
    "    if a > c:\n",
    "        print(\"largest no.= \",a)\n",
    "    else:\n",
    "        print(\"largest no.= \",c)\n",
    "else:\n",
    "    print(\"largest no.= \",b)"
   ]
  },
  {
   "cell_type": "markdown",
   "id": "1ae2ad6c",
   "metadata": {},
   "source": [
    "💡<i>What if a and b are equal numbers. For example: (1,1,2) or (1,2,2) or (2,1,2) (2,2,2)</i>\n",
    "\n",
    "<i>Ohh.. Hell no it is incorrect output, Here we go to fix it because we are programmers.</i>\n",
    "\n",
    "Ex 7.12 ( Full Nested if statement )"
   ]
  },
  {
   "cell_type": "code",
   "execution_count": null,
   "id": "02299d32",
   "metadata": {},
   "outputs": [],
   "source": [
    "a = float(input('Enter 1st No: '))\n",
    "b = float(input('Enter 2nd No: '))\n",
    "c = float(input('Enter 3rd No: '))\n",
    "if(a >= b):\n",
    "    if(a >= c):\n",
    "        largest = a\n",
    "    else:\n",
    "        largest = c\n",
    "else:\n",
    "    if(b >= c):\n",
    "        largest = b\n",
    "    else:\n",
    "        largest = c\n",
    "print(\"The largest No is\",largest)"
   ]
  },
  {
   "cell_type": "markdown",
   "id": "b0ea469a",
   "metadata": {},
   "source": [
    "### <font color='purple'>► Resume the next operators for a while</font>\n",
    "#\n",
    "💡<i>What if we want to swap two variables?</i>\n",
    "\n",
    "### Variable Swapping\n",
    "* Using third variable\n",
    "* Using Assignment operator\n",
    "* Using * and / operators\n",
    "* Using ^ ( XOR ) operator\n",
    "\n",
    "Ex 7.13 ( Using third variable )"
   ]
  },
  {
   "cell_type": "code",
   "execution_count": null,
   "id": "84ce4cea",
   "metadata": {},
   "outputs": [],
   "source": [
    "a, b = 1, 2\n",
    "print(\"Before Swap a=\",a,\"b=\",b)\n",
    "temp = a\n",
    "a = b\n",
    "b = temp\n",
    "print(\"After Swap a=\",a,\"b=\",b)"
   ]
  },
  {
   "cell_type": "markdown",
   "id": "7fff5b31",
   "metadata": {},
   "source": [
    "Ex 7.14 ( Using Assignment operator )"
   ]
  },
  {
   "cell_type": "code",
   "execution_count": null,
   "id": "f753de67",
   "metadata": {},
   "outputs": [],
   "source": [
    "a, b = 1, 2\n",
    "print(\"Before Swap a=\",a,\"b=\",b)\n",
    "a, b = b, a\n",
    "print(\"After Swap a=\",a,\"b=\",b)"
   ]
  },
  {
   "cell_type": "markdown",
   "id": "86642ec5",
   "metadata": {},
   "source": [
    "Ex 7.15 ( Using + and – operators )"
   ]
  },
  {
   "cell_type": "code",
   "execution_count": null,
   "id": "a75db489",
   "metadata": {},
   "outputs": [],
   "source": [
    "a, b = 1, 2\n",
    "print(\"Before Swap a=\",a,\"b=\",b)\n",
    "a = a + b\n",
    "b = a - b\n",
    "print(\"After Swap a=\",a,\"b=\",b)"
   ]
  },
  {
   "cell_type": "markdown",
   "id": "bf43859e",
   "metadata": {},
   "source": [
    "Ex 7.16 ( Using * and / operators )"
   ]
  },
  {
   "cell_type": "code",
   "execution_count": null,
   "id": "38f2cd6d",
   "metadata": {},
   "outputs": [],
   "source": [
    "a, b = 1, 2\n",
    "print(\"Before Swap a=\",a,\"b=\",b)\n",
    "a = a * b\n",
    "b = a / b\n",
    "a = a / b\n",
    "print(\"After Swap a=\",a,\"b=\",b)"
   ]
  },
  {
   "cell_type": "markdown",
   "id": "aa9173d2",
   "metadata": {},
   "source": [
    "### Case Study : Bus Stop Problem"
   ]
  },
  {
   "cell_type": "markdown",
   "id": "db211fa7",
   "metadata": {},
   "source": [
    "<img src=\"https://raw.githubusercontent.com/bemnetdev/Python/main/Images/bus.png\" align=\"left\" width=\"60%\">"
   ]
  },
  {
   "cell_type": "markdown",
   "id": "e424abf2",
   "metadata": {},
   "source": [
    "There are bus stops in a road each bus stop have its own number. Bus station (initial) number is 0. Each bus stop number is double of previous bus stop number. Current bus stop number is 16,\n",
    "\n",
    "* What is the bus stop number before the current bus stop?\n",
    "* What is the bus stop number next to the current bus stop?\n",
    "\n",
    "Ohhh… that is so simple. Okay let us do with a code\n",
    "\n",
    "Ex 7.17 (Bus Stop Problem by Arithmetic operators)"
   ]
  },
  {
   "cell_type": "code",
   "execution_count": null,
   "id": "9dc07c1f",
   "metadata": {},
   "outputs": [],
   "source": [
    "c = int(input(\"enter current stop\\n\"))\n",
    "p = c / 2\n",
    "p = int(p)\n",
    "n = c * 2\n",
    "print(\"Previous bus stop is\",p)\n",
    "print(\"Current bus stop is\",c)\n",
    "print(\"Next bus stop is\",n)"
   ]
  },
  {
   "cell_type": "markdown",
   "id": "8cbf6d51",
   "metadata": {},
   "source": [
    "💡<i>We can also do the previous Bus Stop Problem using another operator called Bitwise Operators. Let us see…</i>\n",
    "\n",
    "## Lesson Seven : Bitwise Operators"
   ]
  },
  {
   "cell_type": "markdown",
   "id": "17d676b1",
   "metadata": {},
   "source": [
    "### <font color='red'>What is Bitwise Operator?</font>\n",
    "Bitwise Operators are operators used to perform bitwise calculations on integers.\n",
    "\n",
    "Note : Bitwise operators work only on integers.\n",
    "\n",
    "There are six bitwise operators, those are\n",
    "* Bitwise AND\n",
    "* Bitwise OR\n",
    "* Bitwise NOT\n",
    "* Bitwise XOR\n",
    "* Bitwise right shift\n",
    "* Bitwise left shift\n",
    "\n",
    "Ex 7.18 (Bus Stop Problem using bitwise operators)"
   ]
  },
  {
   "cell_type": "code",
   "execution_count": null,
   "id": "2317bc18",
   "metadata": {},
   "outputs": [],
   "source": [
    "c = int(input(\"Enter current stop\\n\"))\n",
    "p = c >> 1\n",
    "n = c << 1\n",
    "print(\"Previous bus stop is\",p)\n",
    "print(\"Current bus stop is\",c)\n",
    "print(\"Next bus stop is\",n)"
   ]
  },
  {
   "cell_type": "markdown",
   "id": "05fa4543",
   "metadata": {},
   "source": [
    "Ex 7.19 ( Swapping Using ^ ( XOR ) operator )"
   ]
  },
  {
   "cell_type": "code",
   "execution_count": null,
   "id": "5c98dc6d",
   "metadata": {},
   "outputs": [],
   "source": [
    "a = 1\n",
    "b = 2\n",
    "print(\"Before Swap a=\",a,\"b=\",b)\n",
    "a = a ^ b\n",
    "b = a ^ b\n",
    "a = a ^ b\n",
    "print(\"After Swap a=\",a,\"b=\",b)"
   ]
  },
  {
   "cell_type": "markdown",
   "id": "016ee4ac",
   "metadata": {},
   "source": [
    "<img src=\"https://raw.githubusercontent.com/bemnetdev/Python/main/Images/bitwise_operator.png\" align=\"left\" width=\"40%\">"
   ]
  },
  {
   "cell_type": "markdown",
   "id": "7c7d51b2",
   "metadata": {},
   "source": [
    "💡<i>What if you want to search a keyword in a text?</i>\n",
    "## Lesson Eight : Membership Operators"
   ]
  },
  {
   "cell_type": "markdown",
   "id": "a9e49e14",
   "metadata": {},
   "source": [
    "### <font color='red'>What is Membership Operators?</font>\n",
    "Membership operators are operators which are used to check whether an element is present in a sequence of elements or not. Here, the sequence means strings, list, tuple, set and dictionaries.\n",
    "\n",
    "There are two membership operators. i.e.\n",
    "\n",
    "<b>1. in operator:</b> The in operators returns True if element is found in the collection of sequences. returns False if not found.\n",
    "\n",
    "<b>2. not in operator:</b> The not in operator returns True if the element is not found in the collection of sequence. returns False in found.\n",
    "\n",
    "Ex 7.20 ( Membership Operators )"
   ]
  },
  {
   "cell_type": "code",
   "execution_count": null,
   "id": "0c8562ce",
   "metadata": {},
   "outputs": [],
   "source": [
    "text = \"Welcome\"\n",
    "print(\"Well\" in text)\n",
    "print(\"wel\" in text)\n",
    "print(\"Wel\" in text)\n",
    "print(\"come\" not in text)"
   ]
  },
  {
   "cell_type": "markdown",
   "id": "a192a9f0",
   "metadata": {},
   "source": [
    "💡<i>What if you want to check a person whether he/she is belong to class 10A or not?</i>\n",
    "\n",
    "Ex 7.21 ( Membership Operators )"
   ]
  },
  {
   "cell_type": "code",
   "execution_count": null,
   "id": "b57bc75b",
   "metadata": {},
   "outputs": [],
   "source": [
    "class_10A = [\"John\", \"Eden\", \"Bob\"]\n",
    "print(\"john\" in class_10A)\n",
    "print(\"Lucas\" not in class_10A)"
   ]
  },
  {
   "cell_type": "markdown",
   "id": "97800122",
   "metadata": {},
   "source": [
    "💡<i>What if a user just want to evaluate some calculation without using variables?</i>\n",
    "\n",
    "## Lesson Nine : eval() Function\n",
    "This is an in-built function available in python, which takes the strings as an input. The strings which we pass to it should, generally, be expressions. The eval() function takes the expression in the form of string and evaluates it and returns the result.\n",
    "\n",
    "Ex 7.22 ( eval() function /Arithmetic Operator/ )"
   ]
  },
  {
   "cell_type": "code",
   "execution_count": null,
   "id": "19335c24",
   "metadata": {},
   "outputs": [],
   "source": [
    "eval('10 + 10')"
   ]
  },
  {
   "cell_type": "markdown",
   "id": "8a0e28f2",
   "metadata": {},
   "source": [
    "### <b>`EXERCISE 7.6`<b>\n",
    "    \n",
    "`Create two integer variables \"a\" and \"b\" take input from a user, then calculate their average by using eval() function?`"
   ]
  },
  {
   "cell_type": "code",
   "execution_count": null,
   "id": "120f5a1f",
   "metadata": {},
   "outputs": [],
   "source": [
    "# write your answer code here\n"
   ]
  },
  {
   "cell_type": "markdown",
   "id": "15bee39b",
   "metadata": {},
   "source": [
    "💡<i>What if we want to take input from user?</i>\n",
    "\n",
    "Ex 7.23 ( eval() function /Take inputs from a user/ )"
   ]
  },
  {
   "cell_type": "code",
   "execution_count": null,
   "id": "3d029044",
   "metadata": {},
   "outputs": [],
   "source": [
    "eval(input(\"Enter expression: \"))"
   ]
  },
  {
   "cell_type": "markdown",
   "id": "dbde65fc",
   "metadata": {},
   "source": [
    "Ex 7.24 ( eval() function /Compound Operator/ )"
   ]
  },
  {
   "cell_type": "code",
   "execution_count": null,
   "id": "3405be1b",
   "metadata": {},
   "outputs": [],
   "source": [
    "a = 1\n",
    "eval('a += 2')"
   ]
  },
  {
   "cell_type": "markdown",
   "id": "20ea75ba",
   "metadata": {},
   "source": [
    "Ex 7.25 ( eval() function /Unary Minus Operator/ )"
   ]
  },
  {
   "cell_type": "code",
   "execution_count": null,
   "id": "a21e4685",
   "metadata": {},
   "outputs": [],
   "source": [
    "a = 5\n",
    "eval('-a ')"
   ]
  },
  {
   "cell_type": "markdown",
   "id": "06e2f174",
   "metadata": {},
   "source": [
    "Ex 7.26 ( eval() function /Relational Operator/ )"
   ]
  },
  {
   "cell_type": "code",
   "execution_count": null,
   "id": "c1ac4505",
   "metadata": {},
   "outputs": [],
   "source": [
    "eval('1 > 2')"
   ]
  },
  {
   "cell_type": "markdown",
   "id": "8fd27830",
   "metadata": {},
   "source": [
    "Ex 7.27 ( eval() function /Logical Operator/ )"
   ]
  },
  {
   "cell_type": "code",
   "execution_count": null,
   "id": "0ba5eb3d",
   "metadata": {},
   "outputs": [],
   "source": [
    "eval('0 and 1')"
   ]
  },
  {
   "cell_type": "markdown",
   "id": "afc6e412",
   "metadata": {},
   "source": [
    "Ex 7.28 ( eval() function /Bitwise Operator/ )"
   ]
  },
  {
   "cell_type": "code",
   "execution_count": null,
   "id": "089c7b0c",
   "metadata": {},
   "outputs": [],
   "source": [
    "eval('2 << 3')"
   ]
  },
  {
   "cell_type": "markdown",
   "id": "2452c2ec",
   "metadata": {},
   "source": [
    "Ex 7.29 ( eval() function /Membership Operator/ )"
   ]
  },
  {
   "cell_type": "code",
   "execution_count": null,
   "id": "933ce054",
   "metadata": {},
   "outputs": [],
   "source": [
    "s = \"John\"\n",
    "eval('\"Jo\" in s')"
   ]
  },
  {
   "cell_type": "markdown",
   "id": "4e0ff6a6",
   "metadata": {},
   "source": [
    "Ex 7.30 ( eval() function /Identity Operator/ )"
   ]
  },
  {
   "cell_type": "code",
   "execution_count": null,
   "id": "72fa3683",
   "metadata": {},
   "outputs": [],
   "source": [
    "eval('1 is 2')"
   ]
  },
  {
   "cell_type": "markdown",
   "id": "45df876d",
   "metadata": {},
   "source": [
    "Ex 7.31 ( eval() function /math() function/ )"
   ]
  },
  {
   "cell_type": "code",
   "execution_count": null,
   "id": "f7f4a5e8",
   "metadata": {},
   "outputs": [],
   "source": [
    "from math import *\n",
    "print(eval('log(1)'))"
   ]
  },
  {
   "cell_type": "markdown",
   "id": "a3964c2e",
   "metadata": {},
   "source": [
    "### <b>`EXERCISE 7.6`<b>\n",
    "    \n",
    "`Calculate`\n",
    "\n",
    "`■ ln(e)`\n",
    " \n",
    "`■ cos(90°)`\n",
    " \n",
    "`■ 10 the power of 5`\n",
    " \n",
    "`■ Square root of 625`\n",
    "    \n",
    "`■ Ceil and Floor of 6.5`\n",
    "    \n",
    "`Using eval() function?`"
   ]
  },
  {
   "cell_type": "code",
   "execution_count": null,
   "id": "5fc57a87",
   "metadata": {},
   "outputs": [],
   "source": [
    "# write your answer code here\n"
   ]
  },
  {
   "cell_type": "markdown",
   "id": "0c76c970",
   "metadata": {},
   "source": [
    "# // END OF CHAPTER SEVEN\n",
    "<a href=\"https://www.linkedin.com/in/bemnetdev/\">Click here</a> for Chapter Eight"
   ]
  }
 ],
 "metadata": {
  "kernelspec": {
   "display_name": "Python 3 (ipykernel)",
   "language": "python",
   "name": "python3"
  },
  "language_info": {
   "codemirror_mode": {
    "name": "ipython",
    "version": 3
   },
   "file_extension": ".py",
   "mimetype": "text/x-python",
   "name": "python",
   "nbconvert_exporter": "python",
   "pygments_lexer": "ipython3",
   "version": "3.11.5"
  }
 },
 "nbformat": 4,
 "nbformat_minor": 5
}
