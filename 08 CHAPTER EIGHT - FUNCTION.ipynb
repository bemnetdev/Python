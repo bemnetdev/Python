{
 "cells": [
  {
   "cell_type": "markdown",
   "id": "6c57c50b",
   "metadata": {},
   "source": [
    "<div style=\"text-align: right\"><b>DS50 2024</b> | Python by <a href=\"https://www.linkedin.com/in/bemnetdev/\">Bemnet Girma</a></div>\n",
    "\n",
    "#\n",
    "# <center><font size=\"80\">⚙️</font><br><br>CHAPTER EIGHT<br><br><font size=\"80\">FUNCTION</font><br><br><hr style=\"border:6px solid black\"> </hr></center>"
   ]
  },
  {
   "cell_type": "markdown",
   "id": "5fa64848",
   "metadata": {},
   "source": [
    "## Lesson One : Introduction to Function"
   ]
  },
  {
   "cell_type": "markdown",
   "id": "f3c060e4",
   "metadata": {},
   "source": [
    "### <font color='red'>Why function is required?</font>"
   ]
  },
  {
   "cell_type": "markdown",
   "id": "a9727107",
   "metadata": {},
   "source": [
    "<i>Let us understand this with an example. When you go to school in every morning, the things you do are</i>\n",
    "* Get up from the bed\n",
    "* Wash your face\n",
    "* Brush your teeth\n",
    "* Wear your uniform\n",
    "* Eat your breakfast\n",
    "* Go to School.\n",
    "\n",
    "<i>Think of this sequence of steps to do morning to go to school. Now when your mom wakes you up for school, she doesn’t need to explain all these steps each time to you. Whenever your mom says, “Get ready for school”, it’s like making a function call. “Going to school‟ is an abstraction for all the above steps involved.</i>"
   ]
  },
  {
   "cell_type": "markdown",
   "id": "3103971a",
   "metadata": {},
   "source": [
    "### <font color='red'>When should we go for function?</font>\n",
    "While writing coding logic, instead of writing like a plain text, it’s good to keep those coding statements in one separate block, because whenever required then we can call these. If a group of statements is repeatedly required, then it is not recommended to write these statements each and every time separately.\n",
    "\n",
    "So, it’s good to define these statements in a separate block. After defining a function we can call directly if required. This block of statements is called a function. Let us understand more by doing practically."
   ]
  },
  {
   "cell_type": "markdown",
   "id": "b22c01bb",
   "metadata": {},
   "source": [
    "### <font color='red'>What is a Function?</font>\n",
    "A function is a group of statements or a block of code to perform a certain task.\n",
    "\n",
    "<i><b><font color='blue'>NB: Function is a block of code which only runs when it is called.</font></b></i>\n",
    "\n",
    "The advantages of using functions are:\n",
    "* Maintaining the code is an easy way.\n",
    "* Organize and manage our code\n",
    "* Code re-usability.\n",
    "\n",
    "<blockquote>Example: print() is predefined function in python which prints output on the desktop.</blockquote>"
   ]
  },
  {
   "cell_type": "markdown",
   "id": "be7ceb04",
   "metadata": {},
   "source": [
    "### Types of functions\n",
    "There are many categories based on which we can categorize the functions.\n",
    "\n",
    "<i><b><font color='blue'>PS. This categorization is based on who created it.</font></b></i>\n",
    "\n",
    "1. Pre-defined or built-in functions\n",
    "2. User-defined functions\n",
    "\n",
    "#### Predefined or built-in functions\n",
    "The functions which come installed along with python software are called predefined or built-in functions. We have covered some inbuilt functions in examples of earlier chapters. Some of them are id(), type(), input(), print() etc.\n",
    "\n",
    "#### User-defined functions\n",
    "The functions which are defined by the developer as per the requirement are called as user defined functions. In this chapter we shall concentrate on these kind of functions which are used defined."
   ]
  },
  {
   "cell_type": "markdown",
   "id": "ff9e604f",
   "metadata": {},
   "source": [
    "### <font color='red'>How to Create and call a Function?</font>\n",
    "From creating a function to using it, these are the two things that are done.\n",
    "* Defining function\n",
    "* Calling function"
   ]
  },
  {
   "cell_type": "markdown",
   "id": "1c8b9466",
   "metadata": {},
   "source": [
    "### 1. Defining a function\n",
    "<blockquote>\n",
    "Syntax to define function\n",
    "<code>    \n",
    "def f(parameters):\n",
    "    //body of function\n",
    "    return value\n",
    "</code>\n",
    "</blockquote>\n",
    "    \n",
    "<i><b><font color='blue'>PS. variable ‘ f ’ stands for name of the function.</font></b></i>\n",
    "    \n",
    "* <b>def keyword</b> – Every function in python should start with the keyword ‘def’. In other words, python can understand the code as part of a function if it contains the ‘def’ keyword only.<br><br>\n",
    "    <i><b><font color='blue'>PS. ‘def’ means define a function.</font></b></i><br><br>\n",
    "* <b>Name of the function</b> – Every function should be given a name, which can later be used to call it.\n",
    "* <b>Parenthesis</b> – After the name ‘()’ parentheses are required\n",
    "* <b>Parameters</b> – The parameters, if any, should be included within the parenthesis.\n",
    "* <b>Colon symbol ‘:’</b> should be mandatorilyplaced immediately after closing the parentheses.\n",
    "* <b>Body of function</b> – All the code that does some operation should go in the body of the function. The body of the function should have indentation of one level with respect to the line containing the ‘def’ keyword.\n",
    "* <b>Return value /statement/</b>– Return statement should be in the body of the function. It’s not mandatory to have a return statement.\n",
    "\n",
    "Ex 8.1 ( Define a function )"
   ]
  },
  {
   "cell_type": "code",
   "execution_count": 1,
   "id": "254b857e",
   "metadata": {},
   "outputs": [],
   "source": [
    "def add():\n",
    "    a, b = 1, 2\n",
    "    c = a + b\n",
    "    return"
   ]
  },
  {
   "cell_type": "markdown",
   "id": "d20d9b19",
   "metadata": {},
   "source": [
    "Note: After defining a function we can call the function using its name. While calling a function, we need to pass the parameters if it has any.\n",
    "\n",
    "### 2. Calling a function\n",
    "In the above example we defined a function with the name ‘add’ to add two nos. But when we execute the above code, it will not display any output, because the function is not called. Hence, function calling is also important along with function definition.\n",
    "\n",
    "Note: When a function is called once then it will execute once, if called twice then it will be executed twice and so on.\n",
    "<blockquote>\n",
    "Syntax to call a function:\n",
    "<code>\n",
    "f(parameters)\n",
    "</code>\n",
    "</blockquote>"
   ]
  },
  {
   "cell_type": "code",
   "execution_count": 2,
   "id": "56c7dc91",
   "metadata": {},
   "outputs": [
    {
     "data": {
      "text/plain": [
       "3"
      ]
     },
     "execution_count": 2,
     "metadata": {},
     "output_type": "execute_result"
    }
   ],
   "source": [
    "# defining function\n",
    "def add():\n",
    "    a, b = 1, 2\n",
    "    c = a + b\n",
    "    return c\n",
    "\n",
    "# calling function\n",
    "add()"
   ]
  },
  {
   "cell_type": "markdown",
   "id": "ab756004",
   "metadata": {},
   "source": [
    "After defining a function, we need to call to execute the function. While calling the function, we have to call with the same name of the function which we used while defining it, otherwise we will get an error.\n",
    "\n",
    "Ex 8.3 ( Define a function & call it with different name )"
   ]
  },
  {
   "cell_type": "code",
   "execution_count": 3,
   "id": "4d33f1bf",
   "metadata": {},
   "outputs": [
    {
     "ename": "NameError",
     "evalue": "name 'two' is not defined",
     "output_type": "error",
     "traceback": [
      "\u001b[1;31m---------------------------------------------------------------------------\u001b[0m",
      "\u001b[1;31mNameError\u001b[0m                                 Traceback (most recent call last)",
      "Cell \u001b[1;32mIn[3], line 8\u001b[0m\n\u001b[0;32m      5\u001b[0m     \u001b[38;5;28;01mreturn\u001b[39;00m c\n\u001b[0;32m      7\u001b[0m \u001b[38;5;66;03m# calling function\u001b[39;00m\n\u001b[1;32m----> 8\u001b[0m two()\n",
      "\u001b[1;31mNameError\u001b[0m: name 'two' is not defined"
     ]
    }
   ],
   "source": [
    "# defining function\n",
    "def add():\n",
    "    a, b = 1, 2\n",
    "    c = a + b\n",
    "    return c\n",
    "\n",
    "# calling function\n",
    "two()"
   ]
  },
  {
   "cell_type": "markdown",
   "id": "6384783d",
   "metadata": {},
   "source": [
    "### <b>`EXERCISE 8.1`<b>\n",
    "`Create a function to calculate average of two numbers?`"
   ]
  },
  {
   "cell_type": "code",
   "execution_count": null,
   "id": "072d02e5",
   "metadata": {},
   "outputs": [],
   "source": [
    "# write your answer code here\n"
   ]
  },
  {
   "cell_type": "markdown",
   "id": "06600ed9",
   "metadata": {},
   "source": [
    "### <font color='red'>What is return value?</font>\n",
    "As mentioned above, the return statement is included in the function body, and it returns some result after doing the operations.\n",
    "\n",
    "<b>Some points about return statement</b>\n",
    "* return is a keyword in python.\n",
    "* By using return, we can return the result.\n",
    "* It is not mandatory for a function to have a return statement.\n",
    "* If there is not return statement in the function body then the function, by default, returns None"
   ]
  },
  {
   "cell_type": "markdown",
   "id": "6c74a2d8",
   "metadata": {},
   "source": [
    "### <b>`EXERCISE 8.2`<b>\n",
    "`Create a function to calculate \"a power of b\" by using eval() function?`"
   ]
  },
  {
   "cell_type": "code",
   "execution_count": null,
   "id": "40ded8c4",
   "metadata": {},
   "outputs": [],
   "source": [
    "# write your answer code here\n"
   ]
  },
  {
   "cell_type": "markdown",
   "id": "b29569d7",
   "metadata": {},
   "source": [
    "### <font color='red'>How to return multiple values?</font>\n",
    "In python, a function can return multiple values.\n",
    "\n",
    "Ex 8.4 ( Function which return multiple values )"
   ]
  },
  {
   "cell_type": "code",
   "execution_count": 4,
   "id": "8b1f356a",
   "metadata": {},
   "outputs": [
    {
     "data": {
      "text/plain": [
       "(5, 1)"
      ]
     },
     "execution_count": 4,
     "metadata": {},
     "output_type": "execute_result"
    }
   ],
   "source": [
    "# defining a function\n",
    "def cal():\n",
    "    a, b = 3, 2\n",
    "    c = a + b\n",
    "    d = a - b\n",
    "    return c, d\n",
    "\n",
    "# calling function\n",
    "cal()"
   ]
  },
  {
   "cell_type": "markdown",
   "id": "1cd6a6ef",
   "metadata": {},
   "source": [
    "### <b>`EXERCISE 8.3`<b>\n",
    "`Create a function to calculate (return) sum and average of two numbers?`"
   ]
  },
  {
   "cell_type": "code",
   "execution_count": null,
   "id": "b8f29822",
   "metadata": {},
   "outputs": [],
   "source": [
    "# write your answer code here\n"
   ]
  },
  {
   "cell_type": "markdown",
   "id": "b101708e",
   "metadata": {},
   "source": [
    "Based on the parameters, functions can be categorized into two types. They are:\n",
    "* Function without parameters\n",
    "* Function with parameters"
   ]
  },
  {
   "cell_type": "markdown",
   "id": "d7fa01b6",
   "metadata": {},
   "source": [
    "### <font color='red'>What is Non-parametric function?</font>\n",
    "A function which has no parameters in the function definition is called as Non-parametric function or function without parameters. \n",
    "<blockquote>\n",
    "Syntax of non-parametric function:\n",
    "\n",
    "<code>\n",
    "def f():\n",
    "    //body of function\n",
    "    return value\n",
    "</code>\n",
    "</blockquote>\n",
    "\n",
    "Ex 8.5 ( Non-parametric Function )"
   ]
  },
  {
   "cell_type": "code",
   "execution_count": 5,
   "id": "1ff33538",
   "metadata": {},
   "outputs": [
    {
     "name": "stdout",
     "output_type": "stream",
     "text": [
      "Welcome to facebook.\n"
     ]
    }
   ],
   "source": [
    "# defining a function\n",
    "def display():\n",
    "    print(\"Welcome to facebook.\")\n",
    "\n",
    "# calling function\n",
    "display()"
   ]
  },
  {
   "cell_type": "markdown",
   "id": "12c021ee",
   "metadata": {},
   "source": [
    "## Lesson Two : Function with Argument"
   ]
  },
  {
   "cell_type": "markdown",
   "id": "e9761bd7",
   "metadata": {},
   "source": [
    "### <font color='red'>What is Parametric function?</font>\n",
    "A function which has parameter(s) in the function definition as an input is called as parametric function or function with argument."
   ]
  },
  {
   "cell_type": "markdown",
   "id": "59cf7514",
   "metadata": {},
   "source": [
    "### <font color='red'>What is Argument?</font>\n",
    "An argument is a variable (which contains data) or a parameter which is sent to the function as input.\n",
    "\n",
    "Before getting into argument types, let’s get familiar with words formal and actual arguments.\n",
    "\n",
    "#### 1. Formal arguments\n",
    "When a function is defined it (may) has (have) some parameters within the parentheses. These parameters, which receive the values sent from the function call, are called formal arguments.\n",
    "\n",
    "#### 2. Actual arguments\n",
    "The parameters which we use in the function call or the parameters which we use to send the values/data during the function calling are called actual arguments.\n",
    "\n",
    "In the example down below:\n",
    "* a and b are formal arguments.\n",
    "* 7 and 3 are actual arguments.\n",
    "\n",
    "Ex 8.6 ( Parametric Function )"
   ]
  },
  {
   "cell_type": "code",
   "execution_count": 6,
   "id": "9a1d608a",
   "metadata": {},
   "outputs": [
    {
     "name": "stdout",
     "output_type": "stream",
     "text": [
      "10\n"
     ]
    }
   ],
   "source": [
    "# defining a function\n",
    "def add(a,b):\n",
    "    c = a+b\n",
    "    print(c)\n",
    "\n",
    "# calling a function\n",
    "add(7, 3)"
   ]
  },
  {
   "cell_type": "markdown",
   "id": "f638cf07",
   "metadata": {},
   "source": [
    "### <b>`EXERCISE 8.4`<b>\n",
    "`Create a parametric function to check a number is even or odd?`"
   ]
  },
  {
   "cell_type": "code",
   "execution_count": null,
   "id": "4bda55d4",
   "metadata": {},
   "outputs": [],
   "source": [
    "# write your answer code here\n"
   ]
  },
  {
   "cell_type": "markdown",
   "id": "9f1d7d60",
   "metadata": {},
   "source": [
    "### Types of Arguments\n",
    "In python, depending on the way or format we send the arguments to the function, the arguments can be classified into five types:\n",
    "1. Positional arguments\n",
    "2. Keyword arguments\n",
    "3. Default arguments\n",
    "4. Variable length arguments\n",
    "5. keyword variable length argument\n",
    "\n",
    "#### 1. Positional Arguments\n",
    "If there are three arguments (formal arguments) in the function definition, then you need to send three arguments(actual arguments) while calling the function. The actual arguments will be received by the formal arguments in the same order as in the\n",
    "function calling.\n",
    "\n",
    "Ex 8.7 ( Positional Arguments )"
   ]
  },
  {
   "cell_type": "code",
   "execution_count": 7,
   "id": "dfcc48dd",
   "metadata": {},
   "outputs": [
    {
     "name": "stdout",
     "output_type": "stream",
     "text": [
      "3\n"
     ]
    }
   ],
   "source": [
    "# defining a function\n",
    "def sub(a,b):\n",
    "    c = a - b\n",
    "    print(c)\n",
    "    \n",
    "# calling a function\n",
    "sub(5, 2)"
   ]
  },
  {
   "cell_type": "markdown",
   "id": "1fa7c04a",
   "metadata": {},
   "source": [
    "Let’s understand this through an example. In the above example the actual arguments 5, 2 will be received in the same order sent i.e. 5 will go into variable ‘a’, and 2 will go into variable ‘b’. \n",
    "\n",
    "The number of arguments and position of arguments should be matched, otherwise we will get errors as shown below.\n",
    "\n",
    "Ex 8.8 ( Positional arguments Error )"
   ]
  },
  {
   "cell_type": "code",
   "execution_count": 8,
   "id": "5941e4a3",
   "metadata": {},
   "outputs": [
    {
     "ename": "TypeError",
     "evalue": "sub() takes 2 positional arguments but 3 were given",
     "output_type": "error",
     "traceback": [
      "\u001b[1;31m---------------------------------------------------------------------------\u001b[0m",
      "\u001b[1;31mTypeError\u001b[0m                                 Traceback (most recent call last)",
      "Cell \u001b[1;32mIn[8], line 7\u001b[0m\n\u001b[0;32m      4\u001b[0m     \u001b[38;5;28mprint\u001b[39m(c)\n\u001b[0;32m      6\u001b[0m \u001b[38;5;66;03m# calling function\u001b[39;00m\n\u001b[1;32m----> 7\u001b[0m sub(\u001b[38;5;241m10\u001b[39m, \u001b[38;5;241m20\u001b[39m, \u001b[38;5;241m30\u001b[39m)\n",
      "\u001b[1;31mTypeError\u001b[0m: sub() takes 2 positional arguments but 3 were given"
     ]
    }
   ],
   "source": [
    "# defining a function\n",
    "def sub(a, b):\n",
    "    c = a - b\n",
    "    print(c)\n",
    "    \n",
    "# calling function\n",
    "sub(10, 20, 30)"
   ]
  },
  {
   "cell_type": "markdown",
   "id": "86d14351",
   "metadata": {},
   "source": [
    "If we send the arguments as 2, 5 then 2 will go into ‘a’ and 5 will go into ‘b’ then we will get different result(output).\n",
    "\n",
    "Ex 8.9 ( Positional arguments )"
   ]
  },
  {
   "cell_type": "code",
   "execution_count": 9,
   "id": "ba961d53",
   "metadata": {},
   "outputs": [
    {
     "name": "stdout",
     "output_type": "stream",
     "text": [
      "-3\n"
     ]
    }
   ],
   "source": [
    "# defining a function\n",
    "def sub(a, b):\n",
    "    c = a - b\n",
    "    print(c)\n",
    "\n",
    "# calling function\n",
    "sub(2, 5)"
   ]
  },
  {
   "cell_type": "markdown",
   "id": "d9846482",
   "metadata": {},
   "source": [
    "<i>💡How to resolve the above problem?</i>\n",
    "\n",
    "#### 2. Keyword Arguments\n",
    "In the function call, if we send the values using keys then they are called keyword arguments. Here, keys are nothing but the names of the variables. In a way, we can say that keyword arguments are arguments that recognize the parameters by the name of the parameters.\n",
    "\n",
    "Ex 8.10 ( Keyword arguments )"
   ]
  },
  {
   "cell_type": "code",
   "execution_count": 10,
   "id": "b973f4a1",
   "metadata": {},
   "outputs": [
    {
     "name": "stdout",
     "output_type": "stream",
     "text": [
      "3\n"
     ]
    }
   ],
   "source": [
    "# defining a function\n",
    "def sub(a, b):\n",
    "    c = a - b\n",
    "    print(c)\n",
    "    \n",
    "# calling a function\n",
    "sub(b=2, a=5)"
   ]
  },
  {
   "cell_type": "markdown",
   "id": "f28787e2",
   "metadata": {},
   "source": [
    "At the time of calling this function, we must pass two values and we can write which value is for what by using name of the parameter.\n",
    "\n",
    "<b><i>f(keyword = actual_argument)</i></b>\n",
    "\n",
    "<i><b><font color='blue'>PS. a and b are called as keywords in this scenario.</font></b></i>\n",
    "\n",
    "Here we can change the order of arguments."
   ]
  },
  {
   "cell_type": "markdown",
   "id": "1390ac65",
   "metadata": {},
   "source": [
    "### <b>`EXERCISE 8.5`<b>\n",
    "`Create a function to print student id and student name using keyword arguments?`"
   ]
  },
  {
   "cell_type": "code",
   "execution_count": null,
   "id": "c64f10d0",
   "metadata": {},
   "outputs": [],
   "source": [
    "# write your answer code here\n"
   ]
  },
  {
   "cell_type": "markdown",
   "id": "5ac8df31",
   "metadata": {},
   "source": [
    "💡<i>Can we use both positional and keyword arguments? Yes of course…</i>\n",
    "#### 3. Positional and keyword arguments\n",
    "We can use both positional and keyword arguments simultaneously. But first we must take positional arguments and then keyword arguments, otherwise we will get syntax error.\n",
    "\n",
    "Ex 8.11 ( Positional and keyword arguments )"
   ]
  },
  {
   "cell_type": "code",
   "execution_count": 11,
   "id": "988fc66d",
   "metadata": {},
   "outputs": [
    {
     "name": "stdout",
     "output_type": "stream",
     "text": [
      "3\n"
     ]
    }
   ],
   "source": [
    "# defining a function\n",
    "def sub(a, b):\n",
    "    c = a - b\n",
    "    print(c)\n",
    "    \n",
    "# calling a function\n",
    "sub(5, b=2)"
   ]
  },
  {
   "cell_type": "markdown",
   "id": "18de2a75",
   "metadata": {},
   "source": [
    "Ex 8.12 ( Positional and keyword arguments Error )"
   ]
  },
  {
   "cell_type": "code",
   "execution_count": 12,
   "id": "766cf17f",
   "metadata": {},
   "outputs": [
    {
     "ename": "SyntaxError",
     "evalue": "positional argument follows keyword argument (4132154027.py, line 7)",
     "output_type": "error",
     "traceback": [
      "\u001b[1;36m  Cell \u001b[1;32mIn[12], line 7\u001b[1;36m\u001b[0m\n\u001b[1;33m    sub(a=5, 2)\u001b[0m\n\u001b[1;37m              ^\u001b[0m\n\u001b[1;31mSyntaxError\u001b[0m\u001b[1;31m:\u001b[0m positional argument follows keyword argument\n"
     ]
    }
   ],
   "source": [
    "# defining a function\n",
    "def sub(a, b):\n",
    "    c = a - b\n",
    "    print(c)\n",
    "    \n",
    "# calling a function\n",
    "sub(a=5, 2)"
   ]
  },
  {
   "cell_type": "markdown",
   "id": "5d22cb26",
   "metadata": {},
   "source": [
    "### <b>`EXERCISE 8.6`<b>\n",
    "`Create a function to print phone brand and phone price using positional keyword arguments?`"
   ]
  },
  {
   "cell_type": "markdown",
   "id": "588f409e",
   "metadata": {},
   "source": [
    "If you don’t pass exact number of parameters you will get a Type error.\n",
    "\n",
    "Ex 8.13 ( Positional arguments TypeError )"
   ]
  },
  {
   "cell_type": "code",
   "execution_count": 13,
   "id": "9e60d674",
   "metadata": {},
   "outputs": [
    {
     "ename": "TypeError",
     "evalue": "sub() missing 1 required positional argument: 'b'",
     "output_type": "error",
     "traceback": [
      "\u001b[1;31m---------------------------------------------------------------------------\u001b[0m",
      "\u001b[1;31mTypeError\u001b[0m                                 Traceback (most recent call last)",
      "Cell \u001b[1;32mIn[13], line 7\u001b[0m\n\u001b[0;32m      4\u001b[0m     \u001b[38;5;28mprint\u001b[39m(c)\n\u001b[0;32m      6\u001b[0m \u001b[38;5;66;03m# calling function\u001b[39;00m\n\u001b[1;32m----> 7\u001b[0m sub(a\u001b[38;5;241m=\u001b[39m\u001b[38;5;241m5\u001b[39m)\n",
      "\u001b[1;31mTypeError\u001b[0m: sub() missing 1 required positional argument: 'b'"
     ]
    }
   ],
   "source": [
    "# defining a function\n",
    "def sub(a, b):\n",
    "    c = a - b\n",
    "    print(c)\n",
    "    \n",
    "# calling function\n",
    "sub(a=5)"
   ]
  },
  {
   "cell_type": "markdown",
   "id": "b8bf4147",
   "metadata": {},
   "source": [
    "💡<i>How to resolve the above error?</i>\n",
    "#### 4. Default Arguments\n",
    "In the function definition, while declaring parameters, we can assign some value to the parameters, which are called default values. Such default values will be considered when the function call does not send any data to the parameter.\n",
    "\n",
    "Let’s take earlier function as an example. There, the function sub() has parameters as a and b. To resolve TypeError, we can set the default value of b as 0, then default values will be overridden with passed value.\n",
    "\n",
    "Ex 8.14 ( Default arguments )"
   ]
  },
  {
   "cell_type": "code",
   "execution_count": 15,
   "id": "2a555d45",
   "metadata": {},
   "outputs": [
    {
     "name": "stdout",
     "output_type": "stream",
     "text": [
      "3\n",
      "5\n"
     ]
    }
   ],
   "source": [
    "# defining a function\n",
    "def sub(a, b=0):\n",
    "    c = a - b\n",
    "    print(c)\n",
    "    \n",
    "# calling a function\n",
    "sub(a=5, b=2)\n",
    "\n",
    "# calling a function\n",
    "sub(a=5)"
   ]
  },
  {
   "cell_type": "markdown",
   "id": "23b0fb30",
   "metadata": {},
   "source": [
    "Note: If we are not passing any value, then only default value will be considered. While defining a function, after default arguments we should not take non-default arguments.\n",
    "\n",
    "Ex 8.15 ( Default arguments Error )"
   ]
  },
  {
   "cell_type": "code",
   "execution_count": 16,
   "id": "51a6acf2",
   "metadata": {},
   "outputs": [
    {
     "ename": "SyntaxError",
     "evalue": "non-default argument follows default argument (1340503961.py, line 2)",
     "output_type": "error",
     "traceback": [
      "\u001b[1;36m  Cell \u001b[1;32mIn[16], line 2\u001b[1;36m\u001b[0m\n\u001b[1;33m    def add(a=3, b):\u001b[0m\n\u001b[1;37m                 ^\u001b[0m\n\u001b[1;31mSyntaxError\u001b[0m\u001b[1;31m:\u001b[0m non-default argument follows default argument\n"
     ]
    }
   ],
   "source": [
    "# defining a function\n",
    "def add(a=3, b):\n",
    "    print(a + b)\n",
    "\n",
    "# calling a function\n",
    "add(a=5, b=2)\n",
    "\n",
    "# calling a function\n",
    "add(a=9)"
   ]
  },
  {
   "cell_type": "markdown",
   "id": "0f59a619",
   "metadata": {},
   "source": [
    "### <b>`EXERCISE 8.7`<b>\n",
    "`Create a function to print football player name and no. of goals he scored using default arguments?`\n",
    "\n",
    "`Default no. of goal is 0`"
   ]
  },
  {
   "cell_type": "code",
   "execution_count": null,
   "id": "284eeb13",
   "metadata": {},
   "outputs": [],
   "source": [
    "# write your answer code here\n"
   ]
  },
  {
   "cell_type": "markdown",
   "id": "98d05947",
   "metadata": {},
   "source": [
    "💡<i>What if you don’t know number of values to pass?</i>\n",
    "#### 5. Variable Length Arguments\n",
    "Sometimes, the programmer (you) does not know how many values need to pass to function. In that case, the programmer cannot decide how many arguments to be given in the function definition. Therefore, we use variable length arguments to accept n number of arguments.\n",
    "\n",
    "The variable length argument is an argument that can accept any number of values.\n",
    "\n",
    "The variable length argument is written with a ‘*’ (one star) before variable in function definition.\n",
    "\n",
    "<blockquote>\n",
    "Syntax for Variable length Arguments:\n",
    "<code>\n",
    "def f(x, *y):\n",
    "    //body of function\n",
    "    return value\n",
    "</code>\n",
    "</blockquote>\n",
    "\n",
    "x is formal argument, *y is variable length argument. Now we can pass any number of values to this *y.\n",
    "\n",
    "<i><b><font color='blue'>PS. Internally, provided values will be represented in tuple.</font></b></i>\n",
    "\n",
    "Ex 8.16 ( Variable length argument )"
   ]
  },
  {
   "cell_type": "code",
   "execution_count": 19,
   "id": "33a514ee",
   "metadata": {},
   "outputs": [
    {
     "name": "stdout",
     "output_type": "stream",
     "text": [
      "John ()\n",
      "John (20,)\n",
      "John (20, 3.7)\n"
     ]
    }
   ],
   "source": [
    "# defining a function\n",
    "def detail(name, *others):\n",
    "    print(name, others)\n",
    "\n",
    "# calling a function\n",
    "detail(\"John\")\n",
    "\n",
    "# calling a function\n",
    "detail(\"John\", 20)\n",
    "\n",
    "# calling a function\n",
    "detail(\"John\", 20, 3.7)"
   ]
  },
  {
   "cell_type": "markdown",
   "id": "6e9b8d05",
   "metadata": {},
   "source": [
    "💡<i>How to identify other values?</i>"
   ]
  },
  {
   "cell_type": "markdown",
   "id": "f44b9e11",
   "metadata": {},
   "source": [
    "### <b>`EXERCISE 8.8`<b>\n",
    "`Create a function to print player name and other details of him using variable length arguments?`"
   ]
  },
  {
   "cell_type": "code",
   "execution_count": null,
   "id": "bfe6d9e5",
   "metadata": {},
   "outputs": [],
   "source": [
    "# write your answer code here\n"
   ]
  },
  {
   "cell_type": "markdown",
   "id": "6fcbc5c7",
   "metadata": {},
   "source": [
    "<b>keyword variable length argument (**variable)</b>\n",
    "\n",
    "Just as variable length arguments, there are keyword variable length arguments which are n key value pairs.\n",
    "<blockquote>\n",
    "The syntax is given below:\n",
    "\n",
    "<code>\n",
    "def f(**x):\n",
    "    //body of function\n",
    "    return value\n",
    "</code>\n",
    "</blockquote>\n",
    "**x represents as keyword variable argument. Internally it represents like a dictionary. A dictionary stores the data in the form of key value pairs.\n",
    "\n",
    "Ex 8.17 ( keyword variable length argument )"
   ]
  },
  {
   "cell_type": "code",
   "execution_count": 23,
   "id": "60f1fb05",
   "metadata": {},
   "outputs": [
    {
     "name": "stdout",
     "output_type": "stream",
     "text": [
      "{'name': 'John', 'age': 20, 'gpa': 3.7}\n"
     ]
    }
   ],
   "source": [
    "# defining a function\n",
    "def detail(**others):\n",
    "    print(others)\n",
    "    \n",
    "# calling a function\n",
    "detail(name='John', age=20, gpa=3.7)"
   ]
  },
  {
   "cell_type": "markdown",
   "id": "4e6a5169",
   "metadata": {},
   "source": [
    "## Lesson Three : Function as a Parameter\n",
    "\n",
    "### Function as a variable\n",
    "\n",
    "<i><b><font color='blue'>PS. We can also assign return value to a variable.</font></b></i>\n",
    "\n",
    "<blockquote>\n",
    "Syntax to use Assign return value to a variable:\n",
    "<code>\n",
    "def f():\n",
    "    //body of function\n",
    "    return value\n",
    "v = f()\n",
    "</code>\n",
    "</blockquote>\n",
    "    \n",
    "Ex 8.18 ( Function returning the value as variable )"
   ]
  },
  {
   "cell_type": "code",
   "execution_count": 27,
   "id": "295c989a",
   "metadata": {},
   "outputs": [
    {
     "name": "stdout",
     "output_type": "stream",
     "text": [
      "Sum of two numbers is : 3\n"
     ]
    }
   ],
   "source": [
    "# defining a function\n",
    "def add(a, b):\n",
    "    return a + b\n",
    "\n",
    "# calling a function\n",
    "x = add(1, 2)\n",
    "\n",
    "print(\"Sum of two numbers is :\",x)"
   ]
  },
  {
   "cell_type": "markdown",
   "id": "d065af9d",
   "metadata": {},
   "source": [
    "### <b>`EXERCISE 8.9`<b>\n",
    "`Create a function to calculate average of two numbers and assign return value to a variable?`"
   ]
  },
  {
   "cell_type": "code",
   "execution_count": null,
   "id": "e7bf6f26",
   "metadata": {},
   "outputs": [],
   "source": [
    "# write your answer code here\n"
   ]
  },
  {
   "cell_type": "markdown",
   "id": "b0786e0f",
   "metadata": {},
   "source": [
    "### Function calling another function\n",
    "It is also possible in python that a function can call another function.\n",
    "\n",
    "<blockquote>\n",
    "Syntax to call a function from another function:\n",
    "<code>\n",
    "def f1():\n",
    "    //body of function 1\n",
    "    return value\n",
    "def f2():\n",
    "    //body of function 2\n",
    "    f1() //This is optional\n",
    "    return value\n",
    "f2()\n",
    "</code>\n",
    "</blockquote>\n",
    "    \n",
    "Ex 8.19 ( Function calling another function )"
   ]
  },
  {
   "cell_type": "code",
   "execution_count": 26,
   "id": "83f90da1",
   "metadata": {},
   "outputs": [
    {
     "name": "stdout",
     "output_type": "stream",
     "text": [
      "Average = 5.0\n"
     ]
    }
   ],
   "source": [
    "# defining a function\n",
    "def add(a,b):\n",
    "    return(a+b)\n",
    "\n",
    "# defining a function\n",
    "def average(a,b):\n",
    "    sum = add(a,b)\n",
    "    avg = sum / 2\n",
    "    print(\"Average =\",avg)\n",
    "\n",
    "# calling a function\n",
    "average(7,3)"
   ]
  },
  {
   "cell_type": "markdown",
   "id": "8757d2f0",
   "metadata": {},
   "source": [
    "### <b>`EXERCISE 8.10`<b>\n",
    "`Create a function to calculate tan(45°) using two other functions sine and cosine return values by using eval() function?`"
   ]
  },
  {
   "cell_type": "code",
   "execution_count": null,
   "id": "3fc53138",
   "metadata": {},
   "outputs": [],
   "source": [
    "# write your answer code here\n"
   ]
  },
  {
   "cell_type": "markdown",
   "id": "9c5708cf",
   "metadata": {},
   "source": [
    "### Nested Function\n",
    "We can define one function inside another function. If we defined the inner function, then we need to call that inner function in the outer function.\n",
    "\n",
    "<blockquote>\n",
    "Syntax for nested function:\n",
    "<code>\n",
    "def f1():\n",
    "    //body of function 1\n",
    "    def f2():\n",
    "        //body of function 2\n",
    "        return of function 2\n",
    "    f2()\n",
    "    return of function 1\n",
    "f1()\n",
    "</code>\n",
    "</blockquote>\n",
    "\n",
    "In the example down below:\n",
    "* First, we define a function average()\n",
    "* Then we define add() function inside average() function to calculate sum of two numbers.\n",
    "* Finally we calculate average based on return value of add() function.\n",
    "\n",
    "Ex 8.20 ( Nested function )"
   ]
  },
  {
   "cell_type": "code",
   "execution_count": 28,
   "id": "6864b404",
   "metadata": {},
   "outputs": [
    {
     "name": "stdout",
     "output_type": "stream",
     "text": [
      "Average = 5.0\n"
     ]
    }
   ],
   "source": [
    "# defining a function 1\n",
    "def average(a, b):\n",
    "    # defining a function 2\n",
    "    def add():\n",
    "        return a + b\n",
    " \n",
    "    # calling a function 1\n",
    "    sum = add()\n",
    "    \n",
    "    avg = sum / 2\n",
    "    print(\"Average =\",avg)\n",
    "\n",
    "# calling a function 2\n",
    "average(7, 3)"
   ]
  },
  {
   "cell_type": "markdown",
   "id": "868a2451",
   "metadata": {},
   "source": [
    "### <b>`EXERCISE 8.11`<b>\n",
    "`Create a function to calculate tan(45°) using two other nested functions sine and cosine eval() functions?`"
   ]
  },
  {
   "cell_type": "code",
   "execution_count": null,
   "id": "fa5f7955",
   "metadata": {},
   "outputs": [],
   "source": [
    "# write your answer code here\n"
   ]
  },
  {
   "cell_type": "markdown",
   "id": "06e46cb3",
   "metadata": {},
   "source": [
    "### Function as a parameter\n",
    "<i><b><font color='blue'>PS. We can pass function as a parameter to another function.</font></b></i>\n",
    "\n",
    "<blockquote>\n",
    "Syntax to pass a function as a parameter:\n",
    "<code>\n",
    "f2(f1())\n",
    "</code>\n",
    "</blockquote>\n",
    "\n",
    "Ex 8.21 ( pass a function as parameter )"
   ]
  },
  {
   "cell_type": "code",
   "execution_count": 29,
   "id": "5ab70da0",
   "metadata": {},
   "outputs": [
    {
     "name": "stdout",
     "output_type": "stream",
     "text": [
      "Average = 5.0\n"
     ]
    }
   ],
   "source": [
    "# defining a function 1\n",
    "def add(a, b):\n",
    "    return a + b\n",
    "\n",
    "# defining a function 2\n",
    "def average(sum):\n",
    "    avg = sum / 2\n",
    "    print(\"Average =\",avg)\n",
    "\n",
    "# calling a function 2\n",
    "average(add(7, 3))"
   ]
  },
  {
   "cell_type": "markdown",
   "id": "640edaf8",
   "metadata": {},
   "source": [
    "### <b>`EXERCISE 8.12`<b>\n",
    "`Create a function to calculate tan(45°) by passing sin & cos functions as parameter eval() functions?`"
   ]
  },
  {
   "cell_type": "code",
   "execution_count": null,
   "id": "ac45d229",
   "metadata": {},
   "outputs": [],
   "source": [
    "# write your answer code here\n"
   ]
  },
  {
   "cell_type": "markdown",
   "id": "3f9415a1",
   "metadata": {},
   "source": [
    "💡<i>Can we call a function inside its definition block?</i>\n",
    "### <font color='red'>What is Recursive Function?</font>\n",
    "A function is called recursive when it is called by itself. Let’s understand this with an example.\n",
    "\n",
    "Let’s consider a function which calculates the factorial of a number. It can be written as a recursive functions as explained below.\n",
    "\n",
    "<b>3! = 3*2*1</b>\n",
    "\n",
    "<b>factorial(3) = 3*factorial(2)</b>\n",
    "\n",
    "<b>factorial(2) = 3*2*factorial(1)</b>\n",
    "\n",
    "<b>factorial(1) = 3*2*1*factorial(0)</b>\n",
    "\n",
    "<b>factorial(n) = n*factorial(n-1)</b>\n",
    "    \n",
    "Ex 8.22 ( Factorial using recursive function )"
   ]
  },
  {
   "cell_type": "code",
   "execution_count": 31,
   "id": "ca5fd03a",
   "metadata": {},
   "outputs": [
    {
     "name": "stdout",
     "output_type": "stream",
     "text": [
      "Factorial of 4 is : 24\n"
     ]
    }
   ],
   "source": [
    "# defining a function\n",
    "def factorial(n):\n",
    "    if n == 0:\n",
    "        result = 1\n",
    "    else:\n",
    "        result = n * factorial(n-1)\n",
    "    return result\n",
    "\n",
    "# calling a function\n",
    "x = factorial(4)\n",
    "\n",
    "print(\"Factorial of 4 is :\",x)"
   ]
  },
  {
   "cell_type": "markdown",
   "id": "4ffc3810",
   "metadata": {},
   "source": [
    "<i><b><font color='blue'>PS. We will see Factorial without recursive function later in control Flow /Loops/ Chapter</font></b></i>"
   ]
  },
  {
   "cell_type": "markdown",
   "id": "65406b2e",
   "metadata": {},
   "source": [
    "### <b>`EXERCISE 8.13`<b>\n",
    "`Create a function to calculate sum of all numbers from 1 to 100?`"
   ]
  },
  {
   "cell_type": "code",
   "execution_count": null,
   "id": "d2606b09",
   "metadata": {},
   "outputs": [],
   "source": [
    "# write your answer code here\n"
   ]
  },
  {
   "cell_type": "markdown",
   "id": "d5746fa7",
   "metadata": {},
   "source": [
    "<b>Advantages of using recursive functions:</b>\n",
    "* We can reduce length of the code and improves readability.\n",
    "* We can solve complex problems in a very easy way."
   ]
  },
  {
   "cell_type": "markdown",
   "id": "64f677e7",
   "metadata": {},
   "source": [
    "## Lesson Four : Types of Variables\n",
    "As we discussed in variables chapter about properties of variables, The variables based on their scope can be classified in to two types:\n",
    "* Local variables\n",
    "* Global variables\n",
    "### 1. Local Variables\n",
    "The variables which are declared inside of the function are called as local variables. Their scope is limited to the function i.e. we can access local variables within the function only.\n",
    "\n",
    "Ex 8.23 ( Local variables )"
   ]
  },
  {
   "cell_type": "code",
   "execution_count": 32,
   "id": "04f7701d",
   "metadata": {},
   "outputs": [
    {
     "name": "stdout",
     "output_type": "stream",
     "text": [
      "7\n"
     ]
    }
   ],
   "source": [
    "# defining a function\n",
    "def add():\n",
    "    a, b = 5, 2\n",
    "    print(a + b)\n",
    "\n",
    "# calling a function\n",
    "add()"
   ]
  },
  {
   "cell_type": "markdown",
   "id": "11df1863",
   "metadata": {},
   "source": [
    "If we are trying to access local variables outside of the function, then we will get an error.\n",
    "\n",
    "Ex 8.24 ( Local variables Error )"
   ]
  },
  {
   "cell_type": "code",
   "execution_count": 33,
   "id": "919c2aa0",
   "metadata": {},
   "outputs": [
    {
     "ename": "NameError",
     "evalue": "name 'a' is not defined",
     "output_type": "error",
     "traceback": [
      "\u001b[1;31m---------------------------------------------------------------------------\u001b[0m",
      "\u001b[1;31mNameError\u001b[0m                                 Traceback (most recent call last)",
      "Cell \u001b[1;32mIn[33], line 11\u001b[0m\n\u001b[0;32m      8\u001b[0m     \u001b[38;5;28mprint\u001b[39m(a \u001b[38;5;241m-\u001b[39m b)\n\u001b[0;32m     10\u001b[0m \u001b[38;5;66;03m# calling a function\u001b[39;00m\n\u001b[1;32m---> 11\u001b[0m sub()\n",
      "Cell \u001b[1;32mIn[33], line 8\u001b[0m, in \u001b[0;36msub\u001b[1;34m()\u001b[0m\n\u001b[0;32m      7\u001b[0m \u001b[38;5;28;01mdef\u001b[39;00m \u001b[38;5;21msub\u001b[39m():\n\u001b[1;32m----> 8\u001b[0m     \u001b[38;5;28mprint\u001b[39m(a \u001b[38;5;241m-\u001b[39m b)\n",
      "\u001b[1;31mNameError\u001b[0m: name 'a' is not defined"
     ]
    }
   ],
   "source": [
    "# defining a function\n",
    "def add():\n",
    "    a, b = 5, 2\n",
    "    print(a + b)\n",
    "\n",
    "# defining a function\n",
    "def sub():\n",
    "    print(a - b)\n",
    "\n",
    "# calling a function\n",
    "sub()"
   ]
  },
  {
   "cell_type": "markdown",
   "id": "0216f564",
   "metadata": {},
   "source": [
    "### 2. Global Variables\n",
    "The variables which are declared outside of the\n",
    "function are called global variables. Global variables\n",
    "can be accessed in all functions.\n",
    "Ex 8.25 ( Global variables )"
   ]
  },
  {
   "cell_type": "code",
   "execution_count": 34,
   "id": "663ea6ee",
   "metadata": {},
   "outputs": [
    {
     "name": "stdout",
     "output_type": "stream",
     "text": [
      "7\n",
      "3\n"
     ]
    }
   ],
   "source": [
    "a, b = 5, 2\n",
    "\n",
    "# defining a function\n",
    "def add():\n",
    "    print(a + b)\n",
    "\n",
    "# defining a function\n",
    "def sub():\n",
    "    print(a - b)\n",
    "\n",
    "# calling a functions\n",
    "add()\n",
    "sub()"
   ]
  },
  {
   "cell_type": "markdown",
   "id": "2c731197",
   "metadata": {},
   "source": [
    "💡<i>What if both local and global variables have the same name?</i>\n",
    "\n",
    "### <font color='red'>When can we choose a global keyword?</font>\n",
    "There might be some scenarios, where the global variable names and local variable names are the same. In such cases, within the function, by default, the local variables are only referred and the global variables are ignored.\n",
    "\n",
    "Ex 8.26 ( same global and local variables name )"
   ]
  },
  {
   "cell_type": "code",
   "execution_count": 35,
   "id": "00121eef",
   "metadata": {},
   "outputs": [
    {
     "name": "stdout",
     "output_type": "stream",
     "text": [
      "11\n",
      "3\n"
     ]
    }
   ],
   "source": [
    "a, b = 5, 2\n",
    "\n",
    "# defining a function\n",
    "def add():\n",
    "    a = 9\n",
    "    print(a + b)\n",
    "    \n",
    "# defining a function\n",
    "def sub():\n",
    "    print(a - b)\n",
    "    \n",
    "# calling a function\n",
    "add()\n",
    "sub()"
   ]
  },
  {
   "cell_type": "markdown",
   "id": "15ab4d1b",
   "metadata": {},
   "source": [
    "If we want our function to refer to global variable rather than the local variable, we can use global keyword before the variable in the function as shown in the example below.\n",
    "\n",
    "Ex 8.27 ( same global and local variables name )"
   ]
  },
  {
   "cell_type": "code",
   "execution_count": 36,
   "id": "1c8de762",
   "metadata": {},
   "outputs": [
    {
     "name": "stdout",
     "output_type": "stream",
     "text": [
      "11\n",
      "7\n"
     ]
    }
   ],
   "source": [
    "a, b = 5, 2\n",
    "\n",
    "# defining a function\n",
    "def add():\n",
    "    global a\n",
    "    a = 9\n",
    "    print(a + b)\n",
    "    \n",
    "# defining a function\n",
    "def sub():\n",
    "    print(a - b)\n",
    "    \n",
    "# calling a functions\n",
    "add()\n",
    "sub()"
   ]
  },
  {
   "cell_type": "markdown",
   "id": "e41c6996",
   "metadata": {},
   "source": [
    "<i><b><font color='blue'>PS. The keyword \"global\" can be used for the following two purposes:</font></b></i>\n",
    "1. To declare global variable inside function.\n",
    "2. To make global variables available to the function.\n",
    "\n",
    "If we use the global keyword inside the function, then the function is able to read only global variables.\n",
    "\n",
    "<b>PROBLEM: This would make the local variable no more available.</b>\n",
    "\n",
    "💡<i>How to solve this problem?</i>\n",
    "\n",
    "#### globals() built-in function\n",
    "The problem of local variables not available, due to use of global keyword can be overcome by using Python built-in function called globals().\n",
    "\n",
    "globals() is a built in function which returns a table of current global variables in the form of a dictionary. Using this function, we can refer to the global variable “a” as:\n",
    "\n",
    "<b><i>global()[\"a\"]</i></b>\n",
    "\n",
    "Ex 8.28 ( globals built-in function )"
   ]
  },
  {
   "cell_type": "code",
   "execution_count": 37,
   "id": "b33a6c7a",
   "metadata": {},
   "outputs": [
    {
     "name": "stdout",
     "output_type": "stream",
     "text": [
      "11\n",
      "7\n"
     ]
    }
   ],
   "source": [
    "a, b = 5, 2\n",
    "\n",
    "# defining a function\n",
    "def add():\n",
    "    a = 9\n",
    "    print(a + b)\n",
    "    print(globals()['a'] + b)\n",
    "    \n",
    "# calling a function\n",
    "add()"
   ]
  },
  {
   "cell_type": "markdown",
   "id": "71ed8891",
   "metadata": {},
   "source": [
    "## Lesson Five : Lambda (Anonymous) Function\n",
    "The name of the function is the mandatory item in the function definition as discussed earlier. But, in python, we have a keyword called ‘lambda’ with which we can define a simple function in a single line without actually naming it. Such functions are called lambda functions.\n",
    "\n",
    "<blockquote>\n",
    "Syntax of lambda function:\n",
    "<code>\n",
    "lambda arguments_list : expression\n",
    "</code>\n",
    "</blockquote>\n",
    "\n",
    "Ex 8.29 ( Lambda Function )"
   ]
  },
  {
   "cell_type": "code",
   "execution_count": 38,
   "id": "4d2c78b9",
   "metadata": {},
   "outputs": [
    {
     "name": "stdout",
     "output_type": "stream",
     "text": [
      "16\n"
     ]
    }
   ],
   "source": [
    "s = lambda a: a*a\n",
    "x = s(4)\n",
    "print(x)"
   ]
  },
  {
   "cell_type": "markdown",
   "id": "300425cd",
   "metadata": {},
   "source": [
    "Ex 8.30 ( Lambda Function )"
   ]
  },
  {
   "cell_type": "code",
   "execution_count": 39,
   "id": "e14291cd",
   "metadata": {},
   "outputs": [
    {
     "name": "stdout",
     "output_type": "stream",
     "text": [
      "20\n"
     ]
    }
   ],
   "source": [
    "# defining a function\n",
    "s = lambda a, b: a*b\n",
    "\n",
    "# calling a function\n",
    "x = s(4, 5)\n",
    "\n",
    "print(x)"
   ]
  },
  {
   "cell_type": "markdown",
   "id": "6a9ba9e2",
   "metadata": {},
   "source": [
    "<b>Points to Remember while working with Python Lambda Functions:</b>\n",
    "* A lambda function can take any number of arguments but should have only one expression.\n",
    "* It takes the parameters and does some operation on them and returns the result, just the same as normal functions.\n",
    "* The biggest advantage of lambda functions is that a very concise code can be written which improves the readability of the code.\n",
    "* This can be used for only simple functions but not for complex functions.\n",
    "* The lambda function, mostly, can be used in combination with other functions such as map(), reduce(), filter() etc. which we are going to discuss now."
   ]
  },
  {
   "cell_type": "markdown",
   "id": "ec59421b",
   "metadata": {},
   "source": [
    "### <b>`EXERCISE 8.14`<b>\n",
    "`Create a lambda function to calculate average of two numbers?`"
   ]
  },
  {
   "cell_type": "code",
   "execution_count": null,
   "id": "7cf92fc0",
   "metadata": {},
   "outputs": [],
   "source": [
    "# write your answer code here\n"
   ]
  },
  {
   "cell_type": "markdown",
   "id": "a0505c6e",
   "metadata": {},
   "source": [
    "### 1. filter() Function\n",
    "This function is used to filter values from a sequence of values.\n",
    "\n",
    "<blockquote>\n",
    "Syntax for filter() function:\n",
    "<code>\n",
    "filter(f, sequence)\n",
    "</code>\n",
    "</blockquote>\n",
    "\n",
    "The filter function will filter the elements in the sequence based on the condition in the function. Let’s understand it through the example.\n",
    "\n",
    "Ex 8.31 ( filter() function )"
   ]
  },
  {
   "cell_type": "code",
   "execution_count": 40,
   "id": "7c49c842",
   "metadata": {},
   "outputs": [
    {
     "name": "stdout",
     "output_type": "stream",
     "text": [
      "[3, 4]\n"
     ]
    }
   ],
   "source": [
    "a = [1, 2, 3, 4]\n",
    "g = filter(lambda x:x>2, a)\n",
    "x = list(g)\n",
    "print(x)"
   ]
  },
  {
   "cell_type": "markdown",
   "id": "9754facd",
   "metadata": {},
   "source": [
    "In the above example, filter applies the lambda function on all the elements in the ‘a’ and returns the elements which satisfy the lambda function."
   ]
  },
  {
   "cell_type": "markdown",
   "id": "405055fb",
   "metadata": {},
   "source": [
    "### <b>`EXERCISE 8.15`<b>\n",
    "`Create a filter function to check a number is even or odd?`"
   ]
  },
  {
   "cell_type": "code",
   "execution_count": null,
   "id": "22b7128d",
   "metadata": {},
   "outputs": [],
   "source": [
    "# write your answer code here\n"
   ]
  },
  {
   "cell_type": "markdown",
   "id": "df374d68",
   "metadata": {},
   "source": [
    "### 2. map() Function\n",
    "This function is used to map a particular function onto the sequence of elements. After applying, this returns a new set of values.\n",
    "\n",
    "<blockquote>\n",
    "Syntax of map() function:\n",
    "<code>\n",
    "map(f, sequence)\n",
    "</code>\n",
    "</blockquote>\n",
    "\n",
    "Ex 8.32 ( map() function )"
   ]
  },
  {
   "cell_type": "code",
   "execution_count": 41,
   "id": "506918e9",
   "metadata": {},
   "outputs": [
    {
     "name": "stdout",
     "output_type": "stream",
     "text": [
      "[3, 4, 5, 6]\n"
     ]
    }
   ],
   "source": [
    "a = [1, 2, 3, 4]\n",
    "g = map(lambda x:x+2,a)\n",
    "x = list(g)\n",
    "print(x)"
   ]
  },
  {
   "cell_type": "markdown",
   "id": "460b6d42",
   "metadata": {},
   "source": [
    "### <b>`EXERCISE 8.16`<b>\n",
    "`Create a list variable and store price of foods then print all foods price after 25% discount using map() function?`"
   ]
  },
  {
   "cell_type": "markdown",
   "id": "2c5a75e9",
   "metadata": {},
   "source": [
    "### 3. reduce() Function\n",
    "This function reduces the sequence of elements into a single element by applying a specific condition or logic. To use the reduce function we need to import the functools module.\n",
    "\n",
    "<blockquote>\n",
    "Syntax for reduce() function:\n",
    "<code>\n",
    "from functools import reduce\n",
    "reduce(f, sequence)\n",
    "</code>\n",
    "</blockquote>\n",
    "\n",
    "Ex 8.33 ( reduce() function )"
   ]
  },
  {
   "cell_type": "code",
   "execution_count": 42,
   "id": "883df0a8",
   "metadata": {},
   "outputs": [
    {
     "name": "stdout",
     "output_type": "stream",
     "text": [
      "10\n"
     ]
    }
   ],
   "source": [
    "from functools import reduce\n",
    "a = [1, 2, 3, 4]\n",
    "g = reduce(lambda x,y:x+y,a)\n",
    "print(g)"
   ]
  },
  {
   "cell_type": "markdown",
   "id": "9cbf5988",
   "metadata": {},
   "source": [
    "### <b>`EXERCISE 8.17`<b>\n",
    "`Create a list variable and store your mid semester Exam results of each subject then find its average using reduce() function?`"
   ]
  },
  {
   "cell_type": "code",
   "execution_count": null,
   "id": "9f0ce81b",
   "metadata": {},
   "outputs": [],
   "source": [
    "# write your answer code here\n"
   ]
  },
  {
   "cell_type": "markdown",
   "id": "1c9881dd",
   "metadata": {},
   "source": [
    "## Lesson Six : Decorators and Generators"
   ]
  },
  {
   "cell_type": "markdown",
   "id": "03f0a4c0",
   "metadata": {},
   "source": [
    "### <font color='red'>What is Decorator?</font>\n",
    "A decorator is a special function which adds some extra functionality to an existing function.\n",
    "\n",
    "A decorator is a function that accepts a function as a parameter and returns a function.\n",
    "\n",
    "Decorators are useful to perform some additional processing required by a function.\n",
    "\n",
    "<b>Steps to create decorator:</b>\n",
    "\n",
    "    Step 1: Decorator takes a function as an argument.\n",
    "    Step 2: Decorator body should have inner function.\n",
    "    Step 3: Decorator should return a function.\n",
    "    Step 4: The extra functionality which you want to add to a function can be added in the body of the inner_function.\n",
    "\n",
    "<blockquote><code>def decor(func):\n",
    "    def inner_function():\n",
    "        //body of inner function\n",
    "    return inner_function\n",
    "</code>\n",
    "</blockquote>\n",
    "\n",
    "<i><b><font color='blue'>PS. Here func is the argument/parameter which receives the function.</font></b></i>\n",
    "\n",
    "Suppose you want to add some extra functionality of adding the two numbers only if they are positive. If any number is negative, then take it as 0 during adding. For adding this extra functionality let us create a decorator.\n",
    "\n",
    "<blockquote><code>def inner_function(x,y):\n",
    "    if x < 0:\n",
    "        x = 0\n",
    "    if y < 0:\n",
    "        y = 0\n",
    "    return func(x,y)\n",
    "return inner_function\n",
    "</code>\n",
    "</blockquote>\n",
    "\n",
    "We have created our decorator and now let’s use it with our add function from\n",
    "\n",
    "<b><i>add = decor(add)</i></b>\n",
    "\n",
    "With the above statement, we are passing the add function as parameter to the decorator function, which is returning inner_function.\n",
    "\n",
    "After this, whenever we call add, the execution goes to inner_function in the decorator.\n",
    "\n",
    "<b><i>add(-10, 20)</i></b>\n",
    "\n",
    "In inner_function, we are doing the extra logic for checking whether the arguments are positive or not. If not positive we are assigning them with zero. And we are passing the processed values to the original add function which was sent to the decorator.\n",
    "\n",
    "<b>Our final code will be as follows</b>\n",
    "\n",
    "Ex 8.34 ( Decorator Function )"
   ]
  },
  {
   "cell_type": "code",
   "execution_count": 43,
   "id": "99289b75",
   "metadata": {},
   "outputs": [
    {
     "name": "stdout",
     "output_type": "stream",
     "text": [
      "50\n",
      "5\n"
     ]
    }
   ],
   "source": [
    "# defining a function\n",
    "def decor(func):\n",
    "\n",
    "    # defining inner function\n",
    "    def inner_function(x, y):\n",
    "        if x < 0:\n",
    "            x = 0\n",
    "        if y < 0:\n",
    "            y = 0\n",
    "        return func(x, y)\n",
    "    \n",
    "    return inner_function\n",
    "\n",
    "# defining add function\n",
    "def add(a, b):\n",
    "    res = a + b\n",
    "    return res\n",
    "\n",
    "# calling a function\n",
    "add = decor(add)\n",
    "\n",
    "print(add(20, 30))\n",
    "print(add(-10, 5))"
   ]
  },
  {
   "cell_type": "markdown",
   "id": "126b9fa3",
   "metadata": {},
   "source": [
    "### <b>`EXERCISE 8.18`<b>\n",
    "`Create a decorator to divide two numbers but if a number is divided by zero, print “Invalid”?`"
   ]
  },
  {
   "cell_type": "code",
   "execution_count": null,
   "id": "139a2446",
   "metadata": {},
   "outputs": [],
   "source": [
    "# write your answer code here\n"
   ]
  },
  {
   "cell_type": "markdown",
   "id": "e3ee2184",
   "metadata": {},
   "source": [
    "### @ symbol in python\n",
    "In the above example, in order to use the decorator, we have used the <b>‘add = decor(add)’</b> line. Rather than using this we can just use the <b>‘@decor’</b> symbol on top of the function for which we want to add this extra functionality. The decorator once created can also be used for other functions as well.\n",
    "\n",
    "Ex 8.35 ( Subtract Function using decorator )"
   ]
  },
  {
   "cell_type": "code",
   "execution_count": 44,
   "id": "35d43dde",
   "metadata": {},
   "outputs": [
    {
     "name": "stdout",
     "output_type": "stream",
     "text": [
      "10\n",
      "10\n"
     ]
    }
   ],
   "source": [
    "# defining a function\n",
    "def decor(func):\n",
    "\n",
    "    # defining a function\n",
    "    def inner_function(x, y):\n",
    "        if x < 0:\n",
    "            x = 0\n",
    "        if y < 0:\n",
    "            y = 0\n",
    "        return func(x, y)\n",
    "    \n",
    "    return inner_function\n",
    "\n",
    "@decor\n",
    "# defining a function\n",
    "def sub(a, b):\n",
    "    res = a - b\n",
    "    return res\n",
    "\n",
    "# calling a function\n",
    "print(sub(30, 20))\n",
    "print(sub(10, -5))"
   ]
  },
  {
   "cell_type": "markdown",
   "id": "4e2b31cf",
   "metadata": {},
   "source": [
    "### <b>`EXERCISE 8.19`<b>\n",
    "`Create a decorator to divide two numbers but the numerator is always greater than denominator?`"
   ]
  },
  {
   "cell_type": "code",
   "execution_count": null,
   "id": "81fe60f0",
   "metadata": {},
   "outputs": [],
   "source": [
    "# write your answer code here\n"
   ]
  },
  {
   "cell_type": "markdown",
   "id": "d7f92fef",
   "metadata": {},
   "source": [
    "### <font color='red'>What are Generators?</font>\n",
    "Generators are just like functions which give us a sequence of values one as an iterable. Generators contain yield statements just as functions contain return statements.\n",
    "\n",
    "<b>next function in Python:</b>\n",
    "\n",
    "If we want to retrieve elements from a generator, we can use the next function on the iterator returned by the generator. This is the other way of getting the elements from the generator.\n",
    "\n",
    "Ex 8.36 ( Generators )"
   ]
  },
  {
   "cell_type": "code",
   "execution_count": 46,
   "id": "4c4fce40",
   "metadata": {},
   "outputs": [
    {
     "name": "stdout",
     "output_type": "stream",
     "text": [
      "<class 'generator'>\n",
      "1\n",
      "2\n",
      "3\n"
     ]
    },
    {
     "data": {
      "text/plain": [
       "3"
      ]
     },
     "execution_count": 46,
     "metadata": {},
     "output_type": "execute_result"
    }
   ],
   "source": [
    "# defining a function\n",
    "def my_gen():\n",
    "    n = 1\n",
    "    print(n)\n",
    "    yield n\n",
    "\n",
    "    n += 1\n",
    "    print(n)\n",
    "    yield n\n",
    "\n",
    "    n += 1\n",
    "    print(n)\n",
    "    yield n\n",
    "\n",
    "# calling a function\n",
    "a = my_gen()\n",
    "\n",
    "print(type(a))\n",
    "next(a)\n",
    "next(a)\n",
    "next(a)"
   ]
  },
  {
   "cell_type": "markdown",
   "id": "cfc6fdc6",
   "metadata": {},
   "source": [
    "### <b>`EXERCISE 8.20`<b>\n",
    "`Create a generator to print top 3 athletes who finish Olympic marathon 2019?`"
   ]
  },
  {
   "cell_type": "code",
   "execution_count": null,
   "id": "365353de",
   "metadata": {},
   "outputs": [],
   "source": [
    "# write your answer code here\n"
   ]
  },
  {
   "cell_type": "markdown",
   "id": "7c9c1cfa",
   "metadata": {},
   "source": [
    "# // END OF CHAPTER EIGHT\n",
    "<a href=\"https://www.linkedin.com/in/bemnetdev/\">Click here</a> for Chapter Nine"
   ]
  }
 ],
 "metadata": {
  "kernelspec": {
   "display_name": "Python 3 (ipykernel)",
   "language": "python",
   "name": "python3"
  },
  "language_info": {
   "codemirror_mode": {
    "name": "ipython",
    "version": 3
   },
   "file_extension": ".py",
   "mimetype": "text/x-python",
   "name": "python",
   "nbconvert_exporter": "python",
   "pygments_lexer": "ipython3",
   "version": "3.11.5"
  }
 },
 "nbformat": 4,
 "nbformat_minor": 5
}
