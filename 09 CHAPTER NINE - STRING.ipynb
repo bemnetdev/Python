{
 "cells": [
  {
   "cell_type": "markdown",
   "id": "e8e99100",
   "metadata": {},
   "source": [
    "<div style=\"text-align: right\"><b>DS50 2024</b> | Python by <a href=\"https://www.linkedin.com/in/bemnetdev/\">Bemnet Girma</a></div>\n",
    "\n",
    "#\n",
    "# <center><font size=\"80\">🆎</font><br><br>CHAPTER NINE<br><br><font size=\"80\">STRING</font><br><br><hr style=\"border:6px solid black\"> </hr></center>"
   ]
  },
  {
   "cell_type": "markdown",
   "id": "e5d20dc4",
   "metadata": {},
   "source": [
    "## Lesson One : Introduction to String\n",
    "We already learn the first Hello World program in python. In that program we just print a group of characters by using print() function. Those groups of characters are called as a string.\n",
    "\n",
    "<blockquote>\n",
    "Example: Python Program to print string\n",
    "    \n",
    "<code>\n",
    "print(\"Hello World\")\n",
    "Hello World\n",
    "</code>\n",
    "</blockquote>"
   ]
  },
  {
   "cell_type": "markdown",
   "id": "bbd98568",
   "metadata": {},
   "source": [
    "### <font color='red'>What is a string?</font>\n",
    "A group of characters enclosed within single or double or triple quotes is called as string. We can say string is a sequential collection of characters."
   ]
  },
  {
   "cell_type": "markdown",
   "id": "9f0371d1",
   "metadata": {},
   "source": [
    "### <font color='red'>How to create a String?</font>\n",
    "There are four ways to create a string.\n",
    "\n",
    "<i><b><font color='blue'>PS. variable “s” stands for string name.</font></b></i>\n",
    "\n",
    "<blockquote>\n",
    "Syntaxs :\n",
    "    \n",
    "<code>\n",
    "s = 'String'  #single quotes\n",
    "s = \"String\"  #double quotes\n",
    "s = '''String'''  #triple single quotes\n",
    "s = \"\"\"String\"\"\"  #triple double quotes\n",
    "</code>\n",
    "</blockquote>\n",
    "    \n",
    "Note: Generally, to create a string mostly used syntax is double quotes syntax.\n",
    "\n",
    "<i><b><font color='red'>When triple single and triple double quotes are used?</font></b></i>\n",
    "    \n",
    "If you want to create multiple lines of string, then triple single or triple double quotes are the best to use.\n",
    "    \n",
    "Ex 9.1 ( Creating a string using four ways )"
   ]
  },
  {
   "cell_type": "code",
   "execution_count": 5,
   "id": "711318cc",
   "metadata": {},
   "outputs": [
    {
     "name": "stdout",
     "output_type": "stream",
     "text": [
      "My name is  Michael Jackson\n",
      "This is  Michael’s song\n",
      "\"Michael’s song is awesome.\" Thomas D.\n"
     ]
    }
   ],
   "source": [
    "name = 'Michael Jackson'\n",
    "music = \"Michael’s song\"\n",
    "s = '\"Michael’s song is awesome.\"'\n",
    "print(\"My name is \",name)\n",
    "print(\"This is \",music)\n",
    "print(\"{} Thomas D.\".format(s))"
   ]
  },
  {
   "cell_type": "markdown",
   "id": "ec33b161",
   "metadata": {},
   "source": [
    "<i><b><font color='red'>How to create an empty string?</font></b></i>\n",
    "\n",
    "If a string has no characters in it then it is called an empty string.\n",
    "\n",
    "Ex 9.2 ( Creating an empty string )"
   ]
  },
  {
   "cell_type": "code",
   "execution_count": 6,
   "id": "7e8f736e",
   "metadata": {},
   "outputs": [
    {
     "name": "stdout",
     "output_type": "stream",
     "text": [
      "This is empty string  \n"
     ]
    }
   ],
   "source": [
    "s = \"\"\n",
    "print(\"This is empty string \",s)"
   ]
  },
  {
   "cell_type": "markdown",
   "id": "185d3e5b",
   "metadata": {},
   "source": [
    "## Lesson Two : Accessing a String"
   ]
  },
  {
   "cell_type": "markdown",
   "id": "32180e8c",
   "metadata": {},
   "source": [
    "### <font color='red'>How to access a String?</font>\n",
    "There are three ways in which you can access the characters in the string. They are:\n",
    "* By using indexing\n",
    "* By using slicing operator\n",
    "* By using loops ( <i><b><font color='blue'>PS. we will discuss in later Control Flow Chapter</font></b></i> )"
   ]
  },
  {
   "cell_type": "markdown",
   "id": "94ec8dda",
   "metadata": {},
   "source": [
    "### <font color='red'>What is Indexing?</font>\n",
    "Indexing means a position of string’s characters where it stores. We need to use square brackets [] to access the string index. String indexing result is string type. String indices should be integer otherwise we will get an error. We can access the index within the index range otherwise we will get\n",
    "an error.\n",
    "\n",
    "Python supports two types of indexing\n",
    "* <b>Positive indexing:</b> The position of string characters can be a positive index from left to right direction (we can say forward direction). In this way, the starting position is 0 (zero).\n",
    "<br><br>\n",
    "* <b>Negative indexing:</b> The position of string characters can be negative indexes from right to left direction (we can say backward direction). In this way, the starting position is -1 (minus one).\n",
    "\n",
    "<b>Diagram representation</b>"
   ]
  },
  {
   "cell_type": "markdown",
   "id": "e987a207",
   "metadata": {},
   "source": [
    "<img src=\"https://raw.githubusercontent.com/bemnetdev/Python/main/Images/string.png\" align=\"left\" width=\"50%\">"
   ]
  },
  {
   "cell_type": "markdown",
   "id": "75dbf6bf",
   "metadata": {},
   "source": [
    "Note: If we are trying to access characters of a string with out of range index, then we will get error as IndexError.\n",
    "\n",
    "Ex 9.3 ( Accessing a string with index )"
   ]
  },
  {
   "cell_type": "code",
   "execution_count": 7,
   "id": "3f3ab5b8",
   "metadata": {},
   "outputs": [
    {
     "name": "stdout",
     "output_type": "stream",
     "text": [
      "M\n",
      "J\n"
     ]
    }
   ],
   "source": [
    "name = \"Michael Jackson\"\n",
    "print(name[0])\n",
    "print(name[-7])"
   ]
  },
  {
   "cell_type": "markdown",
   "id": "f2d2e4e8",
   "metadata": {},
   "source": [
    "Ex 9.4 ( Accessing a string with float index )"
   ]
  },
  {
   "cell_type": "code",
   "execution_count": 8,
   "id": "f9aecc68",
   "metadata": {},
   "outputs": [
    {
     "ename": "TypeError",
     "evalue": "string indices must be integers, not 'float'",
     "output_type": "error",
     "traceback": [
      "\u001b[1;31m---------------------------------------------------------------------------\u001b[0m",
      "\u001b[1;31mTypeError\u001b[0m                                 Traceback (most recent call last)",
      "Cell \u001b[1;32mIn[8], line 2\u001b[0m\n\u001b[0;32m      1\u001b[0m name \u001b[38;5;241m=\u001b[39m \u001b[38;5;124m\"\u001b[39m\u001b[38;5;124mMichael Jackson\u001b[39m\u001b[38;5;124m\"\u001b[39m\n\u001b[1;32m----> 2\u001b[0m \u001b[38;5;28mprint\u001b[39m(name[\u001b[38;5;241m1.3\u001b[39m])\n",
      "\u001b[1;31mTypeError\u001b[0m: string indices must be integers, not 'float'"
     ]
    }
   ],
   "source": [
    "name = \"Michael Jackson\"\n",
    "print(name[1.3])"
   ]
  },
  {
   "cell_type": "markdown",
   "id": "b61ad59b",
   "metadata": {},
   "source": [
    "Ex 9.5 ( string with out of bound index )"
   ]
  },
  {
   "cell_type": "code",
   "execution_count": 9,
   "id": "8eb5d968",
   "metadata": {},
   "outputs": [
    {
     "ename": "IndexError",
     "evalue": "string index out of range",
     "output_type": "error",
     "traceback": [
      "\u001b[1;31m---------------------------------------------------------------------------\u001b[0m",
      "\u001b[1;31mIndexError\u001b[0m                                Traceback (most recent call last)",
      "Cell \u001b[1;32mIn[9], line 2\u001b[0m\n\u001b[0;32m      1\u001b[0m name \u001b[38;5;241m=\u001b[39m \u001b[38;5;124m\"\u001b[39m\u001b[38;5;124mMichael Jackson\u001b[39m\u001b[38;5;124m\"\u001b[39m\n\u001b[1;32m----> 2\u001b[0m \u001b[38;5;28mprint\u001b[39m(name[\u001b[38;5;241m100\u001b[39m])\n",
      "\u001b[1;31mIndexError\u001b[0m: string index out of range"
     ]
    }
   ],
   "source": [
    "name = \"Michael Jackson\"\n",
    "print(name[100])"
   ]
  },
  {
   "cell_type": "markdown",
   "id": "612dd665",
   "metadata": {},
   "source": [
    "### <b>`EXERCISE 9.1`<b>\n",
    "`Create a string variable \"name\" and store your name then print only vowel letters from your name?`"
   ]
  },
  {
   "cell_type": "code",
   "execution_count": null,
   "id": "c4fc8243",
   "metadata": {},
   "outputs": [],
   "source": [
    "# write your answer code here\n"
   ]
  },
  {
   "cell_type": "markdown",
   "id": "8e74c10a",
   "metadata": {},
   "source": [
    "💡<i>What if we want to access a word from a string?</i>\n",
    "\n",
    "In such scenarios we use string slicing.\n",
    "\n",
    "### <font color='red'>What is Slicing?</font>\n",
    "A substring of a string is called a slice. A slice can represent a part of string from string or a piece of string. String slicing result is string type. We need to use square brackets [] in slicing.\n",
    "\n",
    "In slicing we will not get any Index out of range exception. In slicing indices should be integer or None otherwise we will get errors.\n",
    "\n",
    "<blockquote>\n",
    "Syntax:\n",
    "    \n",
    "<code>\n",
    "s[start:stop:step]\n",
    "</code>\n",
    "</blockquote>\n",
    "\n",
    "<b>start:</b> Represent from the starting index position (default is 0)\n",
    "<b>stop:</b> Represents the (ending index-1) position (default is last index)\n",
    "<b>step:</b> Represents the increment the position of the index while accessing (default is 1)\n",
    "\n",
    "Note: If you are not specifying the begin index, then it will consider the beginning of the string. If you are not specifying the end index, then it will consider the end of the string. The default value for step is 1.\n",
    "\n",
    "Ex 9.6 ( String Slicing )"
   ]
  },
  {
   "cell_type": "code",
   "execution_count": 10,
   "id": "d3a10a36",
   "metadata": {},
   "outputs": [
    {
     "name": "stdout",
     "output_type": "stream",
     "text": [
      "together\n",
      "to\n",
      "get\n",
      "her\n",
      "tee\n",
      "or\n"
     ]
    }
   ],
   "source": [
    "text = \"together\"\n",
    "print(text [:])\n",
    "print(text[:2])\n",
    "print(text[2:5])\n",
    "print(text[5:])\n",
    "print(text[::3])\n",
    "print(text[1:8:6])"
   ]
  },
  {
   "cell_type": "markdown",
   "id": "31855b77",
   "metadata": {},
   "source": [
    "### <b>`EXERCISE 9.2`<b>\n",
    "`Create a string variable \"quote\" and store your favorite quote then print each words from the quote?`"
   ]
  },
  {
   "cell_type": "code",
   "execution_count": null,
   "id": "702c8e1d",
   "metadata": {},
   "outputs": [],
   "source": [
    "# write your answer code here\n"
   ]
  },
  {
   "cell_type": "markdown",
   "id": "5d91d1c2",
   "metadata": {},
   "source": [
    "### <font color='red'>What is String Immutable?</font>\n",
    "Once we create a variable then the state of the existing variable cannot be changed or modified. This behavior is called immutability.\n",
    "\n",
    "Once we create a variable then the state of the existing variable can be changed or modified. This behavior is called mutability.\n",
    "\n",
    "<i><b><font color='blue'>PS. Strings are immutable in Python.</font></b></i>\n",
    "\n",
    "String having immutable nature. Once we create a string variable then we cannot change or modify it.\n",
    "\n",
    "Ex 9.7 ( String Immutability )"
   ]
  },
  {
   "cell_type": "code",
   "execution_count": 11,
   "id": "44b8801f",
   "metadata": {},
   "outputs": [
    {
     "ename": "TypeError",
     "evalue": "'str' object does not support item assignment",
     "output_type": "error",
     "traceback": [
      "\u001b[1;31m---------------------------------------------------------------------------\u001b[0m",
      "\u001b[1;31mTypeError\u001b[0m                                 Traceback (most recent call last)",
      "Cell \u001b[1;32mIn[11], line 2\u001b[0m\n\u001b[0;32m      1\u001b[0m name \u001b[38;5;241m=\u001b[39m \u001b[38;5;124m\"\u001b[39m\u001b[38;5;124mMichael\u001b[39m\u001b[38;5;124m\"\u001b[39m\n\u001b[1;32m----> 2\u001b[0m name[\u001b[38;5;241m0\u001b[39m] \u001b[38;5;241m=\u001b[39m \u001b[38;5;124m\"\u001b[39m\u001b[38;5;124mP\u001b[39m\u001b[38;5;124m\"\u001b[39m\n\u001b[0;32m      3\u001b[0m \u001b[38;5;28mprint\u001b[39m(name)\n",
      "\u001b[1;31mTypeError\u001b[0m: 'str' object does not support item assignment"
     ]
    }
   ],
   "source": [
    "name = \"Michael\"\n",
    "name[0] = \"P\"\n",
    "print(name)"
   ]
  },
  {
   "cell_type": "markdown",
   "id": "efac4561",
   "metadata": {},
   "source": [
    "## Lesson Three : String Operations (using string operators)\n",
    "💡<i>What if we want to merge two strings?</i>\n",
    "### 1. Concatination ( + )\n",
    "The + operator works like concatenation or joins the strings. While using + operator on string, It is compulsory that both variables should be string type, otherwise we will get an error.\n",
    "\n",
    "<blockquote>\n",
    "Syntax:\n",
    "<code>\n",
    "s1 + s2\n",
    "</code>\n",
    "</blockquote>\n",
    "\n",
    "Ex 9.8 ( Concatenation + Operator )"
   ]
  },
  {
   "cell_type": "code",
   "execution_count": 12,
   "id": "24b652be",
   "metadata": {},
   "outputs": [
    {
     "name": "stdout",
     "output_type": "stream",
     "text": [
      "Michael Jackson\n"
     ]
    }
   ],
   "source": [
    "fn = \"Michael \"\n",
    "ln = \"Jackson\"\n",
    "print(fn + ln)"
   ]
  },
  {
   "cell_type": "markdown",
   "id": "19a4157f",
   "metadata": {},
   "source": [
    "Ex 9.9 ( Concatenation Error )"
   ]
  },
  {
   "cell_type": "code",
   "execution_count": 13,
   "id": "e32dd65a",
   "metadata": {},
   "outputs": [
    {
     "ename": "TypeError",
     "evalue": "can only concatenate str (not \"int\") to str",
     "output_type": "error",
     "traceback": [
      "\u001b[1;31m---------------------------------------------------------------------------\u001b[0m",
      "\u001b[1;31mTypeError\u001b[0m                                 Traceback (most recent call last)",
      "Cell \u001b[1;32mIn[13], line 3\u001b[0m\n\u001b[0;32m      1\u001b[0m fn \u001b[38;5;241m=\u001b[39m \u001b[38;5;124m\"\u001b[39m\u001b[38;5;124mMichael\u001b[39m\u001b[38;5;124m\"\u001b[39m\n\u001b[0;32m      2\u001b[0m num \u001b[38;5;241m=\u001b[39m \u001b[38;5;241m4\u001b[39m\n\u001b[1;32m----> 3\u001b[0m \u001b[38;5;28mprint\u001b[39m(fn \u001b[38;5;241m+\u001b[39m num)\n",
      "\u001b[1;31mTypeError\u001b[0m: can only concatenate str (not \"int\") to str"
     ]
    }
   ],
   "source": [
    "fn = \"Michael\"\n",
    "num = 4\n",
    "print(fn + num)"
   ]
  },
  {
   "cell_type": "markdown",
   "id": "00f73e42",
   "metadata": {},
   "source": [
    "### <b>`EXERCISE 9.3`<b>\n",
    "`Create four string variables \"UPPER\", \"lower\", \"Symbols\", \"digits\" and store uppercase letters, lowercase letters, special symbols and digits(0-9) respectively then create a password which contains all of them?`"
   ]
  },
  {
   "cell_type": "code",
   "execution_count": null,
   "id": "4e771217",
   "metadata": {},
   "outputs": [],
   "source": [
    "# write your answer code here\n"
   ]
  },
  {
   "cell_type": "markdown",
   "id": "f02af594",
   "metadata": {},
   "source": [
    "💡<i>What if we want to duplicate a string?</i>\n",
    "### 2. Multiplication ( * )\n",
    "This is used for string repetition. While using * operator on string, It is compulsory that one variable should be string and other arguments should be int type.\n",
    "\n",
    "<blockquote>\n",
    "Syntax:\n",
    "<code>\n",
    "s * number\n",
    "</code>\n",
    "</blockquote>\n",
    "\n",
    "Ex 9.10 ( Multiplication * Operator )"
   ]
  },
  {
   "cell_type": "code",
   "execution_count": 14,
   "id": "15fe5159",
   "metadata": {},
   "outputs": [
    {
     "name": "stdout",
     "output_type": "stream",
     "text": [
      "Michael Michael Michael Michael \n"
     ]
    }
   ],
   "source": [
    "fn = \"Michael \"\n",
    "rn = 4\n",
    "print(fn * rn)"
   ]
  },
  {
   "cell_type": "markdown",
   "id": "4c4f96cc",
   "metadata": {},
   "source": [
    "Ex 9.11 ( Multiplication Error )"
   ]
  },
  {
   "cell_type": "code",
   "execution_count": 15,
   "id": "999ad369",
   "metadata": {},
   "outputs": [
    {
     "ename": "TypeError",
     "evalue": "can't multiply sequence by non-int of type 'str'",
     "output_type": "error",
     "traceback": [
      "\u001b[1;31m---------------------------------------------------------------------------\u001b[0m",
      "\u001b[1;31mTypeError\u001b[0m                                 Traceback (most recent call last)",
      "Cell \u001b[1;32mIn[15], line 3\u001b[0m\n\u001b[0;32m      1\u001b[0m fn \u001b[38;5;241m=\u001b[39m \u001b[38;5;124m\"\u001b[39m\u001b[38;5;124mMichael\u001b[39m\u001b[38;5;124m\"\u001b[39m\n\u001b[0;32m      2\u001b[0m rn \u001b[38;5;241m=\u001b[39m \u001b[38;5;124m\"\u001b[39m\u001b[38;5;124m4\u001b[39m\u001b[38;5;124m\"\u001b[39m\n\u001b[1;32m----> 3\u001b[0m \u001b[38;5;28mprint\u001b[39m(fn \u001b[38;5;241m*\u001b[39m rn)\n",
      "\u001b[1;31mTypeError\u001b[0m: can't multiply sequence by non-int of type 'str'"
     ]
    }
   ],
   "source": [
    "fn = \"Michael\"\n",
    "rn = \"4\"\n",
    "print(fn * rn)"
   ]
  },
  {
   "cell_type": "markdown",
   "id": "c5a4a5b5",
   "metadata": {},
   "source": [
    "## Lesson Four : String Operations (using string methods)\n",
    "💡<i>What if we want to know no. of characters in a string?</i>\n",
    "### 1. len() method\n",
    "We can find the length of string by using len() function. By using the len() function we can find groups of characters present in a string. The len() function returns int as result.\n",
    "\n",
    "<blockquote>\n",
    "Syntax:\n",
    "<code>\n",
    "len(s)\n",
    "</code>\n",
    "</blockquote>\n",
    "\n",
    "Ex 9.12 ( len() Function )"
   ]
  },
  {
   "cell_type": "code",
   "execution_count": 16,
   "id": "673b86fe",
   "metadata": {},
   "outputs": [
    {
     "name": "stdout",
     "output_type": "stream",
     "text": [
      "Length of string: 7\n"
     ]
    }
   ],
   "source": [
    "fn = \"Michael\"\n",
    "print(\"Length of string:\",len(fn))"
   ]
  },
  {
   "cell_type": "markdown",
   "id": "e97e2c48",
   "metadata": {},
   "source": [
    "### <b>`EXERCISE 9.4`<b>\n",
    "`Create a string variable \"quote\" and store your favorite quote then find length of the quote?`"
   ]
  },
  {
   "cell_type": "code",
   "execution_count": null,
   "id": "681ce6c6",
   "metadata": {},
   "outputs": [],
   "source": [
    "# write your answer code here\n"
   ]
  },
  {
   "cell_type": "markdown",
   "id": "54af8385",
   "metadata": {},
   "source": [
    "💡<i>What if we want to check whether a word / letter / is found in a string?</i>\n",
    "### 2. Membership operators\n",
    "We can check, if a string or character is a member/substring of string or not by using below operators:\n",
    "* in\n",
    "* not in\n",
    "\n",
    "<b>in operator</b> returns True, if the string or character found in the main string.\n",
    "\n",
    "Ex 9.13 ( in operator )"
   ]
  },
  {
   "cell_type": "code",
   "execution_count": 17,
   "id": "b62bf852",
   "metadata": {},
   "outputs": [
    {
     "name": "stdout",
     "output_type": "stream",
     "text": [
      "True\n",
      "False\n",
      "True\n",
      "False\n"
     ]
    }
   ],
   "source": [
    "fn = \"Michael\"\n",
    "print('M' in fn)\n",
    "print('m' in fn)\n",
    "print('Mic' in fn)\n",
    "print('lm' in fn)"
   ]
  },
  {
   "cell_type": "markdown",
   "id": "aa943641",
   "metadata": {},
   "source": [
    "<b>not in operator</b> returns the opposite result of in operator. not in operator returns True, if the string or character is not found in the main string.\n",
    "\n",
    "Ex 9.14 ( not in operator )"
   ]
  },
  {
   "cell_type": "code",
   "execution_count": 19,
   "id": "503a4882",
   "metadata": {},
   "outputs": [
    {
     "name": "stdout",
     "output_type": "stream",
     "text": [
      "False\n",
      "True\n"
     ]
    }
   ],
   "source": [
    "S = \"pair\"\n",
    "print('air' not in S)\n",
    "print('chair' not in S)"
   ]
  },
  {
   "cell_type": "markdown",
   "id": "10c54b44",
   "metadata": {},
   "source": [
    "### <b>`EXERCISE 9.5`<b>\n",
    "`Create a string variable \"name\" and store a string “Yonatan” then remove all vowel letters from the string?`"
   ]
  },
  {
   "cell_type": "code",
   "execution_count": null,
   "id": "930633d2",
   "metadata": {},
   "outputs": [],
   "source": [
    "# write your answer code here\n"
   ]
  },
  {
   "cell_type": "markdown",
   "id": "22b526c0",
   "metadata": {},
   "source": [
    "### 3. Relational Operators\n",
    "We can use the relational operators like >, >=, <, <=, ==, != to compare two strings. While comparing it returns boolean values, either True or False. Comparison will be done based on alphabetical order or dictionary order.\n",
    "\n",
    "Ex 9.15 ( Comparison operators on string ) / User name validation /"
   ]
  },
  {
   "cell_type": "code",
   "execution_count": 20,
   "id": "496d58bc",
   "metadata": {},
   "outputs": [
    {
     "name": "stdout",
     "output_type": "stream",
     "text": [
      "Enter user name:michael\n",
      "Hello michael\n",
      "Welcome to facebook.\n"
     ]
    }
   ],
   "source": [
    "un = \"michael\"\n",
    "i = str(input(\"Enter user name:\"))\n",
    "\n",
    "if i == un:\n",
    "    print(\"Hello\", i)\n",
    "    print(\"Welcome to facebook.\")\n",
    "else:\n",
    "    print(\"Invalid user name!\")"
   ]
  },
  {
   "cell_type": "markdown",
   "id": "755f267f",
   "metadata": {},
   "source": [
    "💡<i>A space is also considered as a character inside a string. Sometimes unnecessary spaces in a string will lead to wrong results.</i>\n",
    "    \n",
    "Ex 9.16 ( White space string Error )"
   ]
  },
  {
   "cell_type": "code",
   "execution_count": 21,
   "id": "005f96c4",
   "metadata": {},
   "outputs": [
    {
     "name": "stdout",
     "output_type": "stream",
     "text": [
      "Enter user name:mic hael \n",
      "Invalid user name!\n"
     ]
    }
   ],
   "source": [
    "un = \"michael\"\n",
    "i = str(input(\"Enter user name:\"))\n",
    "\n",
    "if i == un:\n",
    "    print(\"Hello\", i)\n",
    "    print(\"Welcome to facebook.\")\n",
    "else:\n",
    "    print(\"Invalid user name!\")"
   ]
  },
  {
   "cell_type": "markdown",
   "id": "05c4c1c8",
   "metadata": {},
   "source": [
    "<i><b><font color='blue'>PS. Here _ means/indicates space not underscore.</font></b></i>\n",
    "\n",
    "### 4. strip()\n",
    "Predefined methods to remove spaces in Python\n",
    "* rstrip() - remove spaces at right side of string\n",
    "* lstrip() - remove spaces at left side of string\n",
    "* strip() - remove spaces at left & right sides of string\n",
    "\n",
    "Note: These methods won’t remove the spaces which are in the middle of the string.\n",
    "\n",
    "<blockquote>\n",
    "Syntax:\n",
    "<code>\n",
    "s.strip()\n",
    "</code>\n",
    "</blockquote>\n",
    "\n",
    "Ex 9.17 ( Remove Space from a String )"
   ]
  },
  {
   "cell_type": "code",
   "execution_count": 22,
   "id": "5d5c54c4",
   "metadata": {},
   "outputs": [
    {
     "name": "stdout",
     "output_type": "stream",
     "text": [
      "to get her\n"
     ]
    }
   ],
   "source": [
    "i = \"to get her\"\n",
    "i = i.strip()\n",
    "print(i)"
   ]
  },
  {
   "cell_type": "markdown",
   "id": "df019c60",
   "metadata": {},
   "source": [
    "### <b>`EXERCISE 9.6`<b>\n",
    "`Create username validation program excluding whitespace?`"
   ]
  },
  {
   "cell_type": "code",
   "execution_count": null,
   "id": "febb4099",
   "metadata": {},
   "outputs": [],
   "source": [
    "# write your answer code here\n"
   ]
  },
  {
   "cell_type": "markdown",
   "id": "532bcba4",
   "metadata": {},
   "source": [
    "### Searching Methods\n",
    "We can find a substring in two directions like forward and backward direction. We can use the following 4 methods:\n",
    "\n",
    "For forward direction\n",
    "* find()\n",
    "* index()\n",
    "\n",
    "For backward direction\n",
    "* rfind()\n",
    "* rindex()\n",
    "\n",
    "### 5. find() method\n",
    "This method returns an index of the first occurrence of the given substring.\n",
    "\n",
    "If it is not available, then we will get -1 (minus one) value. By default find() method can search the total string of the object.\n",
    "\n",
    "<blockquote>\n",
    "Syntax:\n",
    "<code>\n",
    "s.find(substring)\n",
    "</code>\n",
    "</blockquote>\n",
    "\n",
    "You can also specify the boundaries while searching.\n",
    "\n",
    "<blockquote>\n",
    "Syntax:\n",
    "<code>\n",
    "s.find(substring, begin, end)\n",
    "</code>\n",
    "</blockquote>\n",
    "\n",
    "<i><b><font color='blue'>PS. It will always search from begin index to end - 1 index.</font></b></i>\n",
    "\n",
    "Ex 9.18 ( finding substring by using find method )"
   ]
  },
  {
   "cell_type": "code",
   "execution_count": 23,
   "id": "7cfe58e2",
   "metadata": {},
   "outputs": [
    {
     "name": "stdout",
     "output_type": "stream",
     "text": [
      "Enter your name: Michael\n",
      "Enter nick name: Mic\n",
      "Mic is found in Michael\n"
     ]
    }
   ],
   "source": [
    "fn = input(\"Enter your name: \")\n",
    "sub = input(\"Enter nick name: \")\n",
    "i = fn.find(sub)\n",
    "\n",
    "if i == -1:\n",
    "    print(sub, \"is not found in\",fn)\n",
    "else:\n",
    "    print(sub, \"is found in\",fn)"
   ]
  },
  {
   "cell_type": "markdown",
   "id": "ec732c26",
   "metadata": {},
   "source": [
    "### <b>`EXERCISE 9.7`<b>\n",
    "`Create a string variable \"quote\" and store your favorite quote then find letter \"x\" in the quote?`"
   ]
  },
  {
   "cell_type": "code",
   "execution_count": null,
   "id": "48e86dd9",
   "metadata": {},
   "outputs": [],
   "source": [
    "# write your answer code here\n"
   ]
  },
  {
   "cell_type": "markdown",
   "id": "9aa8c1e5",
   "metadata": {},
   "source": [
    "### 6. index() method\n",
    "index() method is exactly the same as find() method except that if the specified substring is not available then we will get ValueError. So, we can handle this error in application level.\n",
    "\n",
    "<blockquote>\n",
    "Syntax:\n",
    "<code>\n",
    "s.index(substring)\n",
    "</code>\n",
    "</blockquote>\n",
    "\n",
    "Ex 9.19 ( finding substring by using index method )"
   ]
  },
  {
   "cell_type": "code",
   "execution_count": 24,
   "id": "c4c9fdd8",
   "metadata": {},
   "outputs": [
    {
     "name": "stdout",
     "output_type": "stream",
     "text": [
      "2\n"
     ]
    }
   ],
   "source": [
    "s = \"Together\"\n",
    "print(s.index(\"get\"))"
   ]
  },
  {
   "cell_type": "markdown",
   "id": "7e45a25f",
   "metadata": {},
   "source": [
    "Ex 9.20 ( finding substring by using index method )"
   ]
  },
  {
   "cell_type": "code",
   "execution_count": 25,
   "id": "c64526f4",
   "metadata": {},
   "outputs": [
    {
     "ename": "ValueError",
     "evalue": "substring not found",
     "output_type": "error",
     "traceback": [
      "\u001b[1;31m---------------------------------------------------------------------------\u001b[0m",
      "\u001b[1;31mValueError\u001b[0m                                Traceback (most recent call last)",
      "Cell \u001b[1;32mIn[25], line 2\u001b[0m\n\u001b[0;32m      1\u001b[0m s \u001b[38;5;241m=\u001b[39m \u001b[38;5;124m\"\u001b[39m\u001b[38;5;124mTogether\u001b[39m\u001b[38;5;124m\"\u001b[39m\n\u001b[1;32m----> 2\u001b[0m \u001b[38;5;28mprint\u001b[39m(s\u001b[38;5;241m.\u001b[39mindex(\u001b[38;5;124m\"\u001b[39m\u001b[38;5;124mto\u001b[39m\u001b[38;5;124m\"\u001b[39m))\n",
      "\u001b[1;31mValueError\u001b[0m: substring not found"
     ]
    }
   ],
   "source": [
    "s = \"Together\"\n",
    "print(s.index(\"to\"))"
   ]
  },
  {
   "cell_type": "markdown",
   "id": "6139b262",
   "metadata": {},
   "source": [
    "### <b>`EXERCISE 9.8`<b>\n",
    "`Create a string variable \"quote\" and store your favorite quote then find index of letter \"a\" in the quote?`"
   ]
  },
  {
   "cell_type": "code",
   "execution_count": null,
   "id": "bc2f34db",
   "metadata": {},
   "outputs": [],
   "source": [
    "# write your answer code here\n"
   ]
  },
  {
   "cell_type": "markdown",
   "id": "55a2b2ad",
   "metadata": {},
   "source": [
    "💡<i>What if we want to find total no. of a specific letter or word in a string?</i>\n",
    "\n",
    "### 7. count() method\n",
    "By using count() method we can find the number of occurrences of substring present in the string\n",
    "\n",
    "<blockquote>\n",
    "Syntax:\n",
    "<code>\n",
    "s.count(substring)\n",
    "</code>\n",
    "</blockquote>\n",
    "\n",
    "Ex 9.21 ( count() method )"
   ]
  },
  {
   "cell_type": "code",
   "execution_count": 26,
   "id": "8a99e1c5",
   "metadata": {},
   "outputs": [
    {
     "name": "stdout",
     "output_type": "stream",
     "text": [
      "2\n",
      "0\n"
     ]
    }
   ],
   "source": [
    "fn = \"Michael Jackson\"\n",
    "print(fn.count(\"a\"))\n",
    "print(fn.count(\"j\"))"
   ]
  },
  {
   "cell_type": "markdown",
   "id": "18c7fefa",
   "metadata": {},
   "source": [
    "### <b>`EXERCISE 9.9`<b>\n",
    "`Create a string variable \"name\" and store your name then find no. of vowel letters in your name?`"
   ]
  },
  {
   "cell_type": "code",
   "execution_count": null,
   "id": "010f1354",
   "metadata": {},
   "outputs": [],
   "source": [
    "# write your answer code here\n"
   ]
  },
  {
   "cell_type": "markdown",
   "id": "c9d50350",
   "metadata": {},
   "source": [
    "💡<i>What if we want to replace a letter or word?</i>\n",
    "### 8. replace() method\n",
    "We can replace old string with new string by using replace() method. As we know string is immutable, so replace() method never performs changes on the existing string object. The replace() method creates a new string object, we can check this by using id() method.\n",
    "\n",
    "<blockquote>\n",
    "Syntax:\n",
    "<code>\n",
    "s.replace(old string,new string)\n",
    "</code>\n",
    "</blockquote>\n",
    "\n",
    "Ex 9.22 ( replace a string with another string )"
   ]
  },
  {
   "cell_type": "code",
   "execution_count": 27,
   "id": "e33f4699",
   "metadata": {},
   "outputs": [
    {
     "name": "stdout",
     "output_type": "stream",
     "text": [
      "Java programming language\n",
      "Python programming language\n"
     ]
    }
   ],
   "source": [
    "s1 = \"Java programming language\"\n",
    "s2 = s1.replace(\"Java\", \"Python\")\n",
    "print(s1)\n",
    "print(s2)"
   ]
  },
  {
   "cell_type": "markdown",
   "id": "5f05d1e6",
   "metadata": {},
   "source": [
    "<i><b><font color='red'>Does replace() method modify the string objects?</font></b></i>\n",
    "\n",
    "A big NO. String is immutable. Once we create a string object, we cannot change or modify the existing string object. This behavior is called immutability.\n",
    "\n",
    "If you are trying to change or modify the existing string object, then with those changes a new string object will be created. So, replace() method will create a new string object with the modifications."
   ]
  },
  {
   "cell_type": "markdown",
   "id": "e8209ab1",
   "metadata": {},
   "source": [
    "### <b>`EXERCISE 9.10`<b>\n",
    "`Create a string variable \"email\" and store your gmail then convert it into yahoo mail?`"
   ]
  },
  {
   "cell_type": "code",
   "execution_count": null,
   "id": "08dec890",
   "metadata": {},
   "outputs": [],
   "source": [
    "# write your answer code here\n"
   ]
  },
  {
   "cell_type": "markdown",
   "id": "3a7ac1dd",
   "metadata": {},
   "source": [
    "💡<i>What if we want to split a string?</i>\n",
    "### 9. split() method\n",
    "We can split the given string according to the specified separator by using split() method. The default separator is space. split() method returns list.\n",
    "\n",
    "<blockquote>\n",
    "Syntax:\n",
    "<code>\n",
    "new_string = s.split(separator)\n",
    "</code>\n",
    "</blockquote>\n",
    "\n",
    "Ex 9.23 ( Splitting a string )"
   ]
  },
  {
   "cell_type": "code",
   "execution_count": 29,
   "id": "83bbd01a",
   "metadata": {},
   "outputs": [
    {
     "name": "stdout",
     "output_type": "stream",
     "text": [
      "Before split: to get her\n",
      "After split: ['to', 'get', 'her']\n",
      "<class 'list'>\n"
     ]
    }
   ],
   "source": [
    "s = \"to get her\"\n",
    "split_s = s.split()\n",
    "print(\"Before split:\",s)\n",
    "print(\"After split:\",split_s)\n",
    "print(type(split_s))"
   ]
  },
  {
   "cell_type": "markdown",
   "id": "b340b4bb",
   "metadata": {},
   "source": [
    "Ex 9.24 ( Splitting a string based on separator )"
   ]
  },
  {
   "cell_type": "code",
   "execution_count": 30,
   "id": "a144fe72",
   "metadata": {},
   "outputs": [
    {
     "name": "stdout",
     "output_type": "stream",
     "text": [
      "['Michael', ' He was good Artist.']\n",
      "<class 'list'>\n"
     ]
    }
   ],
   "source": [
    "text = \"Michael, He was good Artist.\"\n",
    "n = text.split(\",\")\n",
    "print(n)\n",
    "print(type(n))"
   ]
  },
  {
   "cell_type": "markdown",
   "id": "306fee2d",
   "metadata": {},
   "source": [
    "### <b>`EXERCISE 9.11`<b>\n",
    "`Create a string variable \"name\" and store your full name then split it?`"
   ]
  },
  {
   "cell_type": "code",
   "execution_count": null,
   "id": "1df459c1",
   "metadata": {},
   "outputs": [],
   "source": [
    "# write your answer code here\n"
   ]
  },
  {
   "cell_type": "markdown",
   "id": "ff45ea53",
   "metadata": {},
   "source": [
    "💡<i>What if we want to join the two splitted strings?</i>\n",
    "### 10. join() method\n",
    "We can join a group of strings (list or tuple) with respect to the given separator.\n",
    "\n",
    "<blockquote>\n",
    "Syntax:\n",
    "<code>\n",
    "s = separator.join(A)\n",
    "</code>\n",
    "</blockquote>\n",
    "\n",
    "<i><b><font color='blue'>PS. variable “A” can be any sequence data type.</font></b></i>\n",
    "\n",
    "Ex 9.25 ( joining a string )"
   ]
  },
  {
   "cell_type": "code",
   "execution_count": 31,
   "id": "a0ff6db3",
   "metadata": {},
   "outputs": [
    {
     "name": "stdout",
     "output_type": "stream",
     "text": [
      "['to', 'get', 'her']\n",
      "to-get-her\n"
     ]
    }
   ],
   "source": [
    "split_s = ['to','get','her']\n",
    "s = '-'.join(split_s)\n",
    "print(split_s)\n",
    "print(s)"
   ]
  },
  {
   "cell_type": "markdown",
   "id": "f2260712",
   "metadata": {},
   "source": [
    "### <b>`EXERCISE 9.12`<b>\n",
    "`Create a list variable \"name\" and store your first name, your middle name and surname then join it?`"
   ]
  },
  {
   "cell_type": "code",
   "execution_count": null,
   "id": "ae355d89",
   "metadata": {},
   "outputs": [],
   "source": [
    "# write your answer code here\n"
   ]
  },
  {
   "cell_type": "markdown",
   "id": "9dbc8a29",
   "metadata": {},
   "source": [
    "💡<i>What if we want to change cases of a string?</i>\n",
    "### Changing cases of string\n",
    "* <b>upper()</b> – This method converts all characters into upper case\n",
    "* <b>lower()</b> – This method converts all characters into lower case\n",
    "* <b>swapcase()</b> – This method converts all lower-case characters to uppercase and all upper-case characters to lowercase\n",
    "* <b>title()</b> – This method converts all character to title case (First character in every word will be in upper case and all remaining characters will be in lower case)\n",
    "* <b>capitalize()</b> – Only the first character will be converted to upper case and all remaining characters can be converted to lowercase.\n",
    "\n",
    "Ex 9.26 ( Changing cases )"
   ]
  },
  {
   "cell_type": "code",
   "execution_count": 32,
   "id": "d76e7217",
   "metadata": {},
   "outputs": [
    {
     "name": "stdout",
     "output_type": "stream",
     "text": [
      "MICHAEL JACKSON\n",
      "michael jackson\n",
      "mIChAeL JacKSon\n",
      "Michael Jackson\n",
      "Michael jackson\n"
     ]
    }
   ],
   "source": [
    "fn = 'MicHaEl jACksON'\n",
    "print(fn.upper())\n",
    "print(fn.lower())\n",
    "print(fn.swapcase())\n",
    "print(fn.title())\n",
    "print(fn.capitalize())"
   ]
  },
  {
   "cell_type": "markdown",
   "id": "d08546fd",
   "metadata": {},
   "source": [
    "### Password Validation\n",
    "Ex 9.27 ( Password Validation )"
   ]
  },
  {
   "cell_type": "code",
   "execution_count": 34,
   "id": "2323d58c",
   "metadata": {},
   "outputs": [
    {
     "name": "stdout",
     "output_type": "stream",
     "text": [
      "Enter Password: 123AVBsaf#$\n",
      "Password set Successfully\n"
     ]
    }
   ],
   "source": [
    "p = str(input(\"Enter Password: \"))\n",
    "\n",
    "if len(p) > 8:\n",
    "    if p.islower()==False:\n",
    "        if p.isupper()==False:\n",
    "            if p.isdigit()==False:\n",
    "                print('Password set Successfully')\n",
    "            else:\n",
    "                print('No Digit')\n",
    "                del p\n",
    "        else:\n",
    "            print('No Uppercase')\n",
    "            del p\n",
    "    else:\n",
    "        print('No Lowercase')\n",
    "        del p\n",
    "else:\n",
    "    print('Less Characters')"
   ]
  },
  {
   "cell_type": "markdown",
   "id": "03395acc",
   "metadata": {},
   "source": [
    "### <b>`EXERCISE 9.13`<b>\n",
    "`Create a Instagram username validation program?`\n",
    "    \n",
    "`Rules:`\n",
    "    \n",
    "* Minimum 5 characters\n",
    "* Maximum 10 characters\n",
    "* Only lowercase letters\n",
    "* Underscore and dot is allowed\n",
    "* Whitespace, symbol are not allowed"
   ]
  },
  {
   "cell_type": "code",
   "execution_count": null,
   "id": "a1796bd8",
   "metadata": {},
   "outputs": [],
   "source": [
    "# write your answer code here\n"
   ]
  },
  {
   "cell_type": "markdown",
   "id": "e4d9d0c0",
   "metadata": {},
   "source": [
    "### <font color='red'>Finally What about Character data type?</font>\n",
    "If a single character stands alone then we can say that is a single character. For example: M for Male F for Female.\n",
    "\n",
    "In other programming languages char data type represents the character type, but in python there is no specific data type to represent characters. We can fulfill this requirement by taking a single character in single quotes. A single character also represents as string type in python.\n",
    "\n",
    "Ex 9.28 ( Character data type )"
   ]
  },
  {
   "cell_type": "code",
   "execution_count": 35,
   "id": "7b8d3156",
   "metadata": {},
   "outputs": [
    {
     "name": "stdout",
     "output_type": "stream",
     "text": [
      "M\n",
      "F\n",
      "<class 'str'>\n",
      "<class 'str'>\n"
     ]
    }
   ],
   "source": [
    "gender1 = \"M\"\n",
    "gender2 = \"F\"\n",
    "print(gender1)\n",
    "print(gender2)\n",
    "print(type(gender1))\n",
    "print(type(gender2))"
   ]
  },
  {
   "cell_type": "markdown",
   "id": "dbfca8ba",
   "metadata": {},
   "source": [
    "# // END OF CHAPTER NINE\n",
    "<a href=\"https://www.linkedin.com/in/bemnetdev/\">Click here</a> for Chapter Ten"
   ]
  }
 ],
 "metadata": {
  "kernelspec": {
   "display_name": "Python 3 (ipykernel)",
   "language": "python",
   "name": "python3"
  },
  "language_info": {
   "codemirror_mode": {
    "name": "ipython",
    "version": 3
   },
   "file_extension": ".py",
   "mimetype": "text/x-python",
   "name": "python",
   "nbconvert_exporter": "python",
   "pygments_lexer": "ipython3",
   "version": "3.11.5"
  }
 },
 "nbformat": 4,
 "nbformat_minor": 5
}
